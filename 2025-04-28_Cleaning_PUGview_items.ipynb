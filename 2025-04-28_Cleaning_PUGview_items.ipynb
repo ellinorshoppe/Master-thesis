{
 "cells": [
  {
   "cell_type": "markdown",
   "metadata": {},
   "source": [
    "# Cleaning boiling points from PubChems PUG-view\n",
    "\n",
    "Here the fetched bioling points for the compounds in the PubChemLite dataset be cleaned. "
   ]
  },
  {
   "cell_type": "code",
   "execution_count": null,
   "metadata": {},
   "outputs": [],
   "source": [
    "%pip install rdkit"
   ]
  },
  {
   "cell_type": "code",
   "execution_count": null,
   "metadata": {},
   "outputs": [],
   "source": [
    "import pandas as pd\n",
    "import numpy as np\n",
    "\n",
    "import pickle\n",
    "import re"
   ]
  },
  {
   "cell_type": "code",
   "execution_count": null,
   "metadata": {},
   "outputs": [],
   "source": [
    "with open('2025-04-22_PubChemLite_spectral_data.pkl', 'rb') as f:\n",
    "    pcl = pickle.load(f)"
   ]
  },
  {
   "cell_type": "code",
   "execution_count": null,
   "metadata": {},
   "outputs": [],
   "source": [
    "pcl"
   ]
  },
  {
   "cell_type": "code",
   "execution_count": null,
   "metadata": {},
   "outputs": [],
   "source": []
  },
  {
   "cell_type": "code",
   "execution_count": null,
   "metadata": {},
   "outputs": [],
   "source": [
    "pcl.head()"
   ]
  },
  {
   "cell_type": "code",
   "execution_count": null,
   "metadata": {},
   "outputs": [],
   "source": [
    "pcl_head = pcl.head(1000).copy()"
   ]
  },
  {
   "cell_type": "code",
   "execution_count": null,
   "metadata": {},
   "outputs": [],
   "source": [
    "numbers = [1,2,3,4]\n",
    "\n",
    "mean_number = np.mean(numbers)\n",
    "mean_number"
   ]
  },
  {
   "cell_type": "code",
   "execution_count": null,
   "metadata": {},
   "outputs": [],
   "source": [
    "#written by ChatGPT\n",
    "import re\n",
    "import numpy as np\n",
    "\n",
    "number_pattern = re.compile(r'[-+]?\\d*\\.\\d+|\\d+')\n",
    "pressure_pattern = re.compile(\n",
    "    r'(?P<value>\\d+\\.?\\d*)\\s*(?P<unit>mm\\s*hg|torr|atm|kpa|pa)',\n",
    "    re.IGNORECASE\n",
    ")\n",
    "\n",
    "def fahrenheit_to_celsius(f):\n",
    "    return (f - 32) * 5 / 9\n",
    "\n",
    "def pressure_is_ok(value, unit):\n",
    "    unit = unit.lower().replace(\" \", \"\")\n",
    "    value = float(value)\n",
    "\n",
    "    if unit in ['mmhg', 'torr']:\n",
    "        return 750 <= value <= 770\n",
    "    elif unit == 'atm':\n",
    "        return 0.95 <= value <= 1.05\n",
    "    elif unit == 'kpa':\n",
    "        return 99 <= value <= 103  # Roughly ±2%\n",
    "    elif unit == 'pa':\n",
    "        return 99000 <= value <= 103000  # Around 101325 Pa\n",
    "    return False  # Unknown unit\n",
    "\n",
    "def extract_boiling_point(entries):\n",
    "    boiling_points = []\n",
    "\n",
    "    for entry in entries:\n",
    "        if not entry:\n",
    "            continue\n",
    "\n",
    "        # Extract number strings and convert to float\n",
    "        numbers = number_pattern.findall(entry)\n",
    "        float_numbers = list(map(float, numbers))\n",
    "\n",
    "        # Filter to plausible temperature range\n",
    "        plausible_values = [n for n in float_numbers if n != 1992]\n",
    "\n",
    "        # If 'sublime' and no plausible values → skip\n",
    "        if 'sublime' in entry.lower() and not plausible_values:\n",
    "            continue\n",
    "\n",
    "        # Check pressure\n",
    "        pressure_match = pressure_pattern.search(entry)\n",
    "        if pressure_match:\n",
    "            pressure_val = pressure_match.group('value')\n",
    "            pressure_unit = pressure_match.group('unit')\n",
    "            if not pressure_is_ok(pressure_val, pressure_unit):\n",
    "                continue\n",
    "\n",
    "        # Fahrenheit?\n",
    "        is_fahrenheit = '°f' in entry.lower()\n",
    "\n",
    "        if plausible_values:\n",
    "            if (re.search(r'\\bto\\b', entry.lower()) or re.search(r'\\d\\s*[-–]\\s*\\d', entry)) and len(plausible_values) >= 2:\n",
    "                mean_value = np.mean(plausible_values[:2])\n",
    "            else:\n",
    "                mean_value = plausible_values[0]\n",
    "\n",
    "            if is_fahrenheit:\n",
    "                mean_value = fahrenheit_to_celsius(mean_value)\n",
    "\n",
    "            boiling_points.append(mean_value)\n",
    "\n",
    "    mean_boiling_point = np.mean(boiling_points) if boiling_points else np.nan\n",
    "\n",
    "    return mean_boiling_point"
   ]
  },
  {
   "cell_type": "code",
   "execution_count": null,
   "metadata": {},
   "outputs": [],
   "source": [
    "pcl['boiling_point_matched_cleaned'] = pcl['boiling_point_matched'].apply(lambda x: extract_boiling_point(x) if isinstance(x, list) else np.nan)\n",
    "\n",
    "pcl"
   ]
  },
  {
   "cell_type": "code",
   "execution_count": null,
   "metadata": {},
   "outputs": [],
   "source": [
    "pcl_visualize = pcl[['name', 'pubchem_cid', 'SMILES_pubchem', 'SMILES', 'ROMol','InChIKey', 'InChIKey14', 'XLogP_pubchem', 'gcms_spectra','lcms_spectra', 'boiling_point_matched', 'boiling_point_matched_cleaned', 'monoisotopic_mass']].copy()"
   ]
  },
  {
   "cell_type": "code",
   "execution_count": null,
   "metadata": {},
   "outputs": [],
   "source": [
    "with open('2025-04-29_pcl_visualization_dataframe.pkl', 'wb') as f:\n",
    "    pickle.dump(pcl_visualize, f)"
   ]
  }
 ],
 "metadata": {
  "kernelspec": {
   "display_name": "pubchem_cleaning",
   "language": "python",
   "name": "python3"
  },
  "language_info": {
   "codemirror_mode": {
    "name": "ipython",
    "version": 3
   },
   "file_extension": ".py",
   "mimetype": "text/x-python",
   "name": "python",
   "nbconvert_exporter": "python",
   "pygments_lexer": "ipython3",
   "version": "3.13.2"
  }
 },
 "nbformat": 4,
 "nbformat_minor": 2
}
