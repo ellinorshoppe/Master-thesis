{
 "cells": [
  {
   "cell_type": "markdown",
   "id": "fd608a6b",
   "metadata": {},
   "source": [
    "# PubChemLite visualizations\n",
    "Here the PubChemLite (PCL) visualizations will be made using UMAP. "
   ]
  },
  {
   "cell_type": "code",
   "execution_count": null,
   "id": "7190d5fc",
   "metadata": {},
   "outputs": [],
   "source": [
    "import pandas as pd\n",
    "\n",
    "import pickle"
   ]
  },
  {
   "cell_type": "code",
   "execution_count": null,
   "id": "74555def",
   "metadata": {},
   "outputs": [],
   "source": [
    "#pcl dataset with labels\n",
    "with open('2025-04-29_pcl_visualization_dataframe.pkl', 'rb') as f:\n",
    "    pcl = pickle.load(f)\n",
    "\n",
    "#pcl dataset with SIRIUS fingerprints\n",
    "pcl_umap_coord = pd.read_csv('PubChemLite_20250415_SIRIUS5_positiveFP_UMAP_coordinates.tsv', sep='\\t')\n",
    "\n",
    "with open('/Users/elli/Library/CloudStorage/OneDrive-Kruvelab/Ellinor - Master thesis/Data/Tox21/2025-03-12_Tox21_remade_fp.pkl', 'rb') as f:\n",
    "    tox21 = pickle.load(f)"
   ]
  },
  {
   "cell_type": "code",
   "execution_count": null,
   "id": "549016fc",
   "metadata": {},
   "outputs": [],
   "source": [
    "pcl.head()"
   ]
  },
  {
   "cell_type": "code",
   "execution_count": null,
   "id": "d2248d8f",
   "metadata": {},
   "outputs": [],
   "source": [
    "pcl_umap_coord.head()"
   ]
  },
  {
   "cell_type": "code",
   "execution_count": null,
   "id": "d6f9f029",
   "metadata": {},
   "outputs": [],
   "source": [
    "tox21['tox21'] = True\n",
    "\n",
    "tox21"
   ]
  },
  {
   "cell_type": "markdown",
   "id": "9e0ae704",
   "metadata": {},
   "source": [
    "### Cleaning of coordinate SMILES"
   ]
  },
  {
   "cell_type": "code",
   "execution_count": null,
   "id": "2b82c5b3",
   "metadata": {},
   "outputs": [],
   "source": [
    "import rdkit\n",
    "from rdkit import Chem, rdBase, RDLogger, DataStructs\n",
    "RDLogger.DisableLog('rdApp.*')\n",
    "from rdkit.Chem import AllChem, Draw, inchi, rdDepictor, PandasTools, SaltRemover, Descriptors\n",
    "from rdkit.Chem.Draw import IPythonConsole, rdMolDraw2D\n",
    "from rdkit.Chem.MolStandardize import rdMolStandardize"
   ]
  },
  {
   "cell_type": "code",
   "execution_count": null,
   "id": "29fa5184",
   "metadata": {},
   "outputs": [],
   "source": [
    "PandasTools.AddMoleculeColumnToFrame(pcl_umap_coord, smilesCol='SMILES_pug', molCol='ROMol')"
   ]
  },
  {
   "cell_type": "code",
   "execution_count": null,
   "id": "547ba33f",
   "metadata": {},
   "outputs": [],
   "source": [
    "pcl_umap_coord_nona = pcl_umap_coord[~pcl_umap_coord.ROMol.isna()]"
   ]
  },
  {
   "cell_type": "markdown",
   "id": "ac7d12fb",
   "metadata": {},
   "source": [
    "Two compounds needed to be removed, as they had a disallowed SMILES description. When searching for them in PubChem, it was described that these two compounds () had a disallowed valence conformation according to MMFF94."
   ]
  },
  {
   "cell_type": "code",
   "execution_count": null,
   "id": "bf4aae7c",
   "metadata": {},
   "outputs": [],
   "source": [
    "uncharger = rdMolStandardize.Uncharger()  # neutralize the molecule (if possible)\n",
    "pcl_umap_coord_nona['ROMol'] = pcl_umap_coord_nona.ROMol.apply(lambda x: uncharger.uncharge(x))\n",
    "\n",
    "pcl_umap_coord_nona.ROMol.apply(lambda x: Chem.RemoveStereochemistry(x)) #Remove stereochemistry\n",
    "pcl_umap_coord_nona['SMILES'] = pcl_umap_coord_nona.ROMol.apply(lambda x: Chem.MolToSmiles(x)) #Update SMILES\n",
    "pcl_umap_coord_nona['InChIKey'] = pcl_umap_coord_nona.ROMol.apply(lambda x: inchi.MolToInchiKey(x)) #Generate InChIKey\n",
    "pcl_umap_coord_nona['InChIKey14'] = pcl_umap_coord_nona.InChIKey.apply(lambda x: x.split('-')[0]) #Generate InChIKey14"
   ]
  },
  {
   "cell_type": "code",
   "execution_count": null,
   "id": "eb4c91b4",
   "metadata": {},
   "outputs": [],
   "source": [
    "pcl_merged = pd.merge(pcl, pcl_umap_coord_nona[['InChIKey14', 'x_axis', 'y_axis']], on='InChIKey14', how='inner')"
   ]
  },
  {
   "cell_type": "code",
   "execution_count": null,
   "id": "ac6f0239",
   "metadata": {},
   "outputs": [],
   "source": [
    "pcl_merged"
   ]
  },
  {
   "cell_type": "code",
   "execution_count": null,
   "id": "20d2c643",
   "metadata": {},
   "outputs": [],
   "source": [
    "pcl_merged = pd.merge(pcl_merged, tox21[['InChIKey14', 'tox21', 'nr.ahr', 'sr.mmp']], on='InChIKey14', how='left')"
   ]
  },
  {
   "cell_type": "code",
   "execution_count": null,
   "id": "ce1f20f9",
   "metadata": {},
   "outputs": [],
   "source": [
    "pcl_merged[pcl_merged.tox21.notna()]"
   ]
  },
  {
   "cell_type": "code",
   "execution_count": null,
   "id": "a31c8614",
   "metadata": {},
   "outputs": [],
   "source": [
    "# with open('2025-05-07_pcl_vis_final.pkl', 'wb') as f:\n",
    "#     pickle.dump(pcl_merged, f)"
   ]
  },
  {
   "cell_type": "markdown",
   "id": "e5798cf5",
   "metadata": {},
   "source": [
    "### Visualizations"
   ]
  },
  {
   "cell_type": "code",
   "execution_count": null,
   "id": "ee2660eb",
   "metadata": {},
   "outputs": [],
   "source": [
    "with open('2025-05-07_pcl_vis_final.pkl', 'rb') as f:\n",
    "    pcl_merged = pickle.load(f)"
   ]
  },
  {
   "cell_type": "code",
   "execution_count": null,
   "id": "95c163f8",
   "metadata": {},
   "outputs": [],
   "source": [
    "pcl_merged"
   ]
  },
  {
   "cell_type": "code",
   "execution_count": null,
   "id": "2f5f300c",
   "metadata": {},
   "outputs": [],
   "source": [
    "pcl_merged.gcms_spectra.sum(), pcl_merged.lcms_spectra.sum()"
   ]
  },
  {
   "cell_type": "code",
   "execution_count": null,
   "id": "75dc8aec",
   "metadata": {},
   "outputs": [],
   "source": [
    "import matplotlib.pyplot as plt\n",
    "import matplotlib.axes as axes\n",
    "import matplotlib.lines as mlines\n",
    "from matplotlib.font_manager import FontProperties\n",
    "\n",
    "import matplotlib\n",
    "import seaborn as sns"
   ]
  },
  {
   "cell_type": "code",
   "execution_count": null,
   "id": "80473ced",
   "metadata": {},
   "outputs": [],
   "source": [
    "# Tox21 data\n",
    "pcl_tox21 = pcl_merged[pcl_merged.tox21.notna()]\n",
    "pcl_no_tox21 = pcl_merged[pcl_merged.tox21.isna()]\n",
    "\n",
    "pcl_tox21_ahr_active = pcl_merged[pcl_merged['nr.ahr']==1]    #ahr active\n",
    "pcl_tox21_ahr_inactive = pcl_merged[pcl_merged['nr.ahr']==0]   #ahr inactive\n",
    "pcl_no_tox21_ahr = pcl_merged[pcl_merged['nr.ahr'].isna()|(pcl_merged['nr.ahr']==-999999)]\n",
    "\n",
    "pcl_tox21_mmp_active = pcl_merged[pcl_merged['sr.mmp']==1]    #mmp active\n",
    "pcl_tox21_mmp_inactive = pcl_merged[pcl_merged['sr.mmp']==0]    #mmp inactive\n",
    "pcl_no_tox21_ahr = pcl_merged[pcl_merged['sr.mmp'].isna()|(pcl_merged['sr.mmp']==-999999)]\n",
    "\n",
    "# GC/LC availability data\n",
    "gc_true = pcl_merged[pcl_merged['gcms_spectra'] == True]\n",
    "gc_false = pcl_merged[pcl_merged['gcms_spectra'] == False]\n",
    "\n",
    "lc_true = pcl_merged[pcl_merged['lcms_spectra'] == True]\n",
    "lc_false = pcl_merged[pcl_merged['lcms_spectra'] == False]\n",
    "\n",
    "#LoGP data\n",
    "pcl_merged['XLogP_pubchem'] = pcl_merged['XLogP_pubchem'].astype(float)\n",
    "\n",
    "xlogp = pcl_merged[pcl_merged['XLogP_pubchem'].notna()]\n",
    "no_xlogp = pcl_merged[pcl_merged['XLogP_pubchem'].isna()]\n",
    "print(f'Describe xlogp:\\n{xlogp['XLogP_pubchem'].describe()}')\n",
    "\n",
    "#BP data\n",
    "bp = pcl_merged[pcl_merged['boiling_point_matched_cleaned'].notna()]\n",
    "not_bp = pcl_merged[pcl_merged['boiling_point_matched_cleaned'].isna()]\n",
    "print(f'Describe bp:\\n{bp['boiling_point_matched_cleaned'].describe()}')"
   ]
  },
  {
   "cell_type": "code",
   "execution_count": null,
   "id": "610089fb",
   "metadata": {},
   "outputs": [],
   "source": [
    "print(f'XLogP\\n90% qunatile:\\n {xlogp[\"XLogP_pubchem\"].quantile(0.9)}\\n10% qunatile:\\n {xlogp[\"XLogP_pubchem\"].quantile(0.1)}')\n",
    "print(f'Boiling point\\n90% qunatile:\\n {bp[\"boiling_point_matched_cleaned\"].quantile(0.9)}\\n10% qunatile:\\n {bp[\"boiling_point_matched_cleaned\"].quantile(0.1)}')"
   ]
  },
  {
   "cell_type": "markdown",
   "id": "a5587a4d",
   "metadata": {},
   "source": [
    "#### Add all plots into one plot"
   ]
  },
  {
   "cell_type": "code",
   "execution_count": null,
   "id": "b616befb",
   "metadata": {},
   "outputs": [],
   "source": [
    "#PCL original plot\n",
    "def pcl_plot(ax):\n",
    "    ax.scatter(pcl_merged.x_axis, \n",
    "                pcl_merged.y_axis,\n",
    "                alpha=0.2,\n",
    "                s=0.7,\n",
    "                c='#023047'\n",
    "                )\n",
    "\n",
    "    ax.set_title('Original PubChemLite UMAP projection', fontweight='normal',\n",
    "                 fontsize=14)\n",
    "\n",
    "    ax.set_aspect('equal', adjustable='box')"
   ]
  },
  {
   "cell_type": "code",
   "execution_count": null,
   "id": "c5070e35",
   "metadata": {},
   "outputs": [],
   "source": [
    "# GC/LC availability plots\n",
    "def gc_plot(ax):\n",
    "    ax.scatter(gc_false.x_axis, \n",
    "                gc_false.y_axis, \n",
    "                alpha=0.2, \n",
    "                s=0.7,\n",
    "                label = 'GCMS-spectra not available',\n",
    "                c='#023047'\n",
    "                )\n",
    "\n",
    "    ax.scatter(gc_true.x_axis, \n",
    "                gc_true.y_axis, \n",
    "                alpha=0.2, \n",
    "                s=0.7,\n",
    "                label = 'GCMS-spectra available',\n",
    "                c='#8ECAE6'\n",
    "                )\n",
    "\n",
    "    ax.set_title('D.', loc='left', fontweight='bold',\n",
    "                 fontsize=14)\n",
    "\n",
    "    legend_handles = [\n",
    "        mlines.Line2D([], [], color='#8ECAE6', marker='o', linestyle='None', markersize=5, label='GCMS-spectra available', alpha=1)\n",
    "    ]\n",
    "\n",
    "    ax.legend(handles=legend_handles, \n",
    "            loc='upper right')\n",
    "\n",
    "    ax.set_aspect('equal', adjustable='box')\n",
    "\n",
    "def lc_plot(ax):\n",
    "    ax.scatter(lc_false.x_axis, \n",
    "                lc_false.y_axis, \n",
    "                alpha=0.2, \n",
    "                s=0.7,\n",
    "                c='#023047'\n",
    "                )\n",
    "\n",
    "    ax.scatter(lc_true.x_axis, \n",
    "                lc_true.y_axis, \n",
    "                alpha=0.5, \n",
    "                s=0.7,\n",
    "                c='#219EBC'\n",
    "                )\n",
    "\n",
    "    ax.set_title('E.', loc='left', fontweight='bold',\n",
    "                 fontsize=14)\n",
    "\n",
    "    legend_handles = [\n",
    "        mlines.Line2D([], [], color='#219EBC', marker='o', linestyle='None', markersize=5, label='LCMS-spectra available', alpha=1)\n",
    "    ]\n",
    "\n",
    "    title_font = FontProperties()\n",
    "    title_font.set_weight('bold')\n",
    "\n",
    "    ax.legend(handles=legend_handles, \n",
    "            loc='upper right')\n",
    "\n",
    "    ax.set_aspect('equal', adjustable='box') "
   ]
  },
  {
   "cell_type": "code",
   "execution_count": null,
   "id": "45dabe56",
   "metadata": {},
   "outputs": [],
   "source": [
    "# Make custom gradient for colorbar\n",
    "from matplotlib.colors import LinearSegmentedColormap\n",
    "\n",
    "colors = ['#023047','#219EBC', '#8ECAE6', '#FFB703', '#FB8500']\n",
    "\n",
    "custom_cmap = LinearSegmentedColormap.from_list(\"my_colormap\", colors, N=256)\n",
    "\n",
    "# Use it in a plot\n",
    "plt.imshow([[0,1]], cmap=custom_cmap)\n",
    "plt.colorbar()\n",
    "plt.title(\"Custom Color Gradient\")\n",
    "plt.axis('off')\n",
    "plt.show()"
   ]
  },
  {
   "cell_type": "code",
   "execution_count": null,
   "id": "8a731c25",
   "metadata": {},
   "outputs": [],
   "source": [
    "# XLogP and BP plots\n",
    "def xlogp_plot(ax):\n",
    "\n",
    "    # Grey points (without XLogP values)\n",
    "    ax.scatter(\n",
    "        no_xlogp.x_axis,\n",
    "        no_xlogp.y_axis,\n",
    "        color='grey',\n",
    "        alpha=0.2,\n",
    "        label='No XLogP',\n",
    "        s=0.2\n",
    "    )\n",
    "\n",
    "        # Color-coded points (with XLogP values)\n",
    "    scatter_with_xlogp = ax.scatter(\n",
    "        xlogp.x_axis,\n",
    "        xlogp.y_axis,\n",
    "        c=xlogp.XLogP_pubchem,\n",
    "        cmap=custom_cmap,\n",
    "        vmin=0,\n",
    "        vmax=10,\n",
    "        alpha=1,\n",
    "        s = 0.5\n",
    "    )\n",
    "\n",
    "    ax.set_title('F.', loc='left', fontweight='bold',\n",
    "                 fontsize=14)\n",
    "\n",
    "    # Add colorbar\n",
    "    #ax.colorbar(scatter_with_xlogp, label='XLogP (PubChem)')\n",
    "\n",
    "    legend_handles = [\n",
    "        mlines.Line2D([], [], color='grey', marker='o', linestyle='None', markersize=5, label='No available data', alpha=1)\n",
    "    ]\n",
    "\n",
    "    ax.legend(handles=legend_handles, \n",
    "            loc='upper right')\n",
    "\n",
    "    ax.set_aspect('equal', adjustable='box')\n",
    "\n",
    "def bp_plot(ax):\n",
    "    # Grey points (without XLogP values)\n",
    "    ax.scatter(\n",
    "        not_bp.x_axis,\n",
    "        not_bp.y_axis,\n",
    "        color='grey',\n",
    "        alpha=0.1,\n",
    "        label='No XLogP',\n",
    "        s=0.2\n",
    "    )\n",
    "\n",
    "    # Color-coded points (with XLogP values)\n",
    "    scatter_with_bp = ax.scatter(\n",
    "        bp.x_axis,\n",
    "        bp.y_axis,\n",
    "        c=bp.boiling_point_matched_cleaned,\n",
    "        cmap=custom_cmap,\n",
    "        vmax=366.4,\n",
    "        vmin=92.94,\n",
    "        alpha=1,\n",
    "        s = 0.7\n",
    "    )\n",
    "\n",
    "    # Labels and title\n",
    "    ax.set_title('G.',loc='left', fontweight='bold',\n",
    "                 fontsize=14)\n",
    "\n",
    "    # Add colorbar\n",
    "    #plt.colorbar(scatter_with_bp, label='Boiling point (PubChem)')\n",
    "\n",
    "    legend_handles = [\n",
    "        mlines.Line2D([], [], color='grey', marker='o', linestyle='None', markersize=5, label='No available data', alpha=1)\n",
    "    ]\n",
    "\n",
    "    title_font = FontProperties()\n",
    "    title_font.set_weight('bold')\n",
    "\n",
    "    ax.legend(handles=legend_handles, \n",
    "            loc='upper right',\n",
    "            title_fontproperties=title_font)\n",
    "\n",
    "    ax.set_aspect('equal', adjustable='box')\n"
   ]
  },
  {
   "cell_type": "code",
   "execution_count": null,
   "id": "d3a25315",
   "metadata": {},
   "outputs": [],
   "source": [
    "color_dict = {'active':'#FB8500',\n",
    "              'inactive':'#219EBC'}"
   ]
  },
  {
   "cell_type": "code",
   "execution_count": null,
   "id": "fba5f0d1",
   "metadata": {},
   "outputs": [],
   "source": [
    "\n",
    "# Tox21 plots \n",
    "\n",
    "def tox21_plot(ax):\n",
    "    ax.scatter(pcl_no_tox21.x_axis,\n",
    "                pcl_no_tox21.y_axis,\n",
    "                alpha=0.2,\n",
    "                s = 0.7,\n",
    "                c='#023047'\n",
    "                )\n",
    "\n",
    "    # Grey points (without XLogP values)\n",
    "    ax.scatter( pcl_tox21.x_axis,\n",
    "                pcl_tox21.y_axis,\n",
    "                alpha=0.5,\n",
    "                s=0.7,\n",
    "                c='#FB8500'\n",
    "            )\n",
    "\n",
    "    ax.set_title('A.', loc='left', fontweight='bold',\n",
    "                 fontsize=14)\n",
    "\n",
    "\n",
    "    legend_handles = [\n",
    "        mlines.Line2D([], [], color='#FB8500', marker='o', linestyle='None', markersize=5, label='Tox21', alpha=1)\n",
    "    ]\n",
    "\n",
    "    ax.legend(handles=legend_handles, \n",
    "            loc='upper right')\n",
    "\n",
    "    ax.set_aspect('equal', adjustable='box')\n",
    "\n",
    "def tox21_AHR_plot(ax):\n",
    "    # Grey points (without XLogP values)\n",
    "    ax.scatter(\n",
    "        pcl_no_tox21_ahr.x_axis,\n",
    "        pcl_no_tox21_ahr.y_axis,\n",
    "        color='#023047',\n",
    "        alpha=0.1,\n",
    "        s=0.2\n",
    "    )\n",
    "\n",
    "    #scatter with inactives\n",
    "    ax.scatter(\n",
    "        pcl_tox21_ahr_inactive.x_axis,\n",
    "        pcl_tox21_ahr_inactive.y_axis,\n",
    "        c=color_dict['inactive'],\n",
    "        label=['AhR inactive'],\n",
    "        alpha=0.8,\n",
    "        s = 0.5\n",
    "    )\n",
    "       #Scatter with actives\n",
    "    ax.scatter(\n",
    "        pcl_tox21_ahr_active.x_axis,\n",
    "        pcl_tox21_ahr_active.y_axis,\n",
    "        c=color_dict['active'],\n",
    "        label=['AhR active'],\n",
    "        alpha=1,\n",
    "        s = 0.5\n",
    "    )\n",
    "\n",
    "    # Labels and title\n",
    "    ax.set_title('B.',loc='left', fontweight='bold',\n",
    "                 fontsize=14)\n",
    "    \n",
    "    title_font = FontProperties()\n",
    "    title_font.set_weight('bold')\n",
    "\n",
    "    legend_handles = [\n",
    "        mlines.Line2D([], [], color=color_dict['active'], marker='o', linestyle='None', markersize=5, label='AhR active', alpha=1),\n",
    "        mlines.Line2D([], [], color=color_dict['inactive'], marker='o', linestyle='None', markersize=5, label='AhR inactive', alpha=1)\n",
    "    ]\n",
    "\n",
    "    ax.legend(handles=legend_handles, \n",
    "            loc='upper right')\n",
    "\n",
    "    ax.set_aspect('equal', adjustable='box')\n",
    "\n",
    "def tox21_MMP_plot(ax):\n",
    "    # Grey points (without XLogP values)\n",
    "    ax.scatter(\n",
    "        pcl_merged.x_axis,\n",
    "        pcl_merged.y_axis,\n",
    "        color='#023047',\n",
    "        alpha=0.1,\n",
    "        s=0.2\n",
    "    )\n",
    "\n",
    "    #scatter with inactives\n",
    "    ax.scatter(\n",
    "        pcl_tox21_mmp_inactive.x_axis,\n",
    "        pcl_tox21_mmp_inactive.y_axis,\n",
    "        c=color_dict['inactive'],\n",
    "        alpha=0.8,\n",
    "        s = 0.5\n",
    "    )\n",
    "       #Scatter with actives\n",
    "    ax.scatter(\n",
    "        pcl_tox21_mmp_active.x_axis,\n",
    "        pcl_tox21_mmp_active.y_axis,\n",
    "        c=color_dict['active'],\n",
    "        alpha=1,\n",
    "        s = 0.5\n",
    "    )\n",
    "\n",
    "    # Labels and title\n",
    "    ax.set_title('C.',loc='left', fontweight='bold',\n",
    "                 fontsize=14)\n",
    "    \n",
    "    title_font = FontProperties()\n",
    "    title_font.set_weight('bold')\n",
    "    \n",
    "    legend_handles = [\n",
    "        mlines.Line2D([], [], color=color_dict['active'], marker='o', linestyle='None', markersize=5, label='MMP active', alpha=1),\n",
    "        mlines.Line2D([], [], color=color_dict['inactive'], marker='o', linestyle='None', markersize=5, label='MMP inactive', alpha=1)\n",
    "    ]\n",
    "\n",
    "    ax.legend(handles=legend_handles, \n",
    "            loc='upper right')\n",
    "\n",
    "    ax.set_aspect('equal', adjustable='box')"
   ]
  },
  {
   "cell_type": "code",
   "execution_count": null,
   "id": "cb66d0f8",
   "metadata": {},
   "outputs": [],
   "source": [
    "# Set the figure parameters\n",
    "plt.rcParams.update({'figure.figsize':[9.8,9.8],\n",
    "                'font.size': 12, \n",
    "                'axes.titlesize': 12,\n",
    "                'axes.labelsize': 12,\n",
    "                'xtick.labelsize': 12,\n",
    "                'ytick.labelsize': 12,\n",
    "                'legend.fontsize': 12,\n",
    "                'legend.title_fontsize': 12,\n",
    "                'axes.titleweight': 'bold',\n",
    "                'font.family': 'serif',\n",
    "                'font.serif': ['Times New Roman'],\n",
    "                'figure.dpi':300,\n",
    "                \n",
    "                })"
   ]
  },
  {
   "cell_type": "code",
   "execution_count": null,
   "id": "f86f3c3a",
   "metadata": {},
   "outputs": [],
   "source": [
    "from mpl_toolkits.axes_grid1 import make_axes_locatable\n",
    "\n",
    "fig, axes = plt.subplots(4, 2, figsize=(9, 15),gridspec_kw={\"width_ratios\": [1, 1]})  # 3 row, 2 columns\n",
    "axes = axes.flatten()\n",
    "\n",
    "pcl_plot(axes[0])\n",
    "axes[0].tick_params(axis='both',  which='both',left=False, right=False, labelleft=False, labelright=False)\n",
    "axes[0].xaxis.set_ticks([])\n",
    "tox21_plot(axes[1])\n",
    "axes[1].tick_params(axis='both', which='both', left=False, right=False, labelleft=False, labelright=False)\n",
    "axes[1].xaxis.set_ticks([])\n",
    "tox21_AHR_plot(axes[2])\n",
    "axes[2].tick_params(axis='both', which='both', left=False, right=False, labelleft=False, labelright=False)\n",
    "axes[2].xaxis.set_ticks([])\n",
    "tox21_MMP_plot(axes[3])\n",
    "axes[3].tick_params(axis='both', which='both', left=False, right=False, labelleft=False, labelright=False)\n",
    "axes[3].xaxis.set_ticks([])\n",
    "gc_plot(axes[4])\n",
    "axes[4].tick_params(axis='both', which='both', left=False, right=False, labelleft=False, labelright=False)\n",
    "axes[4].xaxis.set_ticks([])\n",
    "lc_plot(axes[5])\n",
    "axes[5].tick_params(axis='both', which='both', left=False, right=False, labelleft=False, labelright=False)\n",
    "axes[5].xaxis.set_ticks([])\n",
    "xlogp_plot(axes[6])\n",
    "axes[6].tick_params(axis='both', which='both', left=False, right=False, labelleft=False, labelright=False)\n",
    "axes[6].xaxis.set_ticks([])\n",
    "bp_plot(axes[7])\n",
    "axes[7].tick_params(axis='both', which='both', left=False, right=False, labelleft=False, labelright=False)\n",
    "axes[7].xaxis.set_ticks([])\n",
    "\n",
    "\n",
    "# Add colorbars to the last two plots\n",
    "divider = make_axes_locatable(axes[6])\n",
    "cax_logp = divider.append_axes(\"right\", size=\"3%\", pad=0.05)\n",
    "\n",
    "divider = make_axes_locatable(axes[7])\n",
    "cax_bp = divider.append_axes(\"right\", size=\"3%\", pad=0.05)\n",
    "\n",
    "sc_xlogp = axes[6].collections[1]  # get the first scatter (with color)\n",
    "cbar_logp = fig.colorbar(\n",
    "    sc_xlogp, \n",
    "    ax=axes[6], \n",
    "    cax=cax_logp,\n",
    "    extend='both')\n",
    "cbar_logp.set_label(\"XLogP, A.U.\", rotation=270, labelpad=8)\n",
    "\n",
    "sc_bp = axes[7].collections[1]  # get the second scatter (with color)\n",
    "cbar_bp = fig.colorbar(\n",
    "    sc_bp, \n",
    "    ax=axes[7], \n",
    "    cax=cax_bp,\n",
    "    extend='both')\n",
    "cbar_bp.set_label(\"Boiling point, °C\", rotation=270, labelpad=15)\n",
    "\n",
    "# Set the title for the entire figure\n",
    "fig.supxlabel('', fontsize=12, y=0.07)\n",
    "fig.supylabel('', fontsize=12,x=0.08)\n",
    "\n",
    "#fig.tight_layout(rect=[0, 0, 0, 0])  # Adjust layout to make room for the title\n",
    "\n",
    "#fig.tight_layout()\n",
    "#plt.show()\n",
    "\n",
    "fig.savefig(\"2025-05-23_pubchemlite_visualization.png\", dpi=300, bbox_inches='tight', transparent=True)"
   ]
  },
  {
   "cell_type": "markdown",
   "id": "1f734d07",
   "metadata": {},
   "source": [
    "### Boiling point box plot"
   ]
  },
  {
   "cell_type": "code",
   "execution_count": null,
   "id": "4ae9123a",
   "metadata": {},
   "outputs": [],
   "source": [
    "with open('2025-05-07_pcl_vis_final.pkl', 'rb') as f:\n",
    "    pcl_merged = pickle.load(f)"
   ]
  },
  {
   "cell_type": "code",
   "execution_count": null,
   "id": "3a5b3614",
   "metadata": {},
   "outputs": [],
   "source": [
    "pcl_merged"
   ]
  },
  {
   "cell_type": "code",
   "execution_count": null,
   "id": "47703805",
   "metadata": {},
   "outputs": [],
   "source": [
    "ahr_bp = pcl_merged[(pcl_merged['nr.ahr'].notna()) & (pcl_merged['nr.ahr']!= -999999)]\n",
    "ahr_bp = ahr_bp[['boiling_point_matched_cleaned', 'nr.ahr']]\n",
    "ahr_bp['labels'] = ahr_bp['nr.ahr'].apply(lambda x: 'Inactive' if x == 0 else 'Active')"
   ]
  },
  {
   "cell_type": "code",
   "execution_count": null,
   "id": "9fcdffcb",
   "metadata": {},
   "outputs": [],
   "source": [
    "ahr_bp"
   ]
  },
  {
   "cell_type": "code",
   "execution_count": null,
   "id": "503065b0",
   "metadata": {},
   "outputs": [],
   "source": [
    "mmp_bp = pcl_merged[(pcl_merged['sr.mmp'].notna()) & (pcl_merged['sr.mmp']!= -999999)]\n",
    "mmp_bp = mmp_bp[['boiling_point_matched_cleaned', 'sr.mmp']]\n",
    "mmp_bp['labels'] = mmp_bp['sr.mmp'].apply(lambda x: 'Inactive' if x == 0 else 'Active')\n",
    "mmp_bp"
   ]
  },
  {
   "cell_type": "code",
   "execution_count": null,
   "id": "b0d97a83",
   "metadata": {},
   "outputs": [],
   "source": [
    "import seaborn as sns\n",
    "import pandas as pd\n",
    "import matplotlib.pyplot as plt\n",
    "\n",
    "\n",
    "fig, ax = plt.subplots(1, 2, figsize=(12, 5), sharey=True, sharex=True)  # 1 row, 2 columns\n",
    "\n",
    "# Create the boxplot\n",
    "sns.boxplot(x='labels', y='boiling_point_matched_cleaned', data=ahr_bp, ax=ax[0], palette=['#219EBC', '#FB8500'])\n",
    "ax[0].set_title('AhR', fontweight='bold', fontsize=14)\n",
    "ax[0].set_ylabel('Boiling Point, °C')\n",
    "ax[0].set_xlabel('')\n",
    "\n",
    "sns.boxplot(x='labels', y='boiling_point_matched_cleaned', data=mmp_bp, ax=ax[1], palette=['#219EBC', '#FB8500'])\n",
    "ax[1].set_title('MMP', fontweight='bold', fontsize=14)\n",
    "ax[1].set_xlabel('')\n",
    "\n",
    "plt.subplots_adjust(wspace=0.1) \n",
    "\n",
    "\n",
    "# Customize labels and title\n",
    "\n",
    "plt.savefig('/Users/elli/Library/CloudStorage/OneDrive-Kruvelab/Master_thesis/Visualizations/2025-05-22_boxplot_endpoint_bp.png', dpi=300, bbox_inches='tight', transparent=True)"
   ]
  },
  {
   "cell_type": "markdown",
   "id": "dbdc11a0",
   "metadata": {},
   "source": [
    "### Histograms"
   ]
  },
  {
   "cell_type": "code",
   "execution_count": null,
   "id": "1fca5f59",
   "metadata": {},
   "outputs": [],
   "source": [
    "ahr_bp_active = ahr_bp[ahr_bp['nr.ahr'] == 1]\n",
    "ahr_bp_inactive = ahr_bp[ahr_bp['nr.ahr'] == 0]\n",
    "\n",
    "mmp_bp_active = mmp_bp[mmp_bp['sr.mmp'] == 1]\n",
    "mmp_bp_inactive = mmp_bp[mmp_bp['sr.mmp'] == 0]"
   ]
  },
  {
   "cell_type": "code",
   "execution_count": null,
   "id": "ed815b67",
   "metadata": {},
   "outputs": [],
   "source": [
    "len(ahr_bp_active), len(ahr_bp_inactive), len(mmp_bp_active), len(mmp_bp_inactive)"
   ]
  },
  {
   "cell_type": "code",
   "execution_count": null,
   "id": "02875ae2",
   "metadata": {},
   "outputs": [],
   "source": [
    "\n",
    "fig, ax = plt.subplots(1, 2, figsize=(10, 5), sharey=True, sharex=True)  # 1 row, 2 columns\n",
    "\n",
    "sns.histplot(data=ahr_bp_active, x='boiling_point_matched_cleaned', label='Active', color='#FB8500', edgecolor=None, kde=False, stat='density', bins=50, ax=ax[0])\n",
    "sns.histplot(data=ahr_bp_inactive, x='boiling_point_matched_cleaned', label='Inactive', color='#219EBC', edgecolor=None, kde=False, stat='density', bins=60, ax=ax[0])\n",
    "ax[0].set_title('AhR', fontweight='bold', fontsize=14)\n",
    "\n",
    "ax[0].set_xlabel('')\n",
    "ax[0].set_ylabel('')\n",
    "\n",
    "ax[0].tick_params(axis='y', left=False, labelleft=False)\n",
    "\n",
    "sns.histplot(data=mmp_bp_active, x='boiling_point_matched_cleaned', label='Active', color='#FB8500', edgecolor=None,  kde=False, stat='density', bins=50, ax=ax[1])\n",
    "sns.histplot(data=mmp_bp_inactive, x='boiling_point_matched_cleaned', label='Inactive', color='#219EBC', edgecolor=None,  kde=False, stat='density', bins=50, ax=ax[1])\n",
    "ax[1].set_title('MMP', fontweight='bold', fontsize=14)\n",
    "\n",
    "ax[1].set_xlabel('')\n",
    "ax[1].set_ylabel('')\n",
    "\n",
    "ax[1].tick_params(axis='y', left=False, labelleft=False)\n",
    "\n",
    "# Add legend and labels\n",
    "ax[0].legend()\n",
    "ax[1].legend()\n",
    "plt.tight_layout()\n",
    "fig.supxlabel('Boiling Point, °C', fontsize=12, y=0.0)\n",
    "\n",
    "plt.savefig('/Users/elli/Library/CloudStorage/OneDrive-Kruvelab/Master_thesis/Visualizations/2025-05-22_histogram_endpoint_bp_comparison.png', dpi=300, bbox_inches='tight', transparent=True)"
   ]
  },
  {
   "cell_type": "markdown",
   "id": "ccc1a16e",
   "metadata": {},
   "source": [
    "### LogP histogram"
   ]
  },
  {
   "cell_type": "code",
   "execution_count": null,
   "id": "dd30ad56",
   "metadata": {},
   "outputs": [],
   "source": [
    "import pickle\n",
    "import pandas as pd\n",
    "import seaborn as sns\n",
    "import matplotlib.pyplot as plt"
   ]
  },
  {
   "cell_type": "code",
   "execution_count": null,
   "id": "897a5cee",
   "metadata": {},
   "outputs": [],
   "source": [
    "with open('2025-05-07_pcl_vis_final.pkl', 'rb') as f:\n",
    "    pcl_merged = pickle.load(f)"
   ]
  },
  {
   "cell_type": "code",
   "execution_count": null,
   "id": "334d7ea6",
   "metadata": {},
   "outputs": [],
   "source": [
    "pcl_merged.head()"
   ]
  },
  {
   "cell_type": "code",
   "execution_count": null,
   "id": "e5e38bab",
   "metadata": {},
   "outputs": [],
   "source": [
    "ahr_logp = pcl_merged[(pcl_merged['nr.ahr'].notna()) & (pcl_merged['nr.ahr']!= -999999)]\n",
    "ahr_logp = ahr_logp[['XLogP_pubchem', 'nr.ahr']]\n",
    "ahr_logp['labels'] = ahr_logp['nr.ahr'].apply(lambda x: 'Inactive' if x == 0 else 'Active')\n",
    "ahr_logp"
   ]
  },
  {
   "cell_type": "code",
   "execution_count": null,
   "id": "ebf0e288",
   "metadata": {},
   "outputs": [],
   "source": [
    "mmp_logp = pcl_merged[(pcl_merged['sr.mmp'].notna()) & (pcl_merged['sr.mmp']!= -999999)]\n",
    "mmp_logp = mmp_logp[['XLogP_pubchem', 'sr.mmp']]\n",
    "mmp_logp['labels'] = mmp_logp['sr.mmp'].apply(lambda x: 'Inactive' if x == 0 else 'Active')\n",
    "mmp_logp"
   ]
  },
  {
   "cell_type": "code",
   "execution_count": null,
   "id": "cce91d41",
   "metadata": {},
   "outputs": [],
   "source": [
    "ahr_logp_active = ahr_logp[ahr_logp['nr.ahr'] == 1]\n",
    "ahr_logp_inactive = ahr_logp[ahr_logp['nr.ahr'] == 0]\n",
    "\n",
    "mmp_logp_active = mmp_logp[mmp_logp['sr.mmp'] == 1]\n",
    "mmp_logp_inactive = mmp_logp[mmp_logp['sr.mmp'] == 0]"
   ]
  },
  {
   "cell_type": "code",
   "execution_count": null,
   "id": "47a32747",
   "metadata": {},
   "outputs": [],
   "source": [
    "\n",
    "fig, ax = plt.subplots(1, 2, figsize=(10, 5), sharey=True, sharex=True)  # 1 row, 2 columns\n",
    "\n",
    "sns.histplot(data=ahr_logp_active, x='XLogP_pubchem', label='Active', color='#FB8500', edgecolor=None, kde=False, stat='density', bins=30, ax=ax[0])\n",
    "sns.histplot(data=ahr_logp_inactive, x='XLogP_pubchem', label='Inactive', color='#219EBC', edgecolor=None, kde=False, stat='density', bins=80, ax=ax[0])\n",
    "ax[0].set_title('AhR', fontweight='bold', fontsize=14)\n",
    "\n",
    "ax[0].set_xlabel('')\n",
    "ax[0].set_ylabel('')\n",
    "\n",
    "ax[0].tick_params(axis='y', left=False, labelleft=False)\n",
    "\n",
    "sns.histplot(data=mmp_logp_active, x='XLogP_pubchem', label='Active', color='#FB8500', edgecolor=None,  kde=False, stat='density', bins=30, ax=ax[1])\n",
    "sns.histplot(data=mmp_logp_inactive, x='XLogP_pubchem', label='Inactive', color='#219EBC', edgecolor=None,  kde=False, stat='density', bins=80, ax=ax[1])\n",
    "ax[1].set_title('MMP', fontweight='bold', fontsize=14)\n",
    "\n",
    "ax[1].set_xlabel('')\n",
    "ax[1].set_ylabel('')\n",
    "\n",
    "ax[1].tick_params(axis='y', left=False, labelleft=False)\n",
    "\n",
    "# Add legend and labels\n",
    "ax[0].legend()\n",
    "ax[1].legend()\n",
    "plt.tight_layout()\n",
    "fig.supxlabel('XLogP, A.U.', fontsize=12, y=0.0)\n",
    "\n",
    "plt.savefig('/Users/elli/Library/CloudStorage/OneDrive-Kruvelab/Master_thesis/Visualizations/2025-05-23_histogram_endpoint_logp_comparison.png', dpi=300, bbox_inches='tight', transparent=True)"
   ]
  }
 ],
 "metadata": {
  "kernelspec": {
   "display_name": "pubchem_cleaning",
   "language": "python",
   "name": "python3"
  },
  "language_info": {
   "codemirror_mode": {
    "name": "ipython",
    "version": 3
   },
   "file_extension": ".py",
   "mimetype": "text/x-python",
   "name": "python",
   "nbconvert_exporter": "python",
   "pygments_lexer": "ipython3",
   "version": "3.13.2"
  }
 },
 "nbformat": 4,
 "nbformat_minor": 5
}
