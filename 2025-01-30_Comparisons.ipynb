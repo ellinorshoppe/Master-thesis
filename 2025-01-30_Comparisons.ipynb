{
 "cells": [
  {
   "cell_type": "markdown",
   "metadata": {},
   "source": [
    "# Tox21 comparioson to other datasets\n",
    "Here all datasets which are compared with the Tox21 dataset will be evaluated. "
   ]
  },
  {
   "cell_type": "code",
   "execution_count": null,
   "metadata": {},
   "outputs": [],
   "source": [
    "import warnings\n",
    "warnings.filterwarnings('ignore', category = RuntimeWarning)\n",
    "\n",
    "import re\n",
    "\n",
    "import pandas as pd\n",
    "import numpy as np"
   ]
  },
  {
   "cell_type": "code",
   "execution_count": null,
   "metadata": {},
   "outputs": [],
   "source": [
    "#Cleaned tox21 and spectral/chemical data\n",
    "apci = pd.read_csv('/Users/elli/Library/CloudStorage/OneDrive-Kruvelab/Ellinor - Master thesis/Data/Cleaned data/APCI_chemicals_STD.csv', sep = '\\t')\n",
    "tox21 = pd.read_csv('/Users/elli/Library/CloudStorage/OneDrive-Kruvelab/Ellinor - Master thesis/Data/Cleaned data/Tox21_chemicals_STD.csv', sep = '\\t')\n",
    "iris = pd.read_csv('/Users/elli/Library/CloudStorage/OneDrive-Kruvelab/Ellinor - Master thesis/Data/Cleaned data/Iris_chemicals_STD.csv', sep = '\\t')\n",
    "isabel = pd.read_csv('/Users/elli/Library/CloudStorage/OneDrive-Kruvelab/Ellinor - Master thesis/Data/Cleaned data/Isabelles_chemicals_STD_updated.csv', sep = '\\t')\n",
    "klara = pd.read_csv('/Users/elli/Library/CloudStorage/OneDrive-Kruvelab/Ellinor - Master thesis/Data/Cleaned data/KLARA_chemicals_STD.csv', sep = '\\t') \n",
    "\n",
    "#Cleaned SIRIUS training data\n",
    "sirius = pd.read_csv('/Users/elli/Library/CloudStorage/OneDrive-Kruvelab/Ellinor - Master thesis/Data/SIRIUS training set/sirius_without_dup.tsv', sep='\\t')"
   ]
  },
  {
   "cell_type": "code",
   "execution_count": null,
   "metadata": {},
   "outputs": [],
   "source": [
    "tox21[tox21.InChIKey14.isna()]"
   ]
  },
  {
   "cell_type": "code",
   "execution_count": null,
   "metadata": {},
   "outputs": [],
   "source": [
    "isabel"
   ]
  },
  {
   "cell_type": "code",
   "execution_count": null,
   "metadata": {},
   "outputs": [],
   "source": [
    "tox21_ahr_mmp = tox21[['InChIKey14', 'SMILES', 'nr.ahr', 'sr.mmp']]\n",
    "tox21_ahr_mmp = tox21_ahr_mmp.dropna(subset=['InChIKey14'], how = 'all').reset_index(drop=True)\n",
    "tox21_ahr_mmp = tox21_ahr_mmp.dropna(subset=['nr.ahr', 'sr.mmp'], how = 'all').reset_index(drop=True)\n",
    "\n",
    "\n",
    "tox21_ahr_mmp.shape"
   ]
  },
  {
   "cell_type": "code",
   "execution_count": null,
   "metadata": {},
   "outputs": [],
   "source": [
    "#Filter out LC-APCI spectra\n",
    "apci_gc = apci[apci.SeparationMethod == 'GC'].reset_index(drop=True)"
   ]
  },
  {
   "cell_type": "code",
   "execution_count": null,
   "metadata": {},
   "outputs": [],
   "source": [
    "# Merge Tox21 with APCI, Iris data and Isabelle data\n",
    "tox21_ahr_mmp = pd.merge(tox21_ahr_mmp, apci_gc[['InChIKey14', 'DataBank']], on='InChIKey14', how='left')\n",
    "tox21_ahr_mmp = pd.merge(tox21_ahr_mmp, iris[['InChIKey14', 'source']], on='InChIKey14', how='left')\n",
    "tox21_ahr_mmp = pd.merge(tox21_ahr_mmp, isabel[['InChIKey14', 'Compound']], on='InChIKey14', how='left')\n",
    "\n",
    "tox21_ahr_mmp = tox21_ahr_mmp.drop_duplicates(subset=tox21_ahr_mmp.columns, keep='first').reset_index(drop=True)\n",
    "\n",
    "tox21_ahr_mmp.rename(columns={'DataBank': 'ms_library', 'source': 'iris_data', 'Compound':'isabel_data'}, inplace=True)\n",
    "\n",
    "#Filter out rows with compounds without any spectral information\n",
    "tox21_w_spectra = tox21_ahr_mmp.dropna(subset=['ms_library', 'iris_data', 'isabel_data'], how='all').reset_index(drop=True)\n"
   ]
  },
  {
   "cell_type": "code",
   "execution_count": null,
   "metadata": {},
   "outputs": [],
   "source": [
    "tox21_ahr_mmp.shape"
   ]
  },
  {
   "cell_type": "code",
   "execution_count": null,
   "metadata": {},
   "outputs": [],
   "source": [
    "# Actives/inactives for nr.ahr and sr.mmp endpoints with available spectra (SIRIUS training data included)\n",
    "endpoints_list = ['nr.ahr', 'sr.mmp']\n",
    "\n",
    "print('Tox21 compounds with spectra (SIRIUS training data included):')\n",
    "for endpoint in endpoints_list: \n",
    "    print(tox21_w_spectra.value_counts(endpoint))"
   ]
  },
  {
   "cell_type": "code",
   "execution_count": null,
   "metadata": {},
   "outputs": [],
   "source": [
    "#add information about sirius training data\n",
    "tox21_ahr_mmp = pd.merge(tox21_ahr_mmp, sirius[['ionmode', 'InChIKey14']], on='InChIKey14', how='left')\n",
    "tox21_ahr_mmp.rename(columns={'ionmode':'sirius_data'}, inplace=True)\n",
    "\n",
    "#Filter out compounds not found in libraries\n",
    "tox21_w_spectra_sirius = tox21_ahr_mmp.dropna(subset=['ms_library', 'iris_data', 'isabel_data'], how='all').reset_index(drop=True)\n",
    "\n",
    "#Filter out compounds included in SIRIUS training data\n",
    "tox21_w_spectra_no_sirius = tox21_w_spectra_sirius[tox21_w_spectra_sirius.sirius_data.isna()]"
   ]
  },
  {
   "cell_type": "code",
   "execution_count": null,
   "metadata": {},
   "outputs": [],
   "source": [
    "tox21_ahr_mmp.shape"
   ]
  },
  {
   "cell_type": "code",
   "execution_count": null,
   "metadata": {},
   "outputs": [],
   "source": [
    "# Actives/inactives for nr.ahr and sr.mmp endpoints with available spectra (SIRIUS training data removed)\n",
    "endpoints_list = ['nr.ahr', 'sr.mmp']\n",
    "\n",
    "print('Tox21 compounds with spectra (SIRIUS training data removed):')\n",
    "for endpoint in endpoints_list: \n",
    "    print(tox21_w_spectra_no_sirius.value_counts(endpoint))"
   ]
  },
  {
   "cell_type": "markdown",
   "metadata": {},
   "source": [
    "When filtering out any compounds available in SIRIUS training data (needed to use SIRIUS fingerprints) and any compounds without an available spectrum, we get the values above for actives (1) and inactives (0). "
   ]
  },
  {
   "cell_type": "markdown",
   "metadata": {},
   "source": [
    "### Add KLARA data (previously cleaned by Gordian)\n",
    "Cleaning procedure to get InChIKeys found in '2024-12-16_Cleaning_data.ipynb'"
   ]
  },
  {
   "cell_type": "code",
   "execution_count": null,
   "metadata": {},
   "outputs": [],
   "source": [
    "tox21_ahr_mmp = pd.merge(tox21_ahr_mmp, klara[['InChIKey14', 'Avdelning']], on='InChIKey14', how='left')\n",
    "tox21_ahr_mmp.rename(columns={'Avdelning':'old_klara_MMK'}, inplace=True)"
   ]
  },
  {
   "cell_type": "code",
   "execution_count": null,
   "metadata": {},
   "outputs": [],
   "source": [
    "tox21_ahr_mmp[tox21_ahr_mmp.InChIKey14.duplicated(keep=False)]"
   ]
  },
  {
   "cell_type": "code",
   "execution_count": null,
   "metadata": {},
   "outputs": [],
   "source": [
    "tox21_ahr_mmp = tox21_ahr_mmp.drop_duplicates(subset=['InChIKey14'], keep='first').reset_index(drop=True)"
   ]
  },
  {
   "cell_type": "code",
   "execution_count": null,
   "metadata": {},
   "outputs": [],
   "source": [
    "tox21_ahr_mmp.shape"
   ]
  },
  {
   "cell_type": "markdown",
   "metadata": {},
   "source": [
    "### Adding newly cleaned KLARA data (KLARA ACES)"
   ]
  },
  {
   "cell_type": "code",
   "execution_count": null,
   "metadata": {},
   "outputs": [],
   "source": [
    "with open('/Users/elli/Library/CloudStorage/OneDrive-Kruvelab/Ellinor - Master thesis/Code/Data cleaning/2025-02-13_klara_aces_cleaned.pkl', 'rb') as f:\n",
    "    klara_aces = pd.read_pickle(f)\n",
    "\n",
    "klara_aces.head()"
   ]
  },
  {
   "cell_type": "code",
   "execution_count": null,
   "metadata": {},
   "outputs": [],
   "source": [
    "klara_aces['ACES'] = 'found in klara aces'\n",
    "\n",
    "klara_aces_no_dupl = klara_aces.drop_duplicates(subset=['InChIKey14'], keep='first').reset_index(drop=True)"
   ]
  },
  {
   "cell_type": "code",
   "execution_count": null,
   "metadata": {},
   "outputs": [],
   "source": [
    "tox21_ahr_mmp = pd.merge(tox21_ahr_mmp, klara_aces_no_dupl[['InChIKey14', 'ACES']], on='InChIKey14', how='left') #Duplicates introduced since compounds available in muptliple parts of the university\n",
    "\n",
    "print(tox21_ahr_mmp)"
   ]
  },
  {
   "cell_type": "markdown",
   "metadata": {},
   "source": [
    "### Adding newly cleaned KLARA Kemikum data\n",
    "Cleaned using code in '2024-12-16_Cleaning_data.ipynb'"
   ]
  },
  {
   "cell_type": "code",
   "execution_count": null,
   "metadata": {},
   "outputs": [],
   "source": [
    "with open('/Users/elli/Library/CloudStorage/OneDrive-Kruvelab/Ellinor - Master thesis/Code/Data cleaning/2025-03-06_klara_kemikum_UPDATED_cleaned.pkl', 'rb') as f:\n",
    "    klara_kemikum = pd.read_pickle(f)"
   ]
  },
  {
   "cell_type": "code",
   "execution_count": null,
   "metadata": {},
   "outputs": [],
   "source": [
    "klara_kemikum.head()"
   ]
  },
  {
   "cell_type": "code",
   "execution_count": null,
   "metadata": {},
   "outputs": [],
   "source": [
    "klara_kemikum_no_dupl = klara_kemikum.drop_duplicates(subset=['InChIKey14'], keep='first').reset_index(drop=True)\n",
    "klara_kemikum['kemikum'] = 'found in klara kemikum'"
   ]
  },
  {
   "cell_type": "code",
   "execution_count": null,
   "metadata": {},
   "outputs": [],
   "source": [
    "klara_kemikum = klara_kemikum.sort_values(by='InChIKey14')\n",
    "klara_kemikum_nona = klara_kemikum.dropna(subset=['SMILES'], how='all').reset_index(drop=True)"
   ]
  },
  {
   "cell_type": "code",
   "execution_count": null,
   "metadata": {},
   "outputs": [],
   "source": [
    "klara_kemikum_nona[klara_kemikum_nona.SMILES.str.contains(r'\\.')] #Should not have any entries"
   ]
  },
  {
   "cell_type": "code",
   "execution_count": null,
   "metadata": {},
   "outputs": [],
   "source": [
    "klara_kemikum.section.unique()"
   ]
  },
  {
   "cell_type": "code",
   "execution_count": null,
   "metadata": {},
   "outputs": [],
   "source": [
    "tox21_ahr_mmp = pd.merge(tox21_ahr_mmp, klara_kemikum_no_dupl[['InChIKey14', 'kemikum']], on='InChIKey14', how='left') #Duplicates introduced since compounds available in muptliple parts of the university\n",
    "\n",
    "tox21_ahr_mmp.head()"
   ]
  },
  {
   "cell_type": "code",
   "execution_count": null,
   "metadata": {},
   "outputs": [],
   "source": [
    "tox21_ahr_mmp.shape"
   ]
  },
  {
   "cell_type": "markdown",
   "metadata": {},
   "source": [
    "### Add SusDat data from NORMAN for GC- amenability prediction\n",
    "Previously cleaned (find workflow in 2024-12-16_Cleaning_data.ipynb)"
   ]
  },
  {
   "cell_type": "code",
   "execution_count": null,
   "metadata": {},
   "outputs": [],
   "source": [
    "#NORMAN SusDat dataset\n",
    "with open('/Users/elli/Library/CloudStorage/OneDrive-Kruvelab/Ellinor - Master thesis/Code/Data cleaning/2025-02-12_susdat_std.pkl', 'rb') as f:\n",
    "    susdat = pd.read_pickle(f)"
   ]
  },
  {
   "cell_type": "code",
   "execution_count": null,
   "metadata": {},
   "outputs": [],
   "source": [
    "susdat.head()"
   ]
  },
  {
   "cell_type": "code",
   "execution_count": null,
   "metadata": {},
   "outputs": [],
   "source": [
    "susdat_nona = susdat.dropna(subset=['SMILES'], how='all').reset_index(drop=True)\n",
    "\n",
    "susdat_nona[susdat_nona.SMILES.str.contains(r'\\.')].shape"
   ]
  },
  {
   "cell_type": "code",
   "execution_count": null,
   "metadata": {},
   "outputs": [],
   "source": [
    "#filter out duplicate InChIKey14 and keep the one with the highest gc_probability\n",
    "\n",
    "#sort by InChIKey14 and gc_probability\n",
    "susdat_sorted = susdat_nona.sort_values(by=['InChIKey14', 'gc_probability'], ascending=[True, False])\n",
    "\n",
    "#filter out duplicates with lower gc_probability and keep the one with the highest\n",
    "susdat_filtered = susdat_sorted.drop_duplicates(subset=['InChIKey14'], keep='first').reset_index(drop=True)"
   ]
  },
  {
   "cell_type": "code",
   "execution_count": null,
   "metadata": {},
   "outputs": [],
   "source": [
    "tox21_ahr_mmp = pd.merge(tox21_ahr_mmp, susdat_filtered[['InChIKey14', 'gc_probability']], on='InChIKey14', how='left')"
   ]
  },
  {
   "cell_type": "code",
   "execution_count": null,
   "metadata": {},
   "outputs": [],
   "source": [
    "tox21_ahr_mmp.shape"
   ]
  },
  {
   "cell_type": "code",
   "execution_count": null,
   "metadata": {},
   "outputs": [],
   "source": [
    "# with open('2025-05-12_tox21_ahr_mmp_available_compounds_all_sources_UPDATED.pkl', 'wb') as f:\n",
    "#     tox21_ahr_mmp.to_pickle(f)"
   ]
  },
  {
   "cell_type": "code",
   "execution_count": null,
   "metadata": {},
   "outputs": [],
   "source": [
    "import pickle\n",
    "import pandas as pd\n",
    "\n",
    "with open('2025-03-06_tox21_ahr_mmp_available_compounds_all_sources_UPDATED.pkl', 'rb') as f:\n",
    "    tox21_ahr_mmp = pd.read_pickle(f)"
   ]
  },
  {
   "cell_type": "code",
   "execution_count": null,
   "metadata": {},
   "outputs": [],
   "source": [
    "tox21_ahr_mmp"
   ]
  },
  {
   "cell_type": "code",
   "execution_count": null,
   "metadata": {},
   "outputs": [],
   "source": [
    "tox21_ahr_mmp.drop_duplicates(subset=['InChIKey14'], keep='first', inplace=True)"
   ]
  },
  {
   "cell_type": "code",
   "execution_count": null,
   "metadata": {},
   "outputs": [],
   "source": [
    "#remove duplicate inchikeys\n",
    "#tox21_ahr_mmp_klara_kemikum = tox21_ahr_mmp.dropna(subset=['section_aces'], how='all').reset_index(drop=True)\n",
    "#tox21_ahr_mmp_klara_kemikum_no_dupl = tox21_ahr_mmp_klara_kemikum.drop_duplicates(subset=['InChIKey14'], keep='first').reset_index(drop=True)"
   ]
  },
  {
   "cell_type": "markdown",
   "metadata": {},
   "source": [
    "### Visualizations on compounds available in KLARA ACES and Kemikum"
   ]
  },
  {
   "cell_type": "markdown",
   "metadata": {},
   "source": [
    "#### KLARA ACES visualizations"
   ]
  },
  {
   "cell_type": "markdown",
   "metadata": {},
   "source": [
    "Removing any compounds which were not available in KLARA ACES, as well as any duplicate InChIKey14's."
   ]
  },
  {
   "cell_type": "code",
   "execution_count": null,
   "metadata": {},
   "outputs": [],
   "source": [
    "tox21_aces = tox21_ahr_mmp.dropna(subset=['section_aces'], how='all').reset_index(drop=True)\n",
    "tox21_aces_no_dupl = tox21_aces.drop_duplicates(subset=['InChIKey14'], keep='first').reset_index(drop=True)"
   ]
  },
  {
   "cell_type": "markdown",
   "metadata": {},
   "source": [
    "Visualization of the data. "
   ]
  },
  {
   "cell_type": "code",
   "execution_count": null,
   "metadata": {},
   "outputs": [],
   "source": [
    "import matplotlib.pyplot as plt\n",
    "\n",
    "plt.hist(tox21_aces_no_dupl['gc_probability'], bins=20)\n",
    "plt.xlabel('Probability of GC-amenability')\n",
    "plt.ylabel('Number of compounds')\n",
    "plt.title('Probability of GC-amenability for compounds in KLARA ACES \\n SIRIUS training data included')"
   ]
  },
  {
   "cell_type": "code",
   "execution_count": null,
   "metadata": {},
   "outputs": [],
   "source": [
    "tox21_aces_unique_sirius = tox21_aces_no_dupl[(tox21_aces_no_dupl['ms_library'].isna())&\n",
    "                                              (tox21_aces_no_dupl['iris_data'].isna())&\n",
    "                                              (tox21_aces_no_dupl['isabel_data'].isna())&\n",
    "                                              (tox21_aces_no_dupl['section_kemikum'].isna())]"
   ]
  },
  {
   "cell_type": "code",
   "execution_count": null,
   "metadata": {},
   "outputs": [],
   "source": [
    "tox21_aces_unique_no_sirius = tox21_aces_unique_sirius[tox21_aces_unique_sirius.sirius_data.isna()]"
   ]
  },
  {
   "cell_type": "code",
   "execution_count": null,
   "metadata": {},
   "outputs": [],
   "source": [
    "tox21_aces_ahr_no_sirius = tox21_aces_unique_no_sirius.dropna(subset='nr.ahr', how='all').reset_index(drop=True)\n",
    "tox21_aces_mmp_no_sirius = tox21_aces_unique_no_sirius.dropna(subset='sr.mmp', how='all').reset_index(drop=True)"
   ]
  },
  {
   "cell_type": "code",
   "execution_count": null,
   "metadata": {},
   "outputs": [],
   "source": [
    "plt.hist(tox21_aces_unique_no_sirius['gc_probability'], bins=20)\n",
    "plt.xlabel('Probability of GC-amenability')\n",
    "plt.ylabel('Number of compounds')\n",
    "plt.title('Probability of GC-amenability for compounds in KLARA ACES \\n SIRIUS training data removed')"
   ]
  },
  {
   "cell_type": "code",
   "execution_count": null,
   "metadata": {},
   "outputs": [],
   "source": [
    "tox21_aces_unique_sirius_GC50 = tox21_aces_unique_sirius[tox21_aces_unique_sirius['gc_probability'] > 0.5]\n",
    "tox21_aces_unique_no_sirius_GC50 = tox21_aces_unique_sirius_GC50[tox21_aces_unique_sirius_GC50.sirius_data.isna()]"
   ]
  },
  {
   "cell_type": "code",
   "execution_count": null,
   "metadata": {},
   "outputs": [],
   "source": [
    "print('Prob. of GC-amenability > 0.5')\n",
    "print('----------')\n",
    "\n",
    "print(f'Tox21 compounds without spectra and found in KLARA ACES (SIRIUS training data included):')\n",
    "for endpoint in endpoints_list: \n",
    "    print(tox21_aces_unique_sirius_GC50.value_counts(endpoint))\n",
    "\n",
    "print(f'Tox21 compounds without spectra and found in KLARA ACES (SIRIUS training data removed):')\n",
    "for endpoint in endpoints_list: \n",
    "    print(tox21_aces_unique_no_sirius_GC50.value_counts(endpoint))"
   ]
  },
  {
   "cell_type": "markdown",
   "metadata": {},
   "source": [
    "#### KLARA Kemikum"
   ]
  },
  {
   "cell_type": "markdown",
   "metadata": {},
   "source": [
    "Removing any compounds not included in KLARA kemikum, as well as any duplicate compounds. "
   ]
  },
  {
   "cell_type": "code",
   "execution_count": null,
   "metadata": {},
   "outputs": [],
   "source": [
    "tox21_kemikum = tox21_ahr_mmp.dropna(subset=['section_kemikum'], how='all').reset_index(drop=True)\n",
    "tox21_kemikum_no_dupl = tox21_kemikum.drop_duplicates(subset=['InChIKey14'], keep='first').reset_index(drop=True)"
   ]
  },
  {
   "cell_type": "markdown",
   "metadata": {},
   "source": [
    "Visualizations."
   ]
  },
  {
   "cell_type": "code",
   "execution_count": null,
   "metadata": {},
   "outputs": [],
   "source": [
    "import matplotlib.pyplot as plt\n",
    "\n",
    "plt.hist(tox21_kemikum_no_dupl['gc_probability'], bins=20)\n",
    "plt.xlabel('Probability of GC-amenability')\n",
    "plt.ylabel('Number of compounds')\n",
    "plt.title('Probability of GC-amenability for compounds in KLARA Kemikum \\n SIRIUS training data included')"
   ]
  },
  {
   "cell_type": "code",
   "execution_count": null,
   "metadata": {},
   "outputs": [],
   "source": [
    "tox21_kemikum_unique_sirius = tox21_kemikum_no_dupl[(tox21_kemikum_no_dupl['ms_library'].isna())&\n",
    "                                                    (tox21_kemikum_no_dupl['iris_data'].isna())&\n",
    "                                                    (tox21_kemikum_no_dupl['isabel_data'].isna())\n",
    "]\n",
    "\n",
    "tox21_kemikum_unique_no_sirius = tox21_kemikum_unique_sirius[tox21_kemikum_unique_sirius.sirius_data.isna()]\n",
    "\n",
    "tox21_kemikum_ahr_no_sirius = tox21_kemikum_unique_no_sirius.dropna(subset='nr.ahr', how='all').reset_index(drop=True)\n",
    "tox21_kemikum_mmp_no_sirius = tox21_kemikum_unique_no_sirius.dropna(subset='sr.mmp', how='all').reset_index(drop=True)"
   ]
  },
  {
   "cell_type": "code",
   "execution_count": null,
   "metadata": {},
   "outputs": [],
   "source": [
    "plt.hist(tox21_kemikum_unique_no_sirius['gc_probability'], bins=20)\n",
    "plt.xlabel('Probability of GC-amenability')\n",
    "plt.ylabel('Number of compounds')\n",
    "plt.title('Probability of GC-amenability for compounds in KLARA ACES \\n SIRIUS training data removed')"
   ]
  },
  {
   "cell_type": "code",
   "execution_count": null,
   "metadata": {},
   "outputs": [],
   "source": [
    "tox21_kemikum_unique_sirius_GC50 = tox21_kemikum_unique_sirius[tox21_kemikum_unique_sirius['gc_probability'] > 0.5]\n",
    "tox21_kemikum_unique_no_sirius_GC50 = tox21_kemikum_unique_sirius_GC50[tox21_kemikum_unique_sirius_GC50.sirius_data.isna()]\n",
    "\n",
    "print('Prob. of GC-amenability > 0.5')\n",
    "print('----------')\n",
    "\n",
    "print(f'Tox21 compounds without spectra and found in KLARA Kemikum (SIRIUS training data included):')\n",
    "for endpoint in endpoints_list: \n",
    "    print(tox21_kemikum_unique_sirius_GC50.value_counts(endpoint))\n",
    "\n",
    "print(f'Tox21 compounds without spectra and found in KLARA Kemikum (SIRIUS training data removed):')\n",
    "for endpoint in endpoints_list: \n",
    "    print(tox21_kemikum_unique_no_sirius_GC50.value_counts(endpoint))"
   ]
  },
  {
   "cell_type": "markdown",
   "metadata": {},
   "source": [
    "### Compiling list of chemicals to analyse\n",
    "I will compile lists for all actives and inactives with a GC-amenability probability over 0.5, as well as remove any compounds which are already found in any spectral library or dataset. "
   ]
  },
  {
   "cell_type": "code",
   "execution_count": null,
   "metadata": {},
   "outputs": [],
   "source": [
    "tox21_experimental_list = tox21_ahr_mmp.dropna(subset=['section_aces', 'section_kemikum'], how='all').reset_index(drop=True)\n",
    "tox21_experimental_list = tox21_experimental_list[(tox21_experimental_list['ms_library'].isna())&\n",
    "                                                  (tox21_experimental_list['iris_data'].isna())&\n",
    "                                                  (tox21_experimental_list['isabel_data'].isna())]\n",
    "tox21_experimental_list_GC50 = tox21_experimental_list[tox21_experimental_list['gc_probability'] > 0.5]\n",
    "tox21_experimental_list_GC50 = tox21_experimental_list_GC50.drop(columns=['old_klara_MMK', 'ms_library', 'iris_data', 'isabel_data']).reset_index(drop=True)\n",
    "\n",
    "tox21_experimental_list_GC50_no_sirius = tox21_experimental_list_GC50[tox21_experimental_list_GC50['sirius_data'].isna()]"
   ]
  },
  {
   "cell_type": "code",
   "execution_count": null,
   "metadata": {},
   "outputs": [],
   "source": [
    "# Remove any duplicates in regards to InChIKey14 and group by both Kemikum and ACES sections\n",
    "tox21_experimental_list_sorted = tox21_experimental_list_GC50_no_sirius.sort_values(by='gc_probability', ascending=False)\n",
    "tox21_experimental_list_filtered = tox21_experimental_list_sorted.drop_duplicates(subset=['InChIKey14', 'section_kemikum', 'section_aces'],keep='first').reset_index(drop=True)"
   ]
  },
  {
   "cell_type": "code",
   "execution_count": null,
   "metadata": {},
   "outputs": [],
   "source": [
    "tox21_experimental_list_filtered.section_kemikum.value_counts()"
   ]
  },
  {
   "cell_type": "code",
   "execution_count": null,
   "metadata": {},
   "outputs": [],
   "source": [
    "#List of names of groups in analytical chemistry\n",
    "list_of_names = ['Group CÖ_UN', 'Kurslab_AK', 'Group Ioannis Sadiktsis', 'Group Jan Holmbäck','Masslab', 'Group Anneli Kruve', 'Group Nicole Pamme', 'Group Leopold Ilag']\n",
    "\n",
    "filter_of_compounds_available = tox21_experimental_list_filtered.section_kemikum.isin(list_of_names)"
   ]
  },
  {
   "cell_type": "code",
   "execution_count": null,
   "metadata": {},
   "outputs": [],
   "source": [
    "#analytical department compounds\n",
    "tox21_experimental_list_analytical_department = tox21_experimental_list_filtered[filter_of_compounds_available].reset_index(drop=True)\n",
    "\n",
    "#kemikum (non-analytical) department unique compounds\n",
    "tox21_experimental_list_other_departments = tox21_experimental_list_filtered[~tox21_experimental_list_filtered.InChIKey14.isin(tox21_experimental_list_analytical_department['InChIKey14'])]\n",
    "tox21_experimental_list_other_departments_kemikum = tox21_experimental_list_other_departments.dropna(subset=['section_kemikum'], how='all').reset_index(drop=True)\n",
    "\n",
    "#aces unique compounds\n",
    "tox21_experimental_list_aces = tox21_experimental_list_other_departments[tox21_experimental_list_other_departments.section_kemikum.isna()].reset_index(drop=True)"
   ]
  },
  {
   "cell_type": "markdown",
   "metadata": {},
   "source": [
    "Determine how many unique compounds are found in each subcategory section."
   ]
  },
  {
   "cell_type": "code",
   "execution_count": null,
   "metadata": {},
   "outputs": [],
   "source": [
    "def active_inactive_count(df, endpoints_list):\n",
    "    df = df.drop_duplicates(subset='InChIKey14')\n",
    "    for endpoint in endpoints_list:\n",
    "        print(f'Active/inactive count for {endpoint}')\n",
    "        print(df.value_counts(endpoint))\n",
    "\n",
    "print('Analytical department')\n",
    "active_inactive_count(tox21_experimental_list_analytical_department, endpoints_list)\n",
    "print('------')\n",
    "\n",
    "print('Other departments')\n",
    "active_inactive_count(tox21_experimental_list_other_departments_kemikum, endpoints_list)\n",
    "print('------')\n",
    "\n",
    "print('ACES')\n",
    "active_inactive_count(tox21_experimental_list_aces, endpoints_list)\n",
    "print('------')"
   ]
  },
  {
   "cell_type": "markdown",
   "metadata": {},
   "source": [
    "Combine with information from KLARA datasets"
   ]
  },
  {
   "cell_type": "code",
   "execution_count": null,
   "metadata": {},
   "outputs": [],
   "source": [
    "tox21_experimental_list_analytical_department = tox21_experimental_list_analytical_department.merge(klara_kemikum_nona[['cas', 'name', 'InChIKey14']], on='InChIKey14', how='left')\n",
    "tox21_experimental_list_analytical_department = tox21_experimental_list_analytical_department.drop_duplicates(subset=['InChIKey14', 'section_kemikum']).reset_index(drop=True)\n",
    "tox21_experimental_list_analytical_department = tox21_experimental_list_analytical_department.drop(columns=['section_aces', 'gc_probability', 'sirius_data'])\n",
    "tox21_experimental_list_analytical_department = tox21_experimental_list_analytical_department.sort_values(by=['nr.ahr', 'sr.mmp', 'InChIKey14'], ascending=[False,False,True]).reset_index(drop=True)\n",
    "\n",
    "tox21_experimental_list_other_departments_kemikum = tox21_experimental_list_other_departments_kemikum.merge(klara_kemikum_nona[['cas', 'name', 'InChIKey14']], on='InChIKey14', how='left')\n",
    "tox21_experimental_list_other_departments_kemikum = tox21_experimental_list_other_departments_kemikum.drop_duplicates(subset=['InChIKey14', 'section_kemikum']).reset_index(drop=True)\n",
    "tox21_experimental_list_other_departments_kemikum = tox21_experimental_list_other_departments_kemikum.drop(columns=['section_aces', 'gc_probability', 'sirius_data'])\n",
    "tox21_experimental_list_other_departments_kemikum = tox21_experimental_list_other_departments_kemikum.sort_values(by=['nr.ahr', 'sr.mmp', 'InChIKey14'], ascending=[False, False,True]).reset_index(drop=True)\n",
    "\n",
    "tox21_experimental_list_aces = tox21_experimental_list_aces.merge(klara_aces[['cas', 'name', 'InChIKey14']], on='InChIKey14', how='left')\n",
    "tox21_experimental_list_aces = tox21_experimental_list_aces.drop_duplicates(subset=['InChIKey14', 'section_aces']).reset_index(drop=True)\n",
    "tox21_experimental_list_aces = tox21_experimental_list_aces.drop(columns=['section_kemikum', 'gc_probability', 'sirius_data'])\n",
    "tox21_experimental_list_aces = tox21_experimental_list_aces.sort_values(by=['nr.ahr', 'sr.mmp', 'InChIKey14'], ascending=[False,False,True]).reset_index(drop=True)"
   ]
  },
  {
   "cell_type": "code",
   "execution_count": null,
   "metadata": {},
   "outputs": [],
   "source": [
    "# tox21_experimental_list_analytical_department.to_excel('2025-02-14_available_chemicals_KLARA_Kemikum_Analytical_Department.xlsx')\n",
    "# tox21_experimental_list_other_departments_kemikum.to_excel('2025-02-14_available_chemicals_KLARA_Kemikum_Other_Departments.xlsx')\n",
    "# tox21_experimental_list_aces.to_excel('2025-02-14_available_chemicals_KLARA_ACES.xlsx')"
   ]
  },
  {
   "cell_type": "markdown",
   "metadata": {},
   "source": [
    "### Compiling lists of actives to analyse and ask about\n",
    "\n",
    "Which compounds are already available in the group to analyse? Which are available in the corridor to ask about? "
   ]
  },
  {
   "cell_type": "code",
   "execution_count": null,
   "metadata": {},
   "outputs": [],
   "source": [
    "def separate_groups(df, group_name):\n",
    "    group = df[(df['section_kemikum'].str.contains(group_name))]\n",
    "    df = df[~df['InChIKey14'].isin(group['InChIKey14'])]\n",
    "    return df, group\n",
    "\n",
    "tox21_ad_actives = tox21_experimental_list_analytical_department[(tox21_experimental_list_analytical_department['nr.ahr'] == 1)|\n",
    "                                                                 (tox21_experimental_list_analytical_department['sr.mmp'] == 1)]\n",
    "\n",
    "tox21_ad_actives, tox21_kruve_group = separate_groups(tox21_ad_actives, 'Kruve')\n",
    "tox21_ad_actives, tox21_masslab_group = separate_groups(tox21_ad_actives, 'Masslab')\n",
    "tox21_ad_actives, tox21_kurslab_group = separate_groups(tox21_ad_actives, 'Kurslab')\n",
    "tox21_ad_actives, tox21_group_cö_un = separate_groups(tox21_ad_actives, 'Group CÖ_UN')\n",
    "tox21_ad_actives, tox21_group_ioannis = separate_groups(tox21_ad_actives, 'Ioannis')\n",
    "tox21_ad_actives, tox21_group_ilag = separate_groups(tox21_ad_actives, 'Ilag')\n",
    "tox21_ad_actives, tox21_group_jan_holmback = separate_groups(tox21_ad_actives, 'Group Jan Holmbäck')"
   ]
  },
  {
   "cell_type": "code",
   "execution_count": null,
   "metadata": {},
   "outputs": [],
   "source": [
    "tox21_ac_actives = pd.concat([tox21_kruve_group, \n",
    "                              tox21_masslab_group, \n",
    "                              tox21_kurslab_group, \n",
    "                              tox21_group_cö_un, \n",
    "                              tox21_group_ioannis, \n",
    "                              tox21_group_ilag, \n",
    "                              tox21_group_jan_holmback])"
   ]
  },
  {
   "cell_type": "markdown",
   "metadata": {},
   "source": [
    "#### Kemikum KLARA list specifications"
   ]
  },
  {
   "cell_type": "markdown",
   "metadata": {},
   "source": [
    "### Available compounds in Kemikum (excl. AC)"
   ]
  },
  {
   "cell_type": "code",
   "execution_count": null,
   "metadata": {},
   "outputs": [],
   "source": [
    "groups_allowed_to_borrow_chemicals = ['Group JoS', 'Group KS']\n",
    "\n",
    "tox21_kemikum_available_actives = tox21_experimental_list_other_departments_kemikum[(tox21_experimental_list_other_departments_kemikum['nr.ahr'] == 1)|\n",
    "                                                                                    (tox21_experimental_list_other_departments_kemikum['sr.mmp'] == 1)]\n",
    "\n",
    "tox21_kemikum_available_actives = tox21_kemikum_available_actives[tox21_kemikum_available_actives['section_kemikum'].isin(groups_allowed_to_borrow_chemicals)]\n",
    "\n",
    "tox21_kemikum_available_actives = tox21_kemikum_available_actives.sort_values(by=['InChIKey14','section_kemikum'], ascending=[True, True]).reset_index(drop=True)\n",
    "tox21_kemikum_available_actives = tox21_kemikum_available_actives.drop_duplicates(subset='InChIKey14', keep='first').reset_index(drop=True)\n",
    "tox21_kemikum_available_actives = tox21_kemikum_available_actives.sort_values(by='section_kemikum').reset_index(drop=True)"
   ]
  },
  {
   "cell_type": "code",
   "execution_count": null,
   "metadata": {},
   "outputs": [],
   "source": []
  },
  {
   "cell_type": "markdown",
   "metadata": {},
   "source": [
    "### Determine molecular formula for each compound"
   ]
  },
  {
   "cell_type": "code",
   "execution_count": null,
   "metadata": {},
   "outputs": [],
   "source": [
    "from rdkit import Chem\n",
    "from rdkit.Chem import PandasTools, Descriptors, rdMolDescriptors, Crippen, Fragments"
   ]
  },
  {
   "cell_type": "code",
   "execution_count": null,
   "metadata": {},
   "outputs": [],
   "source": [
    "def calc_molecular_formula_and_mol_weight(df):\n",
    "    PandasTools.AddMoleculeColumnToFrame(df, smilesCol='SMILES')\n",
    "    df['molecular_weight'] = df['ROMol'].apply(Chem.rdMolDescriptors.CalcExactMolWt)\n",
    "    df['molecular_formula'] = df['ROMol'].apply(Chem.rdMolDescriptors.CalcMolFormula)\n",
    "    df['logP'] = df['ROMol'].apply(Chem.Crippen.MolLogP)\n",
    "\n",
    "    prim_amines = df['ROMol'].apply(Chem.Fragments.fr_NH2)\n",
    "    sec_amines = df['ROMol'].apply(Chem.Fragments.fr_NH1)\n",
    "    tert_amines = df['ROMol'].apply(Chem.Fragments.fr_NH0)\n",
    "    arom_amines = df['ROMol'].apply(Chem.Fragments.fr_Ar_NH)\n",
    "    df['amines'] = prim_amines + sec_amines + tert_amines + arom_amines\n",
    "\n",
    "    aliph_hydroxyls = df['ROMol'].apply(Chem.Fragments.fr_Al_OH)\n",
    "    aromatic_hydroxyls = df['ROMol'].apply(Chem.Fragments.fr_Ar_OH)\n",
    "    df['hydroxyls'] = aliph_hydroxyls + aromatic_hydroxyls\n",
    "\n",
    "    df['HBA'] = df['ROMol'].apply(Chem.rdMolDescriptors.CalcNumLipinskiHBA)\n",
    "    df['HBD'] = df['ROMol'].apply(Chem.rdMolDescriptors.CalcNumLipinskiHBD)\n",
    "    return df"
   ]
  },
  {
   "cell_type": "code",
   "execution_count": null,
   "metadata": {},
   "outputs": [],
   "source": [
    "available_actives = pd.concat([tox21_ac_actives, tox21_kemikum_available_actives]).reset_index(drop=True)\n",
    "\n",
    "available_actives = calc_molecular_formula_and_mol_weight(available_actives)"
   ]
  },
  {
   "cell_type": "code",
   "execution_count": null,
   "metadata": {},
   "outputs": [],
   "source": [
    "available_actives['boiling_pointC'] = [142.78, np.nan, 129, 280,\n",
    "                                       np.nan, \n",
    "                                       288, np.nan, np.nan, np.nan, 83, \n",
    "                                       np.nan, 251, np.nan, np.nan, np.nan, 243, np.nan, np.nan, np.nan, np.nan, 302, np.nan, np.nan, np.nan,\n",
    "                                       np.nan, np.nan, np.nan, np.nan, np.nan, np.nan, 410, np.nan, np.nan, np.nan, np.nan, 304, \n",
    "                                       np.nan, np.nan, np.nan, \n",
    "                                       184,\n",
    "                                       np.nan, 256, 263, 265, 306, \n",
    "                                       285, 267, np.nan, 200, np.nan, 204, np.nan, 246, 245, np.nan, 211, 255, 182, np.nan  ]\n",
    "available_actives['vapour_pressure_mmHg'] = [0.0000035, 0.000112, 0.0000172, 0.000098, \n",
    "                                             np.nan,\n",
    "                                             0.000274, 0.0028, np.nan,  np.nan, 0.0052, \n",
    "                                             np.nan, 0.01, np.nan, 0.00000001, np.nan, 0.03, 0.4, 0.00206, 0.00308, 0.00000047, 0.00067, 0.00000016, 0.00000194, 0.00000079,\n",
    "                                             np.nan, 0.0000265, 0.00000954, 0.000138, np.nan, np.nan, 0.00000175, 0.000138, np.nan, 0.00000005, 0.0000183, 0.00048, \n",
    "                                             np.nan, np.nan, 0.0317,\n",
    "                                             0.67,\n",
    "                                             np.nan, 0.01, 0.00791, np.nan, 0.000881, \n",
    "                                             0.0018, 0.0000778, 0.0000051, 0.28, np.nan, 95.4, 0.0000119, 0.008, 0.005, np.nan, 0.17, 0.000553, 1.1, np.nan] "
   ]
  },
  {
   "cell_type": "code",
   "execution_count": null,
   "metadata": {},
   "outputs": [],
   "source": [
    "available_actives = available_actives[available_actives['name']!= '2,4-toluendiisocyanat (isomerblandning)']"
   ]
  },
  {
   "cell_type": "code",
   "execution_count": null,
   "metadata": {},
   "outputs": [],
   "source": [
    "from rdkit.Chem import Draw\n",
    "\n",
    "available_actives['structure'] = available_actives.ROMol.apply(Chem.Draw.MolToImage)"
   ]
  },
  {
   "cell_type": "code",
   "execution_count": null,
   "metadata": {},
   "outputs": [],
   "source": [
    "available_actives"
   ]
  },
  {
   "cell_type": "code",
   "execution_count": null,
   "metadata": {},
   "outputs": [],
   "source": [
    "available_actives.molecular_weight.describe()"
   ]
  },
  {
   "cell_type": "code",
   "execution_count": null,
   "metadata": {},
   "outputs": [],
   "source": [
    "available_actives_w_same_mol_formula = available_actives[available_actives.duplicated(subset='molecular_formula', keep=False)].reset_index(drop=True).sort_values(by='molecular_formula')\n",
    "\n",
    "available_actives_w_same_mol_formula"
   ]
  },
  {
   "cell_type": "markdown",
   "metadata": {},
   "source": [
    "The mixes that will be made"
   ]
  },
  {
   "cell_type": "code",
   "execution_count": null,
   "metadata": {},
   "outputs": [],
   "source": [
    "def make_mixes_df(df, mix_list): \n",
    "    mix_df = df[df['name'].isin(mix_list)].reset_index(drop=True)\n",
    "    new_df = df[~df['name'].isin(mix_list)].reset_index(drop=True)\n",
    "    return new_df, mix_df"
   ]
  },
  {
   "cell_type": "code",
   "execution_count": null,
   "metadata": {},
   "outputs": [],
   "source": [
    "compounds_to_remove_list = ['p-Toluidin', #Too crystalized in packaging, could not be transferred\n",
    "                            'Aminoguanidine bicarbonate' # Could not be dissolved in anything other that water\n",
    "                            ] \n",
    "\n",
    "mix1_list = ['4-Klorfenylisocyanat', '2-Kloracetofenon', 'alpha-Tetralone (volym)', 'trans-Stilben', 'Triphenylborane', 'Inden (massa)', 'Ftaldialdehyd', 'p-Kloranil']\n",
    "\n",
    "mix2_list = ['N-Phenyl-o-phenylenediamine', '3-(Dimetylamino)-fenol', 'N,N-Dimetyl-p-fenylendiamin', '2-Nitrophenylacetonitril', '1,3-Fenylendiamin', 'Benzhydrazide', '2,4,6-Triklorfenol', 'N,N-Dimetyl-p-toluidin (massa)',\n",
    "             '2,3-Diaminotoluen', '1-Naftol', 'Tiourea', 'Myristyltrimetylammoniumbromid', 'Hexadecyltrimetylammoniumbromid', 'N,N-Dietyl-1,4-fenylendiammoniumsulfat']"
   ]
  },
  {
   "cell_type": "code",
   "execution_count": null,
   "metadata": {},
   "outputs": [],
   "source": [
    "available_actives = available_actives[~available_actives['name'].isin(compounds_to_remove_list)]\n",
    "\n",
    "available_actives_new, mix1 = make_mixes_df(available_actives, mix1_list)\n",
    "available_actives_new, mix2 = make_mixes_df(available_actives_new, mix2_list)"
   ]
  },
  {
   "cell_type": "code",
   "execution_count": null,
   "metadata": {},
   "outputs": [],
   "source": [
    "mix1 = mix1.sort_values(by='molecular_weight', ascending=True)\n",
    "\n",
    "mix1"
   ]
  },
  {
   "cell_type": "code",
   "execution_count": null,
   "metadata": {},
   "outputs": [],
   "source": [
    "mix1"
   ]
  },
  {
   "cell_type": "code",
   "execution_count": null,
   "metadata": {},
   "outputs": [],
   "source": [
    "mix1.molecular_weight.sort_values()"
   ]
  },
  {
   "cell_type": "code",
   "execution_count": null,
   "metadata": {},
   "outputs": [],
   "source": [
    "mix2 = mix2.sort_values(by='molecular_weight', ascending=True)\n",
    "\n",
    "mix2"
   ]
  },
  {
   "cell_type": "code",
   "execution_count": null,
   "metadata": {},
   "outputs": [],
   "source": [
    "mix2.vapour_pressure_mmHg"
   ]
  },
  {
   "cell_type": "code",
   "execution_count": null,
   "metadata": {},
   "outputs": [],
   "source": [
    "mix2.iloc[10]"
   ]
  },
  {
   "cell_type": "markdown",
   "metadata": {},
   "source": [
    "##### KLARA information added to each group"
   ]
  },
  {
   "cell_type": "markdown",
   "metadata": {},
   "source": [
    "Analytical chemistry department"
   ]
  },
  {
   "cell_type": "code",
   "execution_count": null,
   "metadata": {},
   "outputs": [],
   "source": [
    "klara_kemikum_nona.rename(columns={'section':'section_kemikum'}, inplace=True)\n",
    "\n",
    "def add_klara_info(df):\n",
    "    new_df = klara_kemikum_nona[['name', 'cas', 'building', 'floor', 'room', 'storage', 'section_kemikum', 'comment', 'klara-id', 'InChIKey14']].merge(df[['InChIKey14', 'section_kemikum']], \n",
    "                                                                                                                                                       on=['InChIKey14', 'section_kemikum'], \n",
    "                                                                                                                                                       how='right')\n",
    "    new_df = new_df.drop_duplicates(subset=new_df.columns, keep='first').reset_index(drop=True)\n",
    "    return new_df\n",
    "\n",
    "tox21_kurslab_klara = add_klara_info(tox21_kurslab_group)\n",
    "tox21_un_klara = add_klara_info(tox21_group_cö_un)\n",
    "tox21_ilag_klara = add_klara_info(tox21_group_ilag)\n",
    "\n",
    "tox21_kruve_klara = add_klara_info(tox21_kruve_group)\n",
    "tox21_kruve_klara"
   ]
  },
  {
   "cell_type": "code",
   "execution_count": null,
   "metadata": {},
   "outputs": [],
   "source": [
    "tox21_un_klara"
   ]
  },
  {
   "cell_type": "code",
   "execution_count": null,
   "metadata": {},
   "outputs": [],
   "source": [
    "list_of_chemicals_group_tosave = [tox21_kurslab_klara, tox21_un_klara, tox21_ilag_klara]\n",
    "\n",
    "for group in list_of_chemicals_group_tosave:\n",
    "    group.to_excel(f'2025-02-18_available_chemicals_{group[\"section_kemikum\"].iloc[0]}.xlsx', index=False)"
   ]
  },
  {
   "cell_type": "markdown",
   "metadata": {},
   "source": [
    "Organic chemistry department"
   ]
  },
  {
   "cell_type": "code",
   "execution_count": null,
   "metadata": {},
   "outputs": [],
   "source": [
    "group_ks_klara = tox21_kemikum_available_actives[tox21_kemikum_available_actives['section_kemikum'].str.contains('Group KS')]\n",
    "group_ks_klara = add_klara_info(group_ks_klara)\n",
    "\n",
    "group_ks_klara_no_dupl = group_ks_klara.drop(columns=['section_kemikum', 'building', 'floor', 'InChIKey14'])\n",
    "group_ks_klara_no_dupl = group_ks_klara_no_dupl.drop_duplicates(subset=group_ks_klara_no_dupl.columns, keep='first').reset_index(drop=True)\n",
    "\n",
    "group_ks_klara_no_dupl\n",
    "\n",
    "group_ks_klara_no_dupl.to_excel('2025-02-19_available_chemicals_Group_KS.xlsx', index=False)"
   ]
  },
  {
   "cell_type": "code",
   "execution_count": null,
   "metadata": {},
   "outputs": [],
   "source": [
    "group_ks_klara = group_JoS_klara = tox21_kemikum_available_actives[tox21_kemikum_available_actives['section_kemikum'].str.contains('Group KS')]\n",
    "group_ks_klara = add_klara_info(group_ks_klara)\n",
    "\n",
    "group_ks_klara"
   ]
  },
  {
   "cell_type": "code",
   "execution_count": null,
   "metadata": {},
   "outputs": [],
   "source": [
    "group_JoS_klara = tox21_kemikum_available_actives[tox21_kemikum_available_actives['section_kemikum'].str.contains('Group JoS')]\n",
    "group_JoS_klara = add_klara_info(group_JoS_klara)\n",
    "\n",
    "group_JoS_klara\n",
    "\n",
    "group_JoS_klara.to_excel('2025-02-21_available_chemicals_group_JoS.xlsx', index=False)"
   ]
  },
  {
   "cell_type": "code",
   "execution_count": null,
   "metadata": {},
   "outputs": [],
   "source": [
    "group_JoS_klara"
   ]
  },
  {
   "cell_type": "code",
   "execution_count": null,
   "metadata": {},
   "outputs": [],
   "source": []
  }
 ],
 "metadata": {
  "kernelspec": {
   "display_name": "Python 3",
   "language": "python",
   "name": "python3"
  },
  "language_info": {
   "codemirror_mode": {
    "name": "ipython",
    "version": 3
   },
   "file_extension": ".py",
   "mimetype": "text/x-python",
   "name": "python",
   "nbconvert_exporter": "python",
   "pygments_lexer": "ipython3",
   "version": "3.9.6"
  }
 },
 "nbformat": 4,
 "nbformat_minor": 2
}
