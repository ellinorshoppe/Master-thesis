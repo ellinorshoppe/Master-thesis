{
 "cells": [
  {
   "cell_type": "markdown",
   "id": "168be685",
   "metadata": {},
   "source": [
    "# Models for AHR and MMP endpoints\n",
    "Here the model training for the two models will done. "
   ]
  },
  {
   "cell_type": "code",
   "execution_count": null,
   "id": "70ec62e2",
   "metadata": {},
   "outputs": [],
   "source": [
    "import pandas as pd\n",
    "import numpy as np\n",
    "\n",
    "import pickle\n",
    "\n",
    "from sklearn.model_selection import train_test_split\n",
    "from sklearn.ensemble import RandomForestRegressor\n",
    "from sklearn.datasets import make_classification\n",
    "from sklearn.model_selection import train_test_split,cross_val_score\n",
    "from sklearn.metrics import root_mean_squared_error,mean_absolute_error\n",
    "from sklearn.feature_selection import VarianceThreshold\n",
    "from sklearn.preprocessing import scale\n",
    "\n",
    "import optuna"
   ]
  },
  {
   "cell_type": "code",
   "execution_count": null,
   "id": "14fdb057",
   "metadata": {},
   "outputs": [],
   "source": [
    "#Load the datasets\n",
    "with open('/Users/elli/Library/CloudStorage/OneDrive-Kruvelab/Master_thesis/Code/Tox21 comparison/2025-05-12_tox21_ahr_mmp_available_compounds_all_sources_UPDATED.pkl', 'rb') as f:\n",
    "    tox21 = pickle.load(f)\n",
    "\n",
    "with open('/Users/elli/Library/CloudStorage/OneDrive-Kruvelab/Master_thesis/Data/Tox21/2025-03-12_Tox21_remade_fp.pkl', 'rb') as f:\n",
    "    tox21_fp = pickle.load(f)\n",
    "\n",
    "ms_data = pd.read_excel('/Users/elli/Library/CloudStorage/OneDrive-Kruvelab/Master_thesis/Experimental/Experimental_work/2025-04-25_active_mixes_ms.xlsx')"
   ]
  },
  {
   "cell_type": "code",
   "execution_count": null,
   "id": "286dfb44",
   "metadata": {},
   "outputs": [],
   "source": [
    "tox21"
   ]
  },
  {
   "cell_type": "code",
   "execution_count": null,
   "id": "439aa4fe",
   "metadata": {},
   "outputs": [],
   "source": [
    "tox21_fp.sirius5_fp.notna().sum()"
   ]
  },
  {
   "cell_type": "code",
   "execution_count": null,
   "id": "f57a2f9c",
   "metadata": {},
   "outputs": [],
   "source": [
    "expanded_fp = tox21_fp['sirius5_fp'].apply(pd.Series)"
   ]
  },
  {
   "cell_type": "code",
   "execution_count": null,
   "id": "84e22d4b",
   "metadata": {},
   "outputs": [],
   "source": [
    "expanded_fp.shape"
   ]
  },
  {
   "cell_type": "code",
   "execution_count": null,
   "id": "0a94eeb4",
   "metadata": {},
   "outputs": [],
   "source": [
    "expanded_fp.iloc[:, 0].isna().sum()"
   ]
  },
  {
   "cell_type": "code",
   "execution_count": null,
   "id": "73e09ffb",
   "metadata": {},
   "outputs": [],
   "source": [
    "tox21_fp['sirius5_fp'].isna().sum()"
   ]
  },
  {
   "cell_type": "code",
   "execution_count": null,
   "id": "d240a0d0",
   "metadata": {},
   "outputs": [],
   "source": [
    "tox21_fp"
   ]
  },
  {
   "cell_type": "code",
   "execution_count": null,
   "id": "c12684f0",
   "metadata": {},
   "outputs": [],
   "source": [
    "expanded_fp = tox21_fp['sirius5_fp'].apply(pd.Series)"
   ]
  },
  {
   "cell_type": "code",
   "execution_count": null,
   "id": "e886e050",
   "metadata": {},
   "outputs": [],
   "source": [
    "tox21_fp.sirius5_fp.isna().sum()"
   ]
  },
  {
   "cell_type": "code",
   "execution_count": null,
   "id": "f314f032",
   "metadata": {},
   "outputs": [],
   "source": [
    "tox21"
   ]
  },
  {
   "cell_type": "code",
   "execution_count": null,
   "id": "71948762",
   "metadata": {},
   "outputs": [],
   "source": [
    "ms_data = ms_data[['name', 'SMILES', 'Found with UNIFI']]\n",
    "ms_data = ms_data.rename(columns={'Found with UNIFI': 'ionization_experimental'})\n",
    "ms_data = ms_data.dropna(subset=['name'])\n",
    "\n",
    "ms_data"
   ]
  },
  {
   "cell_type": "code",
   "execution_count": null,
   "id": "ac5d2ec2",
   "metadata": {},
   "outputs": [],
   "source": [
    "tox21 = pd.merge(tox21, ms_data[['ionization_experimental', 'SMILES']], how='left', on='SMILES')\n",
    "\n",
    "tox21[tox21['ionization_experimental'].notna()]"
   ]
  },
  {
   "cell_type": "code",
   "execution_count": null,
   "id": "343e9b27",
   "metadata": {},
   "outputs": [],
   "source": [
    "tox21 = tox21.merge(tox21_fp[['InChIKey14', 'sirius5_fp']], on='InChIKey14', how='left')\n",
    "tox21[tox21.sirius5_fp.isna()]"
   ]
  },
  {
   "cell_type": "code",
   "execution_count": null,
   "id": "d2ca4afc",
   "metadata": {},
   "outputs": [],
   "source": [
    "tox21 = tox21[tox21.sirius5_fp.notna()]\n",
    "\n",
    "tox21"
   ]
  },
  {
   "cell_type": "code",
   "execution_count": null,
   "id": "c5d297a7",
   "metadata": {},
   "outputs": [],
   "source": [
    "# with open('tox21_all_sources_fp.pkl', 'wb') as f:\n",
    "#     pickle.dump(tox21, f)"
   ]
  },
  {
   "cell_type": "markdown",
   "id": "6db1a96d",
   "metadata": {},
   "source": [
    "### Training, testing and evaluation data\n",
    "The training and testing data will be a 9:1 slit between the compounds which are not available in the library, Iris data, Isabells data, SIRIUS training data or the experimental acquisition data. The evaluation will be the others mentioned combined. "
   ]
  },
  {
   "cell_type": "code",
   "execution_count": null,
   "id": "36f99775",
   "metadata": {},
   "outputs": [],
   "source": [
    "with open('tox21_all_sources_fp.pkl', 'rb') as f:\n",
    "    tox21 = pickle.load(f)"
   ]
  },
  {
   "cell_type": "code",
   "execution_count": null,
   "id": "7c34564b",
   "metadata": {},
   "outputs": [],
   "source": [
    "tox21"
   ]
  },
  {
   "cell_type": "code",
   "execution_count": null,
   "id": "3084b0d0",
   "metadata": {},
   "outputs": [],
   "source": [
    "#Training data includes all compounds which doesn't have any experimental data, or if they were not ionized during acquisition\n",
    "train_test = tox21[(tox21['ms_library'].isna())                 \n",
    "                   &(tox21['iris_data'].isna())                 \n",
    "                   &(tox21['isabel_data'].isna())\n",
    "                   &(tox21['ionization_experimental'].isna()) \n",
    "                   |(tox21['ionization_experimental']==0) \n",
    "                   ]\n",
    "\n",
    "train_test = train_test[['InChIKey14', 'SMILES', 'sirius5_fp', 'nr.ahr', 'sr.mmp']]\n",
    "\n",
    "tox21.shape, train_test.shape"
   ]
  },
  {
   "cell_type": "code",
   "execution_count": null,
   "id": "ed2780d0",
   "metadata": {},
   "outputs": [],
   "source": [
    "train_test"
   ]
  },
  {
   "cell_type": "code",
   "execution_count": null,
   "id": "cd39ea1b",
   "metadata": {},
   "outputs": [],
   "source": [
    "expanded_fp = train_test['sirius5_fp'].apply(pd.Series)\n",
    "\n",
    "train_test = train_test.drop(columns=['sirius5_fp']).join(expanded_fp)\n",
    "\n",
    "train_test.head()"
   ]
  },
  {
   "cell_type": "code",
   "execution_count": null,
   "id": "e878de9d",
   "metadata": {},
   "outputs": [],
   "source": [
    "expanded_fp.shape"
   ]
  },
  {
   "cell_type": "code",
   "execution_count": null,
   "id": "60eac97d",
   "metadata": {},
   "outputs": [],
   "source": [
    "train_test_ahr = train_test[train_test['nr.ahr'].notna()]\n",
    "train_test_mmp = train_test[train_test['sr.mmp'].notna()]"
   ]
  },
  {
   "cell_type": "code",
   "execution_count": null,
   "id": "7a2f21a9",
   "metadata": {},
   "outputs": [],
   "source": [
    "train_test_ahr.shape, train_test_mmp.shape"
   ]
  },
  {
   "cell_type": "code",
   "execution_count": null,
   "id": "f6503182",
   "metadata": {},
   "outputs": [],
   "source": [
    "# with open('train_test_ahr.pkl', 'wb') as f:\n",
    "#     pickle.dump(train_test_ahr, f)\n",
    "\n",
    "# with open('train_test_mmp.pkl', 'wb') as f:\n",
    "#     pickle.dump(train_test_mmp, f)"
   ]
  },
  {
   "cell_type": "markdown",
   "id": "d321a2b5",
   "metadata": {},
   "source": [
    "##### Evaluation data"
   ]
  },
  {
   "cell_type": "code",
   "execution_count": null,
   "id": "08403ee1",
   "metadata": {},
   "outputs": [],
   "source": [
    "evaluation_data = tox21[tox21['ms_library'].notna() | \n",
    "                        tox21['iris_data'].notna() | \n",
    "                        tox21['isabel_data'].notna()|\n",
    "                        tox21['ionization_experimental']==1]"
   ]
  },
  {
   "cell_type": "code",
   "execution_count": null,
   "id": "5eb0ed45",
   "metadata": {},
   "outputs": [],
   "source": [
    "evaluation_data"
   ]
  },
  {
   "cell_type": "code",
   "execution_count": null,
   "id": "cbe6281f",
   "metadata": {},
   "outputs": [],
   "source": [
    "with open('/Users/elli/Library/CloudStorage/OneDrive-Kruvelab/Master_thesis/Data/MSMS/SIRIUS_output/output_mass_correction_2025-05-13/2025-05-17_experimental_pred_fp_true_fp_correct_formula.pkl', 'rb') as f:\n",
    "    correct_formula = pickle.load(f)"
   ]
  },
  {
   "cell_type": "code",
   "execution_count": null,
   "id": "8a21fd80",
   "metadata": {},
   "outputs": [],
   "source": [
    "correct_formula"
   ]
  },
  {
   "cell_type": "code",
   "execution_count": null,
   "id": "e14ca641",
   "metadata": {},
   "outputs": [],
   "source": [
    "evaluation_data_combined = pd.merge(evaluation_data, correct_formula[['InChIKey14', 'adduct','sirius5_predicted_fp']], on='InChIKey14', how = 'left')"
   ]
  },
  {
   "cell_type": "code",
   "execution_count": null,
   "id": "e8ecf9f8",
   "metadata": {},
   "outputs": [],
   "source": [
    "evaluation_data_combined"
   ]
  },
  {
   "cell_type": "code",
   "execution_count": null,
   "id": "f888542e",
   "metadata": {},
   "outputs": [],
   "source": [
    "evaluation_data_final = evaluation_data_combined[evaluation_data_combined['sirius5_predicted_fp'].notna()]"
   ]
  },
  {
   "cell_type": "code",
   "execution_count": null,
   "id": "2f868ce6",
   "metadata": {},
   "outputs": [],
   "source": [
    "evaluation_data_final"
   ]
  },
  {
   "cell_type": "code",
   "execution_count": null,
   "id": "ed06edf0",
   "metadata": {},
   "outputs": [],
   "source": [
    "evaluation_data_final_no_dupl = evaluation_data_final.drop_duplicates(subset=['sirius5_predicted_fp'], keep='first')"
   ]
  },
  {
   "cell_type": "code",
   "execution_count": null,
   "id": "156692c4",
   "metadata": {},
   "outputs": [],
   "source": [
    "evaluation_data_final"
   ]
  },
  {
   "cell_type": "code",
   "execution_count": null,
   "id": "1b5df92f",
   "metadata": {},
   "outputs": [],
   "source": [
    "evaluation_data_final_no_dupl"
   ]
  },
  {
   "cell_type": "code",
   "execution_count": null,
   "id": "8889d9de",
   "metadata": {},
   "outputs": [],
   "source": [
    "evaluation_data_final_no_dupl[evaluation_data_final_no_dupl.InChIKey14.duplicated(keep=False)]"
   ]
  },
  {
   "cell_type": "code",
   "execution_count": null,
   "id": "d3db22b0",
   "metadata": {},
   "outputs": [],
   "source": [
    "evaluation_data_final_no_dupl = evaluation_data_final_no_dupl.drop_duplicates(subset=['InChIKey14', 'adduct'], keep='first')"
   ]
  },
  {
   "cell_type": "code",
   "execution_count": null,
   "id": "82f91330",
   "metadata": {},
   "outputs": [],
   "source": [
    "evaluation_data_final_no_dupl.shape"
   ]
  },
  {
   "cell_type": "code",
   "execution_count": null,
   "id": "28d4ac03",
   "metadata": {},
   "outputs": [],
   "source": [
    "evaluation_data_final_no_dupl = evaluation_data_final_no_dupl[['InChIKey14', 'SMILES', 'nr.ahr', 'sr.mmp', 'adduct', 'sirius5_predicted_fp']]"
   ]
  },
  {
   "cell_type": "code",
   "execution_count": null,
   "id": "ac3204d3",
   "metadata": {},
   "outputs": [],
   "source": [
    "expanded_fp = evaluation_data_final_no_dupl['sirius5_predicted_fp'].apply(pd.Series)\n",
    "\n",
    "evaluation_data_expanded = evaluation_data_final_no_dupl.drop(columns=['sirius5_predicted_fp']).join(expanded_fp)\n",
    "\n",
    "evaluation_data_expanded.head()"
   ]
  },
  {
   "cell_type": "code",
   "execution_count": null,
   "id": "765502e5",
   "metadata": {},
   "outputs": [],
   "source": [
    "evaluation_data_final_ahr = evaluation_data_expanded[evaluation_data_expanded['nr.ahr'].notna()]\n",
    "evaluation_data_final_mmp = evaluation_data_expanded[evaluation_data_expanded['sr.mmp'].notna()]"
   ]
  },
  {
   "cell_type": "code",
   "execution_count": null,
   "id": "f167574a",
   "metadata": {},
   "outputs": [],
   "source": [
    "evaluation_data_final_ahr.shape, evaluation_data_final_mmp.shape"
   ]
  },
  {
   "cell_type": "code",
   "execution_count": null,
   "id": "fa792afa",
   "metadata": {},
   "outputs": [],
   "source": [
    "evaluation_data_final_ahr.value_counts(subset=['nr.ahr']), evaluation_data_final_mmp.value_counts(subset=['sr.mmp'])"
   ]
  },
  {
   "cell_type": "code",
   "execution_count": null,
   "id": "acb79c17",
   "metadata": {},
   "outputs": [],
   "source": [
    "# with open('evaluation_ahr.pkl', 'wb') as f:\n",
    "#     pickle.dump(evaluation_data_final_ahr, f)\n",
    "# with open('evaluation_mmp.pkl', 'wb') as f:\n",
    "#     pickle.dump(evaluation_data_final_mmp, f)"
   ]
  },
  {
   "cell_type": "markdown",
   "id": "e6a405d4",
   "metadata": {},
   "source": [
    "## Functions for model training and testing"
   ]
  },
  {
   "cell_type": "code",
   "execution_count": null,
   "id": "392402da",
   "metadata": {},
   "outputs": [],
   "source": [
    "from sklearn.utils import class_weight\n",
    "from sklearn import metrics\n",
    "from sklearn.metrics import confusion_matrix, classification_report, roc_auc_score, \\\n",
    "                            precision_recall_curve, roc_curve, balanced_accuracy_score, \\\n",
    "                            precision_score, f1_score, recall_score\n",
    "from sklearn.exceptions import NotFittedError\n",
    "from sklearn.model_selection import KFold, cross_val_score,train_test_split \n",
    "from sklearn.metrics import roc_curve, recall_score\n",
    "from sklearn.model_selection import StratifiedKFold\n",
    "import xgboost as xgb\n",
    "from xgboost import XGBClassifier\n",
    "\n",
    "import optuna\n",
    "from optuna import create_study, logging\n",
    "from optuna.pruners import MedianPruner\n",
    "from optuna.integration import XGBoostPruningCallback\n",
    "from sklearn.ensemble import RandomForestClassifier"
   ]
  },
  {
   "cell_type": "code",
   "execution_count": null,
   "id": "d24ca1bb",
   "metadata": {},
   "outputs": [],
   "source": [
    "import warnings\n",
    "warnings.filterwarnings('ignore', category = RuntimeWarning)\n",
    "warnings.filterwarnings('ignore', category = UserWarning)\n",
    "\n",
    "import pandas as pd\n",
    "import numpy as np\n",
    "import glob\n",
    "import os\n",
    "import zipfile\n",
    "import shutil\n",
    "import pickle\n",
    "import xgboost as xgb"
   ]
  },
  {
   "cell_type": "code",
   "execution_count": null,
   "id": "16dd4856",
   "metadata": {},
   "outputs": [],
   "source": [
    "# Code made by Ida Rahu\n",
    "from sklearn.metrics import roc_curve\n",
    "\n",
    "#Get the fpr at 90% recall\n",
    "def fpr_at_recall_90(y_true, y_probs):\n",
    "    '''\n",
    "    Get the false positive rate at 90% recall\n",
    "    '''\n",
    "    fpr, tpr, thresholds = roc_curve(y_true, y_probs)\n",
    "    try:\n",
    "        threshold_idx = np.where(tpr >= 0.9)[0][0]\n",
    "        return fpr[threshold_idx]\n",
    "    except IndexError:\n",
    "        return 1.0 # If we never reach 90% recall, return 1.0 (worst case)"
   ]
  },
  {
   "cell_type": "code",
   "execution_count": null,
   "id": "bcca51b6",
   "metadata": {},
   "outputs": [],
   "source": [
    "# Functions for making predictions\n",
    "def MonteCarlo_prediction(fp, model, n_samples=10000):\n",
    "    binary_samples = np.random.binomial(1, fp, size=(n_samples, len(fp)))\n",
    "    predicted_probabilities = model.predict_proba(binary_samples)[:, 1]\n",
    "    return np.mean(predicted_probabilities)\n",
    "\n",
    "def make_predictions(data, model):\n",
    "    df = data[np.concatenate([['id', 'formula'], model.feature_names_in_])]\n",
    "    predicted_probabilities =  df[model.feature_names_in_].apply(lambda x: MonteCarlo_prediction(np.array(x), model=model), axis=1)\n",
    "    return predicted_probabilities"
   ]
  },
  {
   "cell_type": "markdown",
   "id": "3c7fb686",
   "metadata": {},
   "source": [
    "### Model training: Nuclear receptor AhR"
   ]
  },
  {
   "cell_type": "markdown",
   "id": "abacda9f",
   "metadata": {},
   "source": [
    "#### Data processing"
   ]
  },
  {
   "cell_type": "code",
   "execution_count": null,
   "id": "faf83626",
   "metadata": {},
   "outputs": [],
   "source": [
    "with open('train_test_ahr.pkl', 'rb') as f:\n",
    "    train_test_ahr = pickle.load(f)"
   ]
  },
  {
   "cell_type": "code",
   "execution_count": null,
   "id": "280a438e",
   "metadata": {},
   "outputs": [],
   "source": [
    "# Split the data into features and target variable for AHR\n",
    "X = train_test_ahr.drop(columns=['InChIKey14', 'SMILES', 'nr.ahr', 'sr.mmp'])\n",
    "y = train_test_ahr[['nr.ahr']]"
   ]
  },
  {
   "cell_type": "code",
   "execution_count": null,
   "id": "440a79d5",
   "metadata": {},
   "outputs": [],
   "source": [
    "# Divide into training and test set\n",
    "X_train, X_test, y_train, y_test = train_test_split(X, \n",
    "                                                    y,\n",
    "                                                    test_size=0.2,\n",
    "                                                    stratify=y,\n",
    "                                                    random_state=42)"
   ]
  },
  {
   "cell_type": "code",
   "execution_count": null,
   "id": "3b2b93a1",
   "metadata": {},
   "outputs": [],
   "source": [
    "print(X_train.shape)"
   ]
  },
  {
   "cell_type": "code",
   "execution_count": null,
   "id": "e7073d62",
   "metadata": {},
   "outputs": [],
   "source": [
    "# Remove features with low variance\n",
    "selector = VarianceThreshold(threshold=0.1)\n",
    "X_train = selector.fit_transform(X_train)\n",
    "X_train = pd.DataFrame(X_train,\n",
    "                       columns=X.columns[selector.get_support()])\n",
    "\n",
    "X_test = selector.transform(X_test)\n",
    "X_test = pd.DataFrame(X_test,\n",
    "                       columns=X.columns[selector.get_support()])"
   ]
  },
  {
   "cell_type": "code",
   "execution_count": null,
   "id": "fb08662c",
   "metadata": {},
   "outputs": [],
   "source": [
    "y_train = y_train.squeeze(axis=1)"
   ]
  },
  {
   "cell_type": "code",
   "execution_count": null,
   "id": "590f9854",
   "metadata": {},
   "outputs": [],
   "source": [
    "X_train.shape, X_test.shape"
   ]
  },
  {
   "cell_type": "code",
   "execution_count": null,
   "id": "fbb49a61",
   "metadata": {},
   "outputs": [],
   "source": [
    "ahr_features = X_train.columns"
   ]
  },
  {
   "cell_type": "code",
   "execution_count": null,
   "id": "18768de2",
   "metadata": {},
   "outputs": [],
   "source": [
    "with open('/Users/elli/Library/CloudStorage/OneDrive-Kruvelab/Master_thesis/Code/Model_training/AHR/ahr_features.pkl', 'wb') as f:\n",
    "    pickle.dump(ahr_features, f)"
   ]
  },
  {
   "cell_type": "markdown",
   "id": "0e0d114b",
   "metadata": {},
   "source": [
    "##### Preprocessing of evaluation data"
   ]
  },
  {
   "cell_type": "code",
   "execution_count": null,
   "id": "eee498c6",
   "metadata": {},
   "outputs": [],
   "source": [
    "with open('evaluation_ahr.pkl', 'rb') as f:\n",
    "    evaluation_data_ahr = pickle.load(f)"
   ]
  },
  {
   "cell_type": "code",
   "execution_count": null,
   "id": "42e17a5b",
   "metadata": {},
   "outputs": [],
   "source": [
    "evaluation_data_ahr"
   ]
  },
  {
   "cell_type": "code",
   "execution_count": null,
   "id": "9d4ddb82",
   "metadata": {},
   "outputs": [],
   "source": [
    "evaluation_data_ahr.columns"
   ]
  },
  {
   "cell_type": "code",
   "execution_count": null,
   "id": "24866dc0",
   "metadata": {},
   "outputs": [],
   "source": [
    "evaluation_ahr_fp = evaluation_data_ahr.drop(columns=['InChIKey14', 'SMILES', 'nr.ahr', 'sr.mmp', 'adduct'])\n",
    "evaluation_ahr_labels = evaluation_data_ahr[['nr.ahr']]\n",
    "\n",
    "#evaluation_ahr_fp = selector.transform(evaluation_ahr_fp)\n"
   ]
  },
  {
   "cell_type": "markdown",
   "id": "ebea1dac",
   "metadata": {},
   "source": [
    "#### Add split to tox21 dataset"
   ]
  },
  {
   "cell_type": "code",
   "execution_count": null,
   "id": "54bdf06f",
   "metadata": {},
   "outputs": [],
   "source": [
    "#Compounds which can be used for spectrum evaluation\n",
    "eval_set = tox21[(tox21['ms_library'].notna())                 \n",
    "                 |(tox21['iris_data'].notna())                 \n",
    "                 |(tox21['isabel_data'].notna())\n",
    "                 |(tox21['ionization_experimental'].notna()) \n",
    "                 &(tox21['ionization_experimental']==1)\n",
    "                   ]\n",
    "\n",
    "eval_set = eval_set[eval_set['sirius_data'].isna()] # removal of SIRIUS training data\n",
    "\n",
    "eval_set"
   ]
  },
  {
   "cell_type": "code",
   "execution_count": null,
   "id": "6d83a711",
   "metadata": {},
   "outputs": [],
   "source": [
    "eval_set_ahr = eval_set[eval_set['nr.ahr'].notna()]\n",
    "eval_set_mmp = eval_set[eval_set['sr.mmp'].notna()]"
   ]
  },
  {
   "cell_type": "code",
   "execution_count": null,
   "id": "b855cd78",
   "metadata": {},
   "outputs": [],
   "source": [
    "eval_set_ahr.shape, eval_set_mmp.shape"
   ]
  },
  {
   "cell_type": "code",
   "execution_count": null,
   "id": "da9ec651",
   "metadata": {},
   "outputs": [],
   "source": [
    "tox21_added_splits = tox21 \n",
    "tox21_added_splits['nr.ahr_split'] = [\n",
    "    'train' if i in y_train.index else\n",
    "    'test' if i in y_test.index else\n",
    "    'spectrum_evaluation' if i in eval_set_ahr.index else\n",
    "    np.nan\n",
    "    for i in tox21_added_splits.index]\n"
   ]
  },
  {
   "cell_type": "code",
   "execution_count": null,
   "id": "44164699",
   "metadata": {},
   "outputs": [],
   "source": [
    "tox21_added_splits"
   ]
  },
  {
   "cell_type": "code",
   "execution_count": null,
   "id": "7a09fe2a",
   "metadata": {},
   "outputs": [],
   "source": [
    "tox21_added_splits[tox21_added_splits['nr.ahr_split']=='spectrum_evaluation'].shape"
   ]
  },
  {
   "cell_type": "markdown",
   "id": "ab7fb1da",
   "metadata": {},
   "source": [
    "#### XGBoost"
   ]
  },
  {
   "cell_type": "code",
   "execution_count": null,
   "id": "f673391d",
   "metadata": {},
   "outputs": [],
   "source": [
    "def objective(trial):\n",
    "    #Number of estimators\n",
    "    n_estimators = trial.suggest_int('n_estimators', 100, 1000)\n",
    "\n",
    "    # Max depth of tree\n",
    "    max_depth = trial.suggest_int('max_depth', 10, 100)\n",
    "\n",
    "    # Learning rate of model\n",
    "    learning_rate = trial.suggest_float('learning_rate', 0, 0.5)\n",
    "\n",
    "    #num_boost_round = trial.suggest_int('num_boost_round', 100, 1000)\n",
    "\n",
    "    # Minimum child weight\n",
    "    min_child_weight = trial.suggest_float('min_child_weight', 0.001, 100)\n",
    "\n",
    "    # Subsample ratio of the training instance\n",
    "    subsample = trial.suggest_float('subsample', 0, 1)\n",
    "    \n",
    "    # Column sample by tree\n",
    "    colsample_bytree = trial.suggest_float('colsample_bytree', 0, 1)\n",
    "\n",
    "    model = XGBClassifier(n_estimators=n_estimators,\n",
    "                          max_depth=max_depth,\n",
    "                          learning_rate=learning_rate,\n",
    "                          min_child_weight=min_child_weight,\n",
    "                          subsample=subsample,\n",
    "                          colsample_bytree=colsample_bytree,\n",
    "                          eval_metric='logloss')\n",
    "    skf = StratifiedKFold(n_splits=5, shuffle=True, random_state=42)\n",
    "    fprs = []\n",
    "\n",
    "    for train_idx, test_idx in skf.split(X_train, y_train):\n",
    "        X_tr, X_val = X_train.iloc[train_idx], X_train.iloc[test_idx]\n",
    "        y_tr, y_val = y_train.iloc[train_idx], y_train.iloc[test_idx]\n",
    "\n",
    "        model.fit(X_tr, y_tr)\n",
    "        y_probs = model.predict_proba(X_val)[:, 1]\n",
    "        fpr = fpr_at_recall_90(y_val, y_probs)\n",
    "        fprs.append(fpr)\n",
    "\n",
    "    return -np.mean(fprs) "
   ]
  },
  {
   "cell_type": "code",
   "execution_count": null,
   "id": "94bbaf7c",
   "metadata": {},
   "outputs": [],
   "source": [
    "study = optuna.create_study(direction='maximize', sampler=optuna.samplers.RandomSampler())\n",
    "\n",
    "study.optimize(objective, n_trials=500)\n",
    "final_params = study.best_params\n",
    "\n",
    "model_full = XGBClassifier(**final_params,\n",
    "                              random_state=0,\n",
    "                              n_jobs=-1)\n",
    "model_full.fit(X_train, y_train)"
   ]
  },
  {
   "cell_type": "code",
   "execution_count": null,
   "id": "a107c6a3",
   "metadata": {},
   "outputs": [],
   "source": [
    "# Save model\n",
    "# with open('/Users/elli/Library/CloudStorage/OneDrive-Kruvelab/Master_thesis/Code/Model_training/AHR/XGBoost/2025-05-14_XGBoost_feat_var_0.9_ahr_CORRECT_FINAL_correct_features.pkl', 'wb') as f:\n",
    "#     pickle.dump(model_full, f)"
   ]
  },
  {
   "cell_type": "markdown",
   "id": "6279b064",
   "metadata": {},
   "source": [
    "##### Model evaluation"
   ]
  },
  {
   "cell_type": "code",
   "execution_count": null,
   "id": "8419248c",
   "metadata": {},
   "outputs": [],
   "source": [
    "with open('/Users/elli/Library/CloudStorage/OneDrive-Kruvelab/Master_thesis/Code/Model_training/AHR/XGBoost/2025-05-14_XGBoost_feat_var_0.9_ahr_CORRECT_FINAL_correct_features.pkl', 'rb') as f:\n",
    "    model_full = pickle.load(f)"
   ]
  },
  {
   "cell_type": "code",
   "execution_count": null,
   "id": "4003f43b",
   "metadata": {},
   "outputs": [],
   "source": [
    "model_full.feature_names_in_"
   ]
  },
  {
   "cell_type": "code",
   "execution_count": null,
   "id": "89147194",
   "metadata": {},
   "outputs": [],
   "source": [
    "model_full.get_params()"
   ]
  },
  {
   "cell_type": "code",
   "execution_count": null,
   "id": "92da8f41",
   "metadata": {},
   "outputs": [],
   "source": [
    "# # Get list of feature names and save them to model\n",
    "# feature_names = X_train.columns\n",
    "# model_full.get_booster().feature_names = feature_names #Does this work?\n",
    "\n",
    "# #Make file name and save model\n",
    "# # file_name = f'./trained_models/nr.ahr_full.pkl'\n",
    "# # pickle.dump(model_full, open(file_name, \"wb\"))"
   ]
  },
  {
   "cell_type": "code",
   "execution_count": null,
   "id": "121f81a9",
   "metadata": {},
   "outputs": [],
   "source": [
    "# get threshold \n",
    "fpr_train, tpr_train, thresh_train = roc_curve(y_train, model_full.predict_proba(X_train)[:, 1])\n",
    "\n",
    "recall_index_90 = np.argmax(tpr_train >= 0.9) \n",
    "thresh_at_90_recall_train = thresh_train[recall_index_90]\n"
   ]
  },
  {
   "cell_type": "code",
   "execution_count": null,
   "id": "48ff194f",
   "metadata": {},
   "outputs": [],
   "source": [
    "roc_auc = roc_auc_score(y_test, model_full.predict_proba(X_test)[:, 1])\n",
    "fpr, tpr, thresh = roc_curve(y_test, model_full.predict_proba(X_test)[:, 1],\n",
    "                                     drop_intermediate=False)\n",
    "\n",
    "recall_index_90 = np.argmax(tpr >= 0.9) \n",
    "fpr_at_90_recall = fpr[recall_index_90]\n",
    "thresh_at_90_recall = thresh[recall_index_90]\n",
    "\n",
    "#Example on how to extra the threshold for a specific recall\n",
    "#thresh[recall_index_90]"
   ]
  },
  {
   "cell_type": "code",
   "execution_count": null,
   "id": "7b0d032e",
   "metadata": {},
   "outputs": [],
   "source": [
    "from sklearn.metrics import ConfusionMatrixDisplay, confusion_matrix\n",
    "\n",
    "y_pred_proba = model_full.predict_proba(X_test)[:, 1]\n",
    "y_pred = (y_pred_proba >= thresh_at_90_recall).astype(int)\n",
    "\n",
    "cm = confusion_matrix(y_test, y_pred)\n",
    "\n",
    "disp_ahr_xgb = ConfusionMatrixDisplay(confusion_matrix=cm, display_labels=['Inactive', 'Active'])\n",
    "disp_ahr_xgb.plot(cmap='Blues')"
   ]
  },
  {
   "cell_type": "code",
   "execution_count": null,
   "id": "6527a3e3",
   "metadata": {},
   "outputs": [],
   "source": [
    "bal_acc = balanced_accuracy_score(y_test, y_pred)"
   ]
  },
  {
   "cell_type": "code",
   "execution_count": null,
   "id": "61fc5d2c",
   "metadata": {},
   "outputs": [],
   "source": [
    "bal_acc, fpr_at_90_recall, roc_auc"
   ]
  },
  {
   "cell_type": "code",
   "execution_count": null,
   "id": "ea1288f2",
   "metadata": {},
   "outputs": [],
   "source": []
  },
  {
   "cell_type": "code",
   "execution_count": null,
   "id": "256b18dc",
   "metadata": {},
   "outputs": [],
   "source": [
    "# Save out the threshold at 90% recall\n",
    "thresholds_90_recall_df = pd.DataFrame({'endpoint': ['AHR'],\n",
    "                                        'model': ['XGB'],\n",
    "                                        'threshold_90_recall': [thresh_at_90_recall],\n",
    "                                        'fpr_90_recall': [fpr_at_90_recall],\n",
    "                                        'roc_auc_score': [roc_auc],\n",
    "                                        'balanced_accuracy': [bal_acc]})"
   ]
  },
  {
   "cell_type": "code",
   "execution_count": null,
   "id": "6dd1e6f0",
   "metadata": {},
   "outputs": [],
   "source": [
    "# # Save the ROC curve data\n",
    "roc_ahr_xgb = pd.DataFrame({'fpr_ahr_xgb': fpr, 'tpr_ahr_xgb': tpr, 'thresholds_ahr_xgb': thresh})"
   ]
  },
  {
   "cell_type": "code",
   "execution_count": null,
   "id": "5e7a8c2a",
   "metadata": {},
   "outputs": [],
   "source": [
    "import matplotlib.pyplot as plt"
   ]
  },
  {
   "cell_type": "code",
   "execution_count": null,
   "id": "cc83a07f",
   "metadata": {},
   "outputs": [],
   "source": [
    "recall_index_90 = np.argmax(tpr >= 0.9) \n",
    "\n",
    "fpr_index_90 = fpr[recall_index_90]\n",
    "tpr_index_90 = tpr[recall_index_90]\n",
    "\n"
   ]
  },
  {
   "cell_type": "code",
   "execution_count": null,
   "id": "8997a07a",
   "metadata": {},
   "outputs": [],
   "source": [
    "# Set the figure parameters\n",
    "plt.rcParams.update({'figure.figsize':[9.8,9.8],\n",
    "                'font.size': 16, \n",
    "                'font.weight': 'normal',\n",
    "                'axes.titlesize': 12,\n",
    "                'axes.labelsize': 12,\n",
    "                'xtick.labelsize': 12,\n",
    "                'ytick.labelsize': 12,\n",
    "                'legend.fontsize': 12,\n",
    "                'legend.title_fontsize': 12,\n",
    "                'axes.titleweight': 'bold',\n",
    "                'font.family': 'serif',\n",
    "                'font.serif': ['Times New Roman'],\n",
    "                'figure.dpi':300,\n",
    "                \n",
    "                })\n",
    "\n",
    "fig, ax = plt.subplots(figsize=(6, 6))\n",
    "ax.plot(roc_ahr_xgb['fpr_ahr_xgb'], roc_ahr_xgb['tpr_ahr_xgb'], label='AhR XGB', color='#023047', linewidth=2)\n",
    "\n",
    "x1, y1 = fpr_index_90, 0\n",
    "x2, y2 = fpr_index_90, tpr_index_90\n",
    "\n",
    "ax.plot([x1, x2], [y1, y2], linestyle='--', color='#FB8500')\n",
    "\n",
    "x1, y1 = 0, tpr_index_90\n",
    "x2, y2 = fpr_index_90, tpr_index_90\n",
    "\n",
    "ax.plot([x1, x2], [y1, y2], linestyle='--', color='#FB8500')\n",
    "\n",
    "ax.set_xlabel('False Positive Rate', fontsize=20, fontweight='bold')\n",
    "ax.set_ylabel('True Positive Rate', fontsize=20, fontweight='bold')\n",
    "\n",
    "plt.text(-0.02, tpr_index_90 +0.02, f'TPR=0.9', color = '#FB8500', fontweight='bold', fontsize=20)\n",
    "plt.text(fpr_index_90 + 0.01, tpr_index_90/3, f'FPR={fpr_index_90:.3f}', rotation=270, color = '#FB8500' , fontweight='bold', fontsize=20)\n",
    "\n",
    "plt.text(0.4, 0.70, f'ROC-AUC={roc_auc:.3f}', fontweight='bold',  color='#023047', fontsize=20 )\n",
    "\n",
    "ax.set_xticks([0,0.5,1])\n",
    "ax.set_yticks([0,0.5,1])\n",
    "\n",
    "plt.tick_params(axis='both', labelsize=18)\n",
    "\n",
    "fig.savefig('/Users/elli/Library/CloudStorage/OneDrive-Kruvelab/Master_thesis/Visualizations/example_roc_auc.pdf', bbox_inches='tight', dpi=300, transparent=True)\n"
   ]
  },
  {
   "cell_type": "code",
   "execution_count": null,
   "id": "91676e02",
   "metadata": {},
   "outputs": [],
   "source": []
  },
  {
   "cell_type": "markdown",
   "id": "8e33930e",
   "metadata": {},
   "source": [
    "##### Evaluation of probabilistic fingerprints"
   ]
  },
  {
   "cell_type": "code",
   "execution_count": null,
   "id": "be2fe835",
   "metadata": {},
   "outputs": [],
   "source": [
    "with open('/Users/elli/Library/CloudStorage/OneDrive-Kruvelab/Master_thesis/Code/Model_training/AHR/XGBoost/2025-05-14_XGBoost_feat_var_0.9_ahr_CORRECT_FINAL_correct_features.pkl', 'rb') as f:\n",
    "    model_full = pickle.load(f)"
   ]
  },
  {
   "cell_type": "code",
   "execution_count": null,
   "id": "7f2a7a71",
   "metadata": {},
   "outputs": [],
   "source": [
    "with open('2025-05-18_threshold_fpr_at_90_recall_ahr_mmp_models.pkl', 'rb') as f:\n",
    "    thresholds = pickle.load(f) "
   ]
  },
  {
   "cell_type": "code",
   "execution_count": null,
   "id": "7b4ffcd5",
   "metadata": {},
   "outputs": [],
   "source": [
    "# Functions for making predictions\n",
    "def MonteCarlo_prediction(fp, model, n_samples=10000):\n",
    "    binary_samples = np.random.binomial(1, fp, size=(n_samples, len(fp)))\n",
    "    predicted_probabilities = model.predict_proba(binary_samples)[:, 1]\n",
    "    return np.mean(predicted_probabilities)\n",
    "\n",
    "def make_predictions(data, model):\n",
    "    model_features = [int(i) for i in model.feature_names_in_]\n",
    "    df = data.iloc[:, model_features]\n",
    "    predicted_probabilities =  df.apply(lambda x: MonteCarlo_prediction(np.array(x), model=model), axis=1)\n",
    "    return predicted_probabilities"
   ]
  },
  {
   "cell_type": "code",
   "execution_count": null,
   "id": "7a16e3cd",
   "metadata": {},
   "outputs": [],
   "source": [
    "final_predictions = evaluation_data_ahr[['nr.ahr']]\n",
    "\n",
    "final_predictions.rename(columns={'nr.ahr': 'AHR_true_label'}, inplace=True)"
   ]
  },
  {
   "cell_type": "code",
   "execution_count": null,
   "id": "5d12061d",
   "metadata": {},
   "outputs": [],
   "source": [
    "predictions_df = make_predictions(evaluation_ahr_fp, model_full)\n",
    "\n",
    "thresh = thresholds[(thresholds['endpoint']=='AHR') & (thresholds['model']=='XGB')]['threshold_90_recall'].values[0]\n",
    "\n",
    "final_predictions['AHR_XGB_proba'] = predictions_df\n",
    "final_predictions['AHR_XGB'] = (predictions_df > thresh).astype(int)"
   ]
  },
  {
   "cell_type": "code",
   "execution_count": null,
   "id": "03133a4f",
   "metadata": {},
   "outputs": [],
   "source": [
    "final_predictions"
   ]
  },
  {
   "cell_type": "markdown",
   "id": "ab03b4e3",
   "metadata": {},
   "source": [
    "#### RF"
   ]
  },
  {
   "cell_type": "code",
   "execution_count": null,
   "id": "d30bb1f1",
   "metadata": {},
   "outputs": [],
   "source": [
    "#Optuna objective for Random Forest\n",
    "\n",
    "def objective(trial):\n",
    "    # Number of trees in random forest\n",
    "    n_estimators = trial.suggest_int(name=\"n_estimators\", low=10, high=1000)\n",
    "\n",
    "    # Number of features to consider at every split\n",
    "    max_features = trial.suggest_categorical(name=\"max_features\", choices=['log2', 'sqrt', 0.2, 0.5]) \n",
    "\n",
    "    # Maximum number of levels in tree\n",
    "    max_depth = trial.suggest_int(name=\"max_depth\", low=5, high=100)\n",
    "\n",
    "    # Minimum number of samples required to split a node\n",
    "    min_samples_split = trial.suggest_int(name=\"min_samples_split\", low=2, high=20)\n",
    "\n",
    "    # Minimum number of samples required at each leaf node\n",
    "    min_samples_leaf = trial.suggest_int(name=\"min_samples_leaf\", low=5, high=40)\n",
    "    \n",
    "    params = {\n",
    "        \"n_estimators\": n_estimators,\n",
    "        \"max_features\": max_features,\n",
    "        \"max_depth\": max_depth,\n",
    "        \"min_samples_split\": min_samples_split,\n",
    "        \"min_samples_leaf\": min_samples_leaf\n",
    "    }\n",
    "    model = RandomForestClassifier(random_state=101, **params)\n",
    "\n",
    "    skf = StratifiedKFold(n_splits=5, shuffle=True, random_state=42)\n",
    "    fprs = []\n",
    "\n",
    "    for train_idx, test_idx in skf.split(X_train, y_train):\n",
    "        X_tr, X_val = X_train.iloc[train_idx], X_train.iloc[test_idx]\n",
    "        y_tr, y_val = y_train.iloc[train_idx], y_train.iloc[test_idx]\n",
    "\n",
    "        model.fit(X_tr, y_tr)\n",
    "        y_probs = model.predict_proba(X_val)[:, 1]\n",
    "        fpr = fpr_at_recall_90(y_val, y_probs)\n",
    "        fprs.append(fpr)\n",
    "    \n",
    "    return -np.mean(fprs)"
   ]
  },
  {
   "cell_type": "code",
   "execution_count": null,
   "id": "962097d0",
   "metadata": {},
   "outputs": [],
   "source": [
    "study = optuna.create_study(direction='maximize', sampler=optuna.samplers.RandomSampler())\n",
    "study.optimize(objective, n_trials=500)\n",
    "final_params = study.best_params\n",
    "\n",
    "model_full = RandomForestClassifier(**final_params,\n",
    "                                    random_state=0,\n",
    "                                    n_jobs=-1)\n",
    "model_full.fit(X_train, y_train)"
   ]
  },
  {
   "cell_type": "code",
   "execution_count": null,
   "id": "b33e3dd2",
   "metadata": {},
   "outputs": [],
   "source": [
    "# with open('/Users/elli/Library/CloudStorage/OneDrive-Kruvelab/Master_thesis/Code/Model_training/AHR/RF/2025-05-14_RF_feat_var_0.9_ahr_CORRECT_FINAL_correct_features.pkl', 'wb') as f:\n",
    "#     pickle.dump(model_full, f)"
   ]
  },
  {
   "cell_type": "markdown",
   "id": "1aa2c3f1",
   "metadata": {},
   "source": [
    "##### Model evaluation"
   ]
  },
  {
   "cell_type": "code",
   "execution_count": null,
   "id": "3ec9e390",
   "metadata": {},
   "outputs": [],
   "source": [
    "with open('/Users/elli/Library/CloudStorage/OneDrive-Kruvelab/Master_thesis/Code/Model_training/AHR/RF/2025-05-14_RF_feat_var_0.9_ahr_CORRECT_FINAL_correct_features.pkl', 'rb') as f:\n",
    "    model_full = pickle.load(f)"
   ]
  },
  {
   "cell_type": "code",
   "execution_count": null,
   "id": "29135501",
   "metadata": {},
   "outputs": [],
   "source": [
    "model_full.get_params()"
   ]
  },
  {
   "cell_type": "code",
   "execution_count": null,
   "id": "0777d7c8",
   "metadata": {},
   "outputs": [],
   "source": [
    "model_full.score(X_test, y_test)\n"
   ]
  },
  {
   "cell_type": "code",
   "execution_count": null,
   "id": "c16f51c5",
   "metadata": {},
   "outputs": [],
   "source": [
    "roc_auc = roc_auc_score(y_test, model_full.predict_proba(X_test)[:, 1])\n",
    "fpr, tpr, thresh = roc_curve(y_test, model_full.predict_proba(X_test)[:, 1],\n",
    "                                     drop_intermediate=False)\n",
    "\n",
    "recall_index_90 = np.argmax(tpr >= 0.9) \n",
    "fpr_at_90_recall = fpr[recall_index_90]\n",
    "thresh_at_90_recall = thresh[recall_index_90]"
   ]
  },
  {
   "cell_type": "code",
   "execution_count": null,
   "id": "45ce32ee",
   "metadata": {},
   "outputs": [],
   "source": [
    "from sklearn.metrics import ConfusionMatrixDisplay, confusion_matrix\n",
    "\n",
    "#adjust the probability threshold to get 90% recall\n",
    "y_pred_proba = model_full.predict_proba(X_test)[:, 1]\n",
    "y_pred = (y_pred_proba >= thresh_at_90_recall).astype(int)\n",
    "\n",
    "cm = confusion_matrix(y_test, y_pred)\n",
    "\n",
    "disp_ahr_rf = ConfusionMatrixDisplay(confusion_matrix=cm, display_labels=['Inactive', 'Active'])\n",
    "disp_ahr_rf.plot(cmap='Blues')\n",
    "\n",
    "bal_acc = balanced_accuracy_score(y_test, y_pred)"
   ]
  },
  {
   "cell_type": "code",
   "execution_count": null,
   "id": "9255226f",
   "metadata": {},
   "outputs": [],
   "source": [
    "# Save out the threshold at 90% recall\n",
    "thresholds_90_recall = pd.DataFrame({'endpoint': ['AHR'],\n",
    "                                        'model': ['RF'],\n",
    "                                        'threshold_90_recall': [thresh_at_90_recall],\n",
    "                                        'fpr_90_recall': [fpr_at_90_recall],\n",
    "                                        'roc_auc_score': [roc_auc],\n",
    "                                        'balanced_accuracy': [bal_acc]})\n",
    "\n",
    "thresholds_90_recall_df = pd.concat([thresholds_90_recall_df, thresholds_90_recall], ignore_index=True)"
   ]
  },
  {
   "cell_type": "code",
   "execution_count": null,
   "id": "fd29f55e",
   "metadata": {},
   "outputs": [],
   "source": [
    "# # Save the ROC curve data\n",
    "roc_ahr_rf = pd.DataFrame({'fpr_ahr_rf': fpr, 'tpr_ahr_rf': tpr, 'thresholds_ahr_rf': thresh})"
   ]
  },
  {
   "cell_type": "markdown",
   "id": "c9c69f61",
   "metadata": {},
   "source": [
    "##### Evaluation of probabilistic fingerprints"
   ]
  },
  {
   "cell_type": "code",
   "execution_count": null,
   "id": "7cb49b68",
   "metadata": {},
   "outputs": [],
   "source": [
    "with open('/Users/elli/Library/CloudStorage/OneDrive-Kruvelab/Master_thesis/Code/Model_training/AHR/RF/2025-05-14_RF_feat_var_0.9_ahr_CORRECT_FINAL_correct_features.pkl', 'rb') as f:\n",
    "    model_full = pickle.load(f)"
   ]
  },
  {
   "cell_type": "code",
   "execution_count": null,
   "id": "96c85097",
   "metadata": {},
   "outputs": [],
   "source": [
    "# Functions for making predictions\n",
    "def MonteCarlo_prediction(fp, model, n_samples=10000):\n",
    "    binary_samples = np.random.binomial(1, fp, size=(n_samples, len(fp)))\n",
    "    predicted_probabilities = model.predict_proba(binary_samples)[:, 1]\n",
    "    return np.mean(predicted_probabilities)\n",
    "\n",
    "def make_predictions(data, model, feature_names):\n",
    "    df = data.iloc[:, list(feature_names)]\n",
    "    predicted_probabilities =  df.apply(lambda x: MonteCarlo_prediction(np.array(x), model=model), axis=1)\n",
    "    return predicted_probabilities"
   ]
  },
  {
   "cell_type": "code",
   "execution_count": null,
   "id": "728ab079",
   "metadata": {},
   "outputs": [],
   "source": [
    "thresh"
   ]
  },
  {
   "cell_type": "code",
   "execution_count": null,
   "id": "81d654dc",
   "metadata": {},
   "outputs": [],
   "source": [
    "predictions_df = make_predictions(evaluation_ahr_fp, model_full, ahr_features)\n",
    "\n",
    "thresh = thresholds[(thresholds['endpoint']=='AHR') & (thresholds['model']=='RF')]['threshold_90_recall'].values[0]\n",
    "\n",
    "\n",
    "final_predictions['AHR_RF_proba'] = predictions_df\n",
    "final_predictions['AHR_RF'] = (predictions_df > thresh).astype(int)"
   ]
  },
  {
   "cell_type": "code",
   "execution_count": null,
   "id": "22879093",
   "metadata": {},
   "outputs": [],
   "source": [
    "final_predictions"
   ]
  },
  {
   "cell_type": "code",
   "execution_count": null,
   "id": "1eefc29c",
   "metadata": {},
   "outputs": [],
   "source": [
    "with open('final_predictions_experimental_ahr.pkl', 'wb') as f:\n",
    "    pickle.dump(final_predictions, f)"
   ]
  },
  {
   "cell_type": "markdown",
   "id": "c2714a1d",
   "metadata": {},
   "source": [
    "### Model training: Stress response MMP"
   ]
  },
  {
   "cell_type": "markdown",
   "id": "d0820c7a",
   "metadata": {},
   "source": [
    "#### Preprocessing of data"
   ]
  },
  {
   "cell_type": "code",
   "execution_count": null,
   "id": "74e5acc3",
   "metadata": {},
   "outputs": [],
   "source": [
    "import pickle\n",
    "import pandas as pd\n",
    "import numpy as np\n",
    "import sklearn\n",
    "\n",
    "from sklearn.utils import class_weight\n",
    "from sklearn import metrics\n",
    "from sklearn.metrics import confusion_matrix, classification_report, roc_auc_score, \\\n",
    "                            precision_recall_curve, roc_curve, balanced_accuracy_score, \\\n",
    "                            precision_score, f1_score, recall_score\n",
    "from sklearn.exceptions import NotFittedError\n",
    "from sklearn.model_selection import KFold, cross_val_score,train_test_split \n",
    "from sklearn.metrics import roc_curve, recall_score\n",
    "from sklearn.model_selection import StratifiedKFold\n",
    "import xgboost as xgb\n",
    "from xgboost import XGBClassifier\n",
    "\n",
    "import optuna\n",
    "from optuna import create_study, logging\n",
    "from optuna.pruners import MedianPruner\n",
    "from optuna.integration import XGBoostPruningCallback\n",
    "from sklearn.ensemble import RandomForestClassifier\n",
    "\n",
    "from sklearn.model_selection import train_test_split\n",
    "from sklearn.ensemble import RandomForestRegressor\n",
    "from sklearn.datasets import make_classification\n",
    "from sklearn.model_selection import train_test_split,cross_val_score\n",
    "from sklearn.metrics import root_mean_squared_error,mean_absolute_error\n",
    "from sklearn.feature_selection import VarianceThreshold\n",
    "from sklearn.preprocessing import scale"
   ]
  },
  {
   "cell_type": "code",
   "execution_count": null,
   "id": "f91eef05",
   "metadata": {},
   "outputs": [],
   "source": [
    "with open('train_test_mmp.pkl', 'rb') as f:\n",
    "    train_test_mmp = pickle.load(f)"
   ]
  },
  {
   "cell_type": "code",
   "execution_count": null,
   "id": "38bc4474",
   "metadata": {},
   "outputs": [],
   "source": [
    "train_test_mmp.shape"
   ]
  },
  {
   "cell_type": "code",
   "execution_count": null,
   "id": "1b77ee2f",
   "metadata": {},
   "outputs": [],
   "source": [
    "# Split the data into features and target variable for AHR\n",
    "X = train_test_mmp.drop(columns=['InChIKey14', 'SMILES', 'nr.ahr', 'sr.mmp'])\n",
    "y = train_test_mmp['sr.mmp']"
   ]
  },
  {
   "cell_type": "code",
   "execution_count": null,
   "id": "84a67fe7",
   "metadata": {},
   "outputs": [],
   "source": [
    "X_train, X_test, y_train, y_test = train_test_split(X, \n",
    "                                                    y,\n",
    "                                                    test_size=0.2,\n",
    "                                                    stratify=y,\n",
    "                                                    random_state=42)"
   ]
  },
  {
   "cell_type": "code",
   "execution_count": null,
   "id": "93631a2d",
   "metadata": {},
   "outputs": [],
   "source": [
    "print(X_train.shape)"
   ]
  },
  {
   "cell_type": "code",
   "execution_count": null,
   "id": "45e925e0",
   "metadata": {},
   "outputs": [],
   "source": [
    "# Remove features with low variance\n",
    "selector = VarianceThreshold(threshold=0.1)\n",
    "X_train = selector.fit_transform(X_train)\n",
    "X_train = pd.DataFrame(X_train,\n",
    "                       columns=X.columns[selector.get_support()])\n",
    "\n",
    "X_test = selector.transform(X_test)\n",
    "X_test = pd.DataFrame(X_test,\n",
    "                       columns=X.columns[selector.get_support()])"
   ]
  },
  {
   "cell_type": "code",
   "execution_count": null,
   "id": "343993e7",
   "metadata": {},
   "outputs": [],
   "source": [
    "print(X_train.shape)"
   ]
  },
  {
   "cell_type": "code",
   "execution_count": null,
   "id": "14a67fc9",
   "metadata": {},
   "outputs": [],
   "source": [
    "print(X_test.shape)"
   ]
  },
  {
   "cell_type": "code",
   "execution_count": null,
   "id": "40b0c8fb",
   "metadata": {},
   "outputs": [],
   "source": [
    "mmp_features = X_train.columns"
   ]
  },
  {
   "cell_type": "code",
   "execution_count": null,
   "id": "36f2bc4d",
   "metadata": {},
   "outputs": [],
   "source": [
    "with open('/Users/elli/Library/CloudStorage/OneDrive-Kruvelab/Master_thesis/Code/Model_training/MMP/mmp_features.pkl', 'wb') as f:\n",
    "    pickle.dump(mmp_features, f)"
   ]
  },
  {
   "cell_type": "code",
   "execution_count": null,
   "id": "0a77a0e6",
   "metadata": {},
   "outputs": [],
   "source": []
  },
  {
   "cell_type": "markdown",
   "id": "c3f1f2d9",
   "metadata": {},
   "source": [
    "##### Preprocessing of evaluation data"
   ]
  },
  {
   "cell_type": "code",
   "execution_count": null,
   "id": "3aa4c913",
   "metadata": {},
   "outputs": [],
   "source": [
    "with open('evaluation_mmp.pkl', 'rb') as f:\n",
    "    evaluation_data_mmp = pickle.load(f)"
   ]
  },
  {
   "cell_type": "code",
   "execution_count": null,
   "id": "f8f945e9",
   "metadata": {},
   "outputs": [],
   "source": [
    "evaluation_mmp_fp = evaluation_data_mmp.drop(columns=['InChIKey14', 'SMILES', 'nr.ahr', 'sr.mmp', 'adduct'])\n",
    "evaluation_mmp_labels = evaluation_data_mmp[['sr.mmp']]"
   ]
  },
  {
   "cell_type": "markdown",
   "id": "aa3b5f44",
   "metadata": {},
   "source": [
    "#### Add split to tox21 dataset"
   ]
  },
  {
   "cell_type": "code",
   "execution_count": null,
   "id": "35ea2f92",
   "metadata": {},
   "outputs": [],
   "source": [
    "# Add the sr.mmp split\n",
    "tox21_added_splits['sr.mmp_split'] = [\n",
    "    'train' if i in y_train.index else\n",
    "    'test' if i in y_test.index else\n",
    "    'spectrum_evaluation' if i in eval_set_mmp.index else\n",
    "    np.nan\n",
    "    for i in tox21_added_splits.index]\n"
   ]
  },
  {
   "cell_type": "code",
   "execution_count": null,
   "id": "f5290473",
   "metadata": {},
   "outputs": [],
   "source": [
    "tox21_added_splits"
   ]
  },
  {
   "cell_type": "code",
   "execution_count": null,
   "id": "dce787d1",
   "metadata": {},
   "outputs": [],
   "source": [
    "tox21_added_splits[tox21_added_splits['sr.mmp_split']=='train'].shape"
   ]
  },
  {
   "cell_type": "code",
   "execution_count": null,
   "id": "a7bd4311",
   "metadata": {},
   "outputs": [],
   "source": [
    "# with open('2025-05-12_tox21_ahr_mmp_6999_compounds_apci.pkl', 'wb') as f:\n",
    "#     pickle.dump(tox21_added_splits, f)"
   ]
  },
  {
   "cell_type": "markdown",
   "id": "4bdf7cdf",
   "metadata": {},
   "source": [
    "#### RF"
   ]
  },
  {
   "cell_type": "code",
   "execution_count": null,
   "id": "486fd0a1",
   "metadata": {},
   "outputs": [],
   "source": [
    "#Optuna objective for Random Forest\n",
    "\n",
    "def objective(trial):\n",
    "    # Number of trees in random forest\n",
    "    n_estimators = trial.suggest_int(name=\"n_estimators\", low=10, high=1000)\n",
    "\n",
    "    # Number of features to consider at every split\n",
    "    max_features = trial.suggest_categorical(name=\"max_features\", choices=['log2', 'sqrt', 0.2, 0.5]) \n",
    "\n",
    "    # Maximum number of levels in tree\n",
    "    max_depth = trial.suggest_int(name=\"max_depth\", low=5, high=100)\n",
    "\n",
    "    # Minimum number of samples required to split a node\n",
    "    min_samples_split = trial.suggest_int(name=\"min_samples_split\", low=2, high=20)\n",
    "\n",
    "    # Minimum number of samples required at each leaf node\n",
    "    min_samples_leaf = trial.suggest_int(name=\"min_samples_leaf\", low=5, high=40)\n",
    "    \n",
    "    params = {\n",
    "        \"n_estimators\": n_estimators,\n",
    "        \"max_features\": max_features,\n",
    "        \"max_depth\": max_depth,\n",
    "        \"min_samples_split\": min_samples_split,\n",
    "        \"min_samples_leaf\": min_samples_leaf\n",
    "    }\n",
    "    model = RandomForestClassifier(random_state=101, **params)\n",
    "\n",
    "    skf = StratifiedKFold(n_splits=5, shuffle=True, random_state=42)\n",
    "    fprs = []\n",
    "\n",
    "    for train_idx, test_idx in skf.split(X_train, y_train):\n",
    "        X_tr, X_val = X_train.iloc[train_idx], X_train.iloc[test_idx]\n",
    "        y_tr, y_val = y_train.iloc[train_idx], y_train.iloc[test_idx]\n",
    "\n",
    "        model.fit(X_tr, y_tr)\n",
    "        y_probs = model.predict_proba(X_val)[:, 1]\n",
    "        fpr = fpr_at_recall_90(y_val, y_probs)\n",
    "        fprs.append(fpr)\n",
    "    \n",
    "    return -np.mean(fprs)"
   ]
  },
  {
   "cell_type": "code",
   "execution_count": null,
   "id": "6a09eced",
   "metadata": {},
   "outputs": [],
   "source": [
    "study = optuna.create_study(direction='maximize', sampler=optuna.samplers.RandomSampler())\n",
    "study.optimize(objective, n_trials=500)\n",
    "final_params = study.best_params\n",
    "\n",
    "model_full = RandomForestClassifier(**final_params,\n",
    "                              random_state=0,\n",
    "                              n_jobs=-1)\n",
    "model_full.fit(X_train, y_train)"
   ]
  },
  {
   "cell_type": "code",
   "execution_count": null,
   "id": "ccf57ae9",
   "metadata": {},
   "outputs": [],
   "source": [
    "# with open('/Users/elli/Library/CloudStorage/OneDrive-Kruvelab/Master_thesis/Code/Model_training/MMP/RF/2025-05-14_RF_feat_var_0.9_mmp_CORRECT_FINAL_correct_features.pkl', 'wb') as f:\n",
    "#     pickle.dump(model_full, f)"
   ]
  },
  {
   "cell_type": "markdown",
   "id": "f0e54d76",
   "metadata": {},
   "source": [
    "##### Model evaulation"
   ]
  },
  {
   "cell_type": "code",
   "execution_count": null,
   "id": "837a1949",
   "metadata": {},
   "outputs": [],
   "source": []
  },
  {
   "cell_type": "code",
   "execution_count": null,
   "id": "c698bb02",
   "metadata": {},
   "outputs": [],
   "source": [
    "with open('/Users/elli/Library/CloudStorage/OneDrive-Kruvelab/Master_thesis/Code/Model_training/MMP/RF/2025-05-14_RF_feat_var_0.9_mmp_CORRECT_FINAL_correct_features.pkl', 'rb') as f:\n",
    "    model_full = pickle.load(f)"
   ]
  },
  {
   "cell_type": "code",
   "execution_count": null,
   "id": "763ed2fb",
   "metadata": {},
   "outputs": [],
   "source": [
    "model_full.get_params()"
   ]
  },
  {
   "cell_type": "code",
   "execution_count": null,
   "id": "6b0b0624",
   "metadata": {},
   "outputs": [],
   "source": [
    "model_full.score(X_test, y_test)"
   ]
  },
  {
   "cell_type": "code",
   "execution_count": null,
   "id": "983ac85e",
   "metadata": {},
   "outputs": [],
   "source": [
    "roc_auc = roc_auc_score(y_test, model_full.predict_proba(X_test)[:, 1])\n",
    "fpr, tpr, thresh = roc_curve(y_test, model_full.predict_proba(X_test)[:, 1],\n",
    "                                     drop_intermediate=False)\n",
    "\n",
    "recall_index_90 = np.argmax(tpr >= 0.9) \n",
    "fpr_at_90_recall = fpr[recall_index_90]\n",
    "thresh_at_90_recall = thresh[recall_index_90]\n",
    "\n",
    "fpr_at_90_recall, thresh_at_90_recall"
   ]
  },
  {
   "cell_type": "code",
   "execution_count": null,
   "id": "ed04ae9a",
   "metadata": {},
   "outputs": [],
   "source": [
    "from sklearn.metrics import ConfusionMatrixDisplay, confusion_matrix\n",
    "\n",
    "#adjust the probability threshold to get 90% recall\n",
    "y_pred_proba = model_full.predict_proba(X_test)[:, 1]\n",
    "y_pred = (y_pred_proba >= thresh_at_90_recall).astype(int)\n",
    "\n",
    "cm = confusion_matrix(y_test, y_pred)\n",
    "\n",
    "disp_mmp_rf = ConfusionMatrixDisplay(confusion_matrix=cm, display_labels=['Inactive', 'Active'])\n",
    "disp_mmp_rf.plot(cmap='Blues')\n",
    "\n",
    "bal_acc = balanced_accuracy_score(y_test, y_pred)"
   ]
  },
  {
   "cell_type": "code",
   "execution_count": null,
   "id": "4029ba11",
   "metadata": {},
   "outputs": [],
   "source": [
    "# Save out the threshold at 90% recall\n",
    "thresholds_90_recall = pd.DataFrame({'endpoint': ['MMP'],\n",
    "                                        'model': ['RF'],\n",
    "                                        'threshold_90_recall': [thresh_at_90_recall],\n",
    "                                        'fpr_90_recall': [fpr_at_90_recall],\n",
    "                                        'roc_auc_score': [roc_auc],\n",
    "                                        'balanced_accuracy': [bal_acc]})\n",
    "\n",
    "thresholds_90_recall_df = pd.concat([thresholds_90_recall_df, thresholds_90_recall], ignore_index=True)"
   ]
  },
  {
   "cell_type": "code",
   "execution_count": null,
   "id": "dd6986c9",
   "metadata": {},
   "outputs": [],
   "source": [
    "thresholds_90_recall"
   ]
  },
  {
   "cell_type": "code",
   "execution_count": null,
   "id": "3522c132",
   "metadata": {},
   "outputs": [],
   "source": [
    "# # Save the ROC curve data\n",
    "roc_mmp_rf = pd.DataFrame({'fpr_mmp_rf': fpr, 'tpr_mmp_rf': tpr, 'thresholds_mmp_rf': thresh})"
   ]
  },
  {
   "cell_type": "markdown",
   "id": "58ae8ff9",
   "metadata": {},
   "source": [
    "##### Evaluation of probabilistic fingerprints"
   ]
  },
  {
   "cell_type": "code",
   "execution_count": null,
   "id": "e9e81ece",
   "metadata": {},
   "outputs": [],
   "source": [
    "with open('/Users/elli/Library/CloudStorage/OneDrive-Kruvelab/Master_thesis/Code/Model_training/MMP/RF/2025-05-14_RF_feat_var_0.9_mmp_CORRECT_FINAL_correct_features.pkl', 'rb') as f:\n",
    "    model_full = pickle.load(f)"
   ]
  },
  {
   "cell_type": "code",
   "execution_count": null,
   "id": "433dc482",
   "metadata": {},
   "outputs": [],
   "source": [
    "# Functions for making predictions\n",
    "def MonteCarlo_prediction(fp, model, n_samples=10000):\n",
    "    binary_samples = np.random.binomial(1, fp, size=(n_samples, len(fp)))\n",
    "    predicted_probabilities = model.predict_proba(binary_samples)[:, 1]\n",
    "    return np.mean(predicted_probabilities)\n",
    "\n",
    "def make_predictions(data, model, feature_names):\n",
    "    df = data.iloc[:, list(feature_names)]\n",
    "    predicted_probabilities =  df.apply(lambda x: MonteCarlo_prediction(np.array(x), model=model), axis=1)\n",
    "    return predicted_probabilities"
   ]
  },
  {
   "cell_type": "code",
   "execution_count": null,
   "id": "79ac0d05",
   "metadata": {},
   "outputs": [],
   "source": [
    "final_predictions = evaluation_data_mmp[['sr.mmp']]\n",
    "\n",
    "final_predictions.rename(columns={'sr.mmp': 'MMP_true_label'}, inplace=True)"
   ]
  },
  {
   "cell_type": "code",
   "execution_count": null,
   "id": "f4f2689b",
   "metadata": {},
   "outputs": [],
   "source": [
    "predictions_df = make_predictions(evaluation_mmp_fp, model_full, mmp_features)\n",
    "\n",
    "thresh = thresholds[(thresholds['endpoint']=='MMP') & (thresholds['model']=='RF')]['threshold_90_recall'].values[0]\n",
    "\n",
    "\n",
    "final_predictions['MMP_RF_proba'] = predictions_df\n",
    "final_predictions['MMP_RF'] = (predictions_df > thresh).astype(int)"
   ]
  },
  {
   "cell_type": "code",
   "execution_count": null,
   "id": "e09ea038",
   "metadata": {},
   "outputs": [],
   "source": [
    "final_predictions"
   ]
  },
  {
   "cell_type": "markdown",
   "id": "fdd9d9b7",
   "metadata": {},
   "source": [
    "#### XGBoost"
   ]
  },
  {
   "cell_type": "code",
   "execution_count": null,
   "id": "92198c8f",
   "metadata": {},
   "outputs": [],
   "source": [
    "def objective(trial):\n",
    "    n_estimators = trial.suggest_int('n_estimators', 100, 1000)\n",
    "    max_depth = trial.suggest_int('max_depth', 10, 100)\n",
    "    learning_rate = trial.suggest_float('learning_rate', 0, 0.5)\n",
    "    num_boost_round = trial.suggest_int('num_boost_round', 100, 1000)\n",
    "    min_child_weight = trial.suggest_float('min_child_weight', 0.001, 100)\n",
    "    subsample = trial.suggest_float('subsample', 0, 1)\n",
    "    colsample_bytree = trial.suggest_float('colsample_bytree', 0, 1)\n",
    "\n",
    "    model = XGBClassifier(n_estimators=n_estimators,\n",
    "                          max_depth=max_depth,\n",
    "                          learning_rate=learning_rate,\n",
    "                          min_child_weight=min_child_weight,\n",
    "                          subsample=subsample,\n",
    "                          colsample_bytree=colsample_bytree,\n",
    "                          eval_metric='logloss')\n",
    "    skf = StratifiedKFold(n_splits=5, shuffle=True, random_state=42)\n",
    "    fprs = []\n",
    "\n",
    "    for train_idx, test_idx in skf.split(X_train, y_train):\n",
    "        X_tr, X_val = X_train.iloc[train_idx], X_train.iloc[test_idx]\n",
    "        y_tr, y_val = y_train.iloc[train_idx], y_train.iloc[test_idx]\n",
    "\n",
    "        model.fit(X_tr, y_tr)\n",
    "        y_probs = model.predict_proba(X_val)[:, 1]\n",
    "        fpr = fpr_at_recall_90(y_val, y_probs)\n",
    "        fprs.append(fpr)\n",
    "\n",
    "    return -np.mean(fprs) "
   ]
  },
  {
   "cell_type": "code",
   "execution_count": null,
   "id": "f53e0ffc",
   "metadata": {},
   "outputs": [],
   "source": [
    "study = optuna.create_study(direction='maximize', sampler=optuna.samplers.RandomSampler())\n",
    "\n",
    "study.optimize(objective, n_trials=500)\n",
    "final_params = study.best_params\n",
    "\n",
    "model_full = XGBClassifier(**final_params,\n",
    "                              random_state=0,\n",
    "                              n_jobs=-1)\n",
    "model_full.fit(X_train, y_train)"
   ]
  },
  {
   "cell_type": "code",
   "execution_count": null,
   "id": "42115198",
   "metadata": {},
   "outputs": [],
   "source": [
    "# with open('/Users/elli/Library/CloudStorage/OneDrive-Kruvelab/Master_thesis/Code/Model_training/MMP/XGBoost/2025-05-14_XGBoost_feat_var_0.9_mmp_CORRECT_FINAL_correct_features.pkl', 'wb') as f:\n",
    "#     pickle.dump(model_full, f)"
   ]
  },
  {
   "cell_type": "markdown",
   "id": "d56aa6bf",
   "metadata": {},
   "source": [
    "##### Model evaulation"
   ]
  },
  {
   "cell_type": "code",
   "execution_count": null,
   "id": "ff408086",
   "metadata": {},
   "outputs": [],
   "source": [
    "with open('/Users/elli/Library/CloudStorage/OneDrive-Kruvelab/Master_thesis/Code/Model_training/MMP/XGBoost/2025-05-14_XGBoost_feat_var_0.9_mmp_CORRECT_FINAL_correct_features.pkl', 'rb') as f:\n",
    "    model_full = pickle.load(f)"
   ]
  },
  {
   "cell_type": "code",
   "execution_count": null,
   "id": "35a72dbe",
   "metadata": {},
   "outputs": [],
   "source": [
    "model_full.get_params()"
   ]
  },
  {
   "cell_type": "code",
   "execution_count": null,
   "id": "39822d83",
   "metadata": {},
   "outputs": [],
   "source": [
    "model_full.score(X_test, y_test)\n"
   ]
  },
  {
   "cell_type": "code",
   "execution_count": null,
   "id": "0f8f4136",
   "metadata": {},
   "outputs": [],
   "source": [
    "roc_auc = roc_auc_score(y_test, model_full.predict_proba(X_test)[:, 1])\n",
    "fpr, tpr, thresh = roc_curve(y_test, model_full.predict_proba(X_test)[:, 1],\n",
    "                                     drop_intermediate=False)\n",
    "\n",
    "recall_index_90 = np.argmax(tpr >= 0.9) \n",
    "fpr_at_90_recall = fpr[recall_index_90]\n",
    "thresh_at_90_recall = thresh[recall_index_90]\n",
    "\n",
    "fpr_at_90_recall, thresh_at_90_recall"
   ]
  },
  {
   "cell_type": "code",
   "execution_count": null,
   "id": "8bbe1c4f",
   "metadata": {},
   "outputs": [],
   "source": [
    "from sklearn.metrics import ConfusionMatrixDisplay, confusion_matrix\n",
    "\n",
    "#adjust the probability threshold to get 90% recall\n",
    "y_pred_proba = model_full.predict_proba(X_test)[:, 1]\n",
    "y_pred = (y_pred_proba >= thresh_at_90_recall).astype(int)\n",
    "\n",
    "cm = confusion_matrix(y_test, y_pred)\n",
    "\n",
    "disp_mmp_xgb = ConfusionMatrixDisplay(confusion_matrix=cm, display_labels=['Inactive', 'Active'])\n",
    "disp_mmp_xgb.plot(cmap='Blues')\n",
    "\n",
    "bal_acc = balanced_accuracy_score(y_test, y_pred)"
   ]
  },
  {
   "cell_type": "code",
   "execution_count": null,
   "id": "b4fa3038",
   "metadata": {},
   "outputs": [],
   "source": [
    "# Save out the threshold at 90% recall\n",
    "thresholds_90_recall = pd.DataFrame({'endpoint': ['MMP'],\n",
    "                                        'model': ['XGB'],\n",
    "                                        'threshold_90_recall': [thresh_at_90_recall],\n",
    "                                        'fpr_90_recall': [fpr_at_90_recall],\n",
    "                                        'roc_auc_score': [roc_auc],\n",
    "                                        'balanced_accuracy': [bal_acc]})\n",
    "\n",
    "thresholds_90_recall_df = pd.concat([thresholds_90_recall_df, thresholds_90_recall], ignore_index=True)"
   ]
  },
  {
   "cell_type": "code",
   "execution_count": null,
   "id": "75e1cb15",
   "metadata": {},
   "outputs": [],
   "source": [
    "# # Save the ROC curve data\n",
    "roc_mmp_xgb = pd.DataFrame({'fpr_mmp_xgb': fpr, 'tpr_mmp_xgb': tpr, 'thresholds_mmp_xgb': thresh})"
   ]
  },
  {
   "cell_type": "markdown",
   "id": "785f49eb",
   "metadata": {},
   "source": [
    "##### Evaluation of probabilistic fingerprints"
   ]
  },
  {
   "cell_type": "code",
   "execution_count": null,
   "id": "61971573",
   "metadata": {},
   "outputs": [],
   "source": [
    "# Functions for making predictions\n",
    "def MonteCarlo_prediction(fp, model, n_samples=10000):\n",
    "    binary_samples = np.random.binomial(1, fp, size=(n_samples, len(fp)))\n",
    "    predicted_probabilities = model.predict_proba(binary_samples)[:, 1]\n",
    "    return np.mean(predicted_probabilities)\n",
    "\n",
    "def make_predictions(data, model, feature_names):\n",
    "    df = data.iloc[:, list(feature_names)]\n",
    "    predicted_probabilities =  df.apply(lambda x: MonteCarlo_prediction(np.array(x), model=model), axis=1)\n",
    "    return predicted_probabilities"
   ]
  },
  {
   "cell_type": "code",
   "execution_count": null,
   "id": "93ab5eb7",
   "metadata": {},
   "outputs": [],
   "source": [
    "thresholds"
   ]
  },
  {
   "cell_type": "code",
   "execution_count": null,
   "id": "953ccbe4",
   "metadata": {},
   "outputs": [],
   "source": [
    "predictions_df = make_predictions(evaluation_mmp_fp, model_full, mmp_features)\n",
    "\n",
    "thresh = thresholds[(thresholds['endpoint']=='MMP') & (thresholds['model']=='XGB')]['threshold_90_recall'].values[0]\n",
    "\n",
    "final_predictions['MMP_XGB_proba'] = predictions_df\n",
    "final_predictions['MMP_XGB'] = (predictions_df > thresh).astype(int)"
   ]
  },
  {
   "cell_type": "code",
   "execution_count": null,
   "id": "4a4084f4",
   "metadata": {},
   "outputs": [],
   "source": [
    "final_predictions"
   ]
  },
  {
   "cell_type": "code",
   "execution_count": null,
   "id": "cdf117ab",
   "metadata": {},
   "outputs": [],
   "source": [
    "with open('final_predictions_experimental_mmp.pkl', 'wb') as f:\n",
    "    pickle.dump(final_predictions, f)"
   ]
  },
  {
   "cell_type": "markdown",
   "id": "1fe65b64",
   "metadata": {},
   "source": [
    "# Visualization"
   ]
  },
  {
   "cell_type": "markdown",
   "id": "4af9b0bb",
   "metadata": {},
   "source": [
    "## Confusion matrices"
   ]
  },
  {
   "cell_type": "code",
   "execution_count": null,
   "id": "e0390d4f",
   "metadata": {},
   "outputs": [],
   "source": [
    "plt.rcParams.keys()"
   ]
  },
  {
   "cell_type": "code",
   "execution_count": null,
   "id": "d3ec0e8d",
   "metadata": {},
   "outputs": [],
   "source": [
    "import matplotlib.pyplot as plt\n",
    "\n",
    "# Set the figure parameters\n",
    "plt.rcParams.update({'figure.figsize':[9.8,9.8],\n",
    "                'font.size': 16, \n",
    "                'font.weight': 'normal',\n",
    "                'axes.titlesize': 12,\n",
    "                'axes.labelsize': 12,\n",
    "                'xtick.labelsize': 12,\n",
    "                'ytick.labelsize': 12,\n",
    "                'legend.fontsize': 12,\n",
    "                'legend.title_fontsize': 12,\n",
    "                'axes.titleweight': 'bold',\n",
    "                'font.family': 'serif',\n",
    "                'font.serif': ['Times New Roman'],\n",
    "                'figure.dpi':300,\n",
    "                \n",
    "                })\n",
    "\n",
    "fig, ax = plt.subplots(2, 2, figsize=(10, 9.5), dpi=300)\n",
    "# AHR\n",
    "disp_ahr_rf.plot(ax=ax[0, 0], cmap='Blues', colorbar=False)\n",
    "disp_ahr_rf.ax_.set_title('AhR RF')\n",
    "disp_ahr_rf.ax_.set_aspect('equal')\n",
    "\n",
    "disp_ahr_xgb.plot(ax=ax[0, 1], cmap='Blues', colorbar=False)\n",
    "disp_ahr_xgb.ax_.set_title('AhR XGB')\n",
    "disp_ahr_xgb.ax_.set_aspect('equal')\n",
    "\n",
    "# MMP\n",
    "disp_mmp_rf.plot(ax=ax[1, 0], cmap='Oranges', colorbar=False)\n",
    "disp_mmp_rf.ax_.set_title('MMP RF')\n",
    "disp_mmp_rf.ax_.set_aspect('equal')\n",
    "\n",
    "disp_mmp_xgb.plot(ax=ax[1, 1], cmap='Oranges', colorbar=False)\n",
    "disp_mmp_xgb.ax_.set_title('MMP XGB')\n",
    "disp_mmp_xgb.ax_.set_aspect('equal')\n",
    "\n",
    "plt.tight_layout()\n",
    "\n",
    "plt.suptitle('Intermediate test set\\nConfusion matrices for AhR and MMP models at TPR=90%', fontsize=16, fontweight='bold', y=1.03)\n",
    "\n",
    "\n",
    "\n",
    "plt.savefig('/Users/elli/Library/CloudStorage/OneDrive-Kruvelab/Master_thesis/Visualizations/2025-05-18_confusion_matrices_ahr_mmp_new.pdf', dpi=300, bbox_inches='tight')\n"
   ]
  },
  {
   "cell_type": "markdown",
   "id": "615fd654",
   "metadata": {},
   "source": [
    "## ROC-AUC"
   ]
  },
  {
   "cell_type": "code",
   "execution_count": null,
   "id": "61ca3731",
   "metadata": {},
   "outputs": [],
   "source": [
    "#Concatenate all ROC data\n",
    "roc_data = pd.concat([roc_ahr_rf, roc_ahr_xgb, roc_mmp_rf, roc_mmp_xgb], axis=1)"
   ]
  },
  {
   "cell_type": "code",
   "execution_count": null,
   "id": "a62fdddf",
   "metadata": {},
   "outputs": [],
   "source": [
    "#Plot all ROC curves\n",
    "fig, ax = plt.subplots(1, 2, figsize=(8, 5), dpi=300, tight_layout=True, sharex=True, sharey=True)\n",
    "\n",
    "ax[0].plot(roc_data['fpr_ahr_rf'], roc_data['tpr_ahr_rf'], label='AhR RF', color='#219EBC')\n",
    "ax[0].plot(roc_data['fpr_ahr_xgb'], roc_data['tpr_ahr_xgb'], label='AhR XGB', color='#023047')\n",
    "ax[0].grid(visible=True, which='both', linewidth=0.5, alpha=0.5)\n",
    "ax[0].set_title('AhR models')\n",
    "ax[0].legend(loc='lower right')\n",
    "ax[0].set_aspect('equal')\n",
    "\n",
    "ax[1].plot(roc_data['fpr_mmp_rf'], roc_data['tpr_mmp_rf'], label='MMP RF', color='#FFB703')\n",
    "ax[1].plot(roc_data['fpr_mmp_xgb'], roc_data['tpr_mmp_xgb'], label='MMP XGB', color='#FB8500')\n",
    "ax[1].grid(visible=True, which='both', linewidth=0.5, alpha=0.5)\n",
    "ax[1].set_title('MMP models')\n",
    "ax[1].legend(loc='lower right')\n",
    "ax[1].set_aspect('equal')\n",
    "\n",
    "\n",
    "#fig.suptitle('Intermediate test set\\nROC-AUC for AhR and MMP models', fontweight='bold', fontsize=16, y = 0.92)\n",
    "fig.supxlabel('False Positive Rate', y=0.12, fontsize=12)\n",
    "fig.supylabel('True Positive Rate', x=0.05, fontsize=12)\n",
    "\n",
    "fig.savefig('/Users/elli/Library/CloudStorage/OneDrive-Kruvelab/Master_thesis/Visualizations/2025-05-26_roc_curves_ahr_mmp_new.pdf', dpi=300, bbox_inches='tight',\n",
    "            transparent=True)\n"
   ]
  },
  {
   "cell_type": "markdown",
   "id": "86602089",
   "metadata": {},
   "source": [
    "# FPR rate"
   ]
  },
  {
   "cell_type": "code",
   "execution_count": null,
   "id": "42dec7e3",
   "metadata": {},
   "outputs": [],
   "source": [
    "thresholds_90_recall_df"
   ]
  },
  {
   "cell_type": "code",
   "execution_count": null,
   "id": "dc0a4250",
   "metadata": {},
   "outputs": [],
   "source": [
    "with open('2025-05-18_threshold_fpr_at_90_recall_ahr_mmp_models.pkl', 'wb') as f:\n",
    "    pickle.dump(thresholds_90_recall_df, f)"
   ]
  },
  {
   "cell_type": "markdown",
   "id": "3b687997",
   "metadata": {},
   "source": [
    "# From OPTUNA code by Anneli"
   ]
  },
  {
   "cell_type": "code",
   "execution_count": null,
   "id": "0cb9fe8b",
   "metadata": {},
   "outputs": [],
   "source": [
    "from sklearn.ensemble import RandomForestClassifier\n",
    "\n",
    "rf = RandomForestClassifier()\n",
    "\n",
    "#Fit RF classifier model without any hyperparameter tuning\n",
    "rf.fit(X_train, y_train)\n",
    "\n",
    "#Predict on the test set\n",
    "y_pred = rf.predict(X_test)\n",
    "\n",
    "#Determine the RMSE and MAE for the test set\n",
    "test_rmse = root_mean_squared_error(y_test, y_pred)\n",
    "test_mae = mean_absolute_error(y_test, y_pred)\n",
    "print(f'Test set RMSE: {test_rmse} \\n test set MAE: {test_mae}')"
   ]
  },
  {
   "cell_type": "markdown",
   "id": "9024f050",
   "metadata": {},
   "source": [
    "# My own code for Confusion matrix (not done)"
   ]
  },
  {
   "cell_type": "code",
   "execution_count": null,
   "id": "7b06a119",
   "metadata": {},
   "outputs": [],
   "source": [
    "#Confusion matrix of the results\n",
    "from sklearn.metrics import confusion_matrix, ConfusionMatrixDisplay\n",
    "\n",
    "import matplotlib.pyplot as plt\n",
    "import seaborn as sns\n",
    "\n",
    "\n",
    "#Create confusion matrix\n",
    "cm = confusion_matrix(y_test, y_pred)\n",
    "\n",
    "\n",
    "# Step 2: Plot using seaborn heatmap\n",
    "plt.figure(figsize=(6, 5))\n",
    "sns.heatmap(cm, annot=True, fmt='d', cmap='Blues',\n",
    "            xticklabels=class_names,\n",
    "            yticklabels=class_names)\n",
    "\n",
    "plt.xlabel('Predicted')\n",
    "plt.ylabel('True')\n",
    "plt.title('Confusion Matrix')\n",
    "plt.tight_layout()\n",
    "plt.show()"
   ]
  },
  {
   "cell_type": "markdown",
   "id": "9a4f8bb7",
   "metadata": {},
   "source": [
    "# Idas code"
   ]
  },
  {
   "cell_type": "code",
   "execution_count": null,
   "id": "581f7680",
   "metadata": {},
   "outputs": [],
   "source": [
    "import warnings\n",
    "warnings.filterwarnings('ignore', category = RuntimeWarning)\n",
    "\n",
    "import sys\n",
    "import pandas as pd\n",
    "import numpy as np\n",
    "import timeit\n",
    "\n",
    "import matplotlib.pyplot as plt\n",
    "import seaborn as sns \n",
    "\n",
    "import pickle\n",
    "\n",
    "\n",
    "from sklearn.utils import class_weight\n",
    "from sklearn import metrics\n",
    "from sklearn.metrics import confusion_matrix, classification_report, roc_auc_score, \\\n",
    "                            precision_recall_curve, roc_curve, balanced_accuracy_score, \\\n",
    "                            precision_score, f1_score, recall_score\n",
    "from sklearn.exceptions import NotFittedError\n",
    "from sklearn.model_selection import KFold, cross_val_score,train_test_split \n",
    "from sklearn.metrics import roc_curve, recall_score\n",
    "from sklearn.model_selection import StratifiedKFold\n",
    "import xgboost as xgb\n",
    "from xgboost import XGBClassifier\n",
    "\n",
    "import optuna\n",
    "from optuna import create_study, logging\n",
    "from optuna.pruners import MedianPruner\n",
    "from optuna.integration import XGBoostPruningCallback"
   ]
  },
  {
   "cell_type": "code",
   "execution_count": null,
   "id": "77fbcb49",
   "metadata": {},
   "outputs": [],
   "source": [
    "def fpr_at_recall_90(y_true, y_probs):\n",
    "    fpr, tpr, thresholds = roc_curve(y_true, y_probs)\n",
    "    try:\n",
    "        threshold_idx = np.where(tpr >= 0.9)[0][0]\n",
    "        return fpr[threshold_idx]\n",
    "    except IndexError:\n",
    "        return 1.0 "
   ]
  },
  {
   "cell_type": "code",
   "execution_count": null,
   "id": "0f6b3d9e",
   "metadata": {},
   "outputs": [],
   "source": [
    "def objective(trial):\n",
    "    n_estimators = trial.suggest_int('n_estimators', 100, 1000)\n",
    "    max_depth = trial.suggest_int('max_depth', 10, 100)\n",
    "    learning_rate = trial.suggest_float('learning_rate', 0, 0.5)\n",
    "    num_boost_round = trial.suggest_int('num_boost_round', 100, 1000)\n",
    "    min_child_weight = trial.suggest_float('min_child_weight', 0.001, 100)\n",
    "    subsample = trial.suggest_float('subsample', 0, 1)\n",
    "    colsample_bytree = trial.suggest_float('colsample_bytree', 0, 1)\n",
    "\n",
    "    model = XGBClassifier(n_estimators=n_estimators,\n",
    "                          max_depth=max_depth,\n",
    "                          learning_rate=learning_rate,\n",
    "                          min_child_weight=min_child_weight,\n",
    "                          subsample=subsample,\n",
    "                          colsample_bytree=colsample_bytree,\n",
    "                          eval_metric='logloss')\n",
    "    skf = StratifiedKFold(n_splits=5, shuffle=True, random_state=42)\n",
    "    fprs = []\n",
    "\n",
    "    for train_idx, test_idx in skf.split(X_train, y_train):\n",
    "        X_tr, X_val = X_train.iloc[train_idx], X_train.iloc[test_idx]\n",
    "        y_tr, y_val = y_train.iloc[train_idx], y_train.iloc[test_idx]\n",
    "\n",
    "        model.fit(X_tr, y_tr)\n",
    "        y_probs = model.predict_proba(X_val)[:, 1]\n",
    "        fpr = fpr_at_recall_90(y_val, y_probs)\n",
    "        fprs.append(fpr)\n",
    "\n",
    "    return -np.mean(fprs) "
   ]
  },
  {
   "cell_type": "code",
   "execution_count": null,
   "id": "66b90f47",
   "metadata": {},
   "outputs": [],
   "source": [
    "study = optuna.create_study(direction='maximize', sampler=optuna.samplers.RandomSampler())\n",
    "\n",
    "study.optimize(objective, n_trials=500)\n",
    "final_params = study.best_params\n",
    "\n",
    "model_full = XGBClassifier(**final_params,\n",
    "                              random_state=0,\n",
    "                              n_jobs=-1)\n",
    "model_full.fit(X_train, y_train)"
   ]
  },
  {
   "cell_type": "code",
   "execution_count": null,
   "id": "c2cdba59",
   "metadata": {},
   "outputs": [],
   "source": [
    "model_full.get_booster().feature_names = feature_names\n",
    "file_name = f'./trained_models/nr.ahr_full.pkl'\n",
    "pickle.dump(model_full, open(file_name, \"wb\"))"
   ]
  },
  {
   "cell_type": "code",
   "execution_count": null,
   "id": "1ad61781",
   "metadata": {},
   "outputs": [],
   "source": [
    "roc_auc = roc_auc_score(y_test, model.predict_proba(X_test)[:, 1])\n",
    "fpr, tpr, thresh = roc_curve(y_test, model.predict_proba(X_test)[:, 1],\n",
    "                                     drop_intermediate=False)\n",
    "\n",
    "recall_index_90 = np.argmax(tpr >= 0.9) \n",
    "fpr_at_90_recall = fpr[recall_index_90]\n",
    "\n",
    "#Example on how to extra the threshold for a specific recall \n",
    "#thresh[recall_index_90]"
   ]
  }
 ],
 "metadata": {
  "kernelspec": {
   "display_name": "pubchem_cleaning",
   "language": "python",
   "name": "python3"
  },
  "language_info": {
   "codemirror_mode": {
    "name": "ipython",
    "version": 3
   },
   "file_extension": ".py",
   "mimetype": "text/x-python",
   "name": "python",
   "nbconvert_exporter": "python",
   "pygments_lexer": "ipython3",
   "version": "3.13.2"
  }
 },
 "nbformat": 4,
 "nbformat_minor": 5
}
