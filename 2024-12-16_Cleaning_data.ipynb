{
 "cells": [
  {
   "cell_type": "markdown",
   "metadata": {},
   "source": [
    "# Cleaning and standardizing all data\n",
    "#### Author: Ellinor Samuelsson Hoppe"
   ]
  },
  {
   "cell_type": "code",
   "execution_count": null,
   "metadata": {},
   "outputs": [],
   "source": [
    "import warnings\n",
    "warnings.filterwarnings('ignore', category = RuntimeWarning)\n",
    "\n",
    "import re\n",
    "\n",
    "import pandas as pd\n",
    "import numpy as np\n",
    "\n",
    "import cirpy\n",
    "\n",
    "import rdkit\n",
    "from rdkit import Chem, rdBase, RDLogger, DataStructs\n",
    "RDLogger.DisableLog('rdApp.*')\n",
    "from rdkit.Chem import AllChem, Draw, inchi, rdDepictor, PandasTools, SaltRemover\n",
    "from rdkit.Chem.Draw import IPythonConsole, rdMolDraw2D\n",
    "from rdkit.Chem.MolStandardize import rdMolStandardize\n",
    "\n",
    "import pickle"
   ]
  },
  {
   "cell_type": "code",
   "execution_count": null,
   "metadata": {},
   "outputs": [],
   "source": [
    "# Tox21 data\n",
    "tox21 = pd.read_csv('/Users/elli/Library/CloudStorage/OneDrive-Kruvelab/Ellinor - Master thesis/Data/Tox21/Tox21_final_7691_compounds.tsv', sep='\\t')\n",
    "tox21.replace(to_replace = -999999, value = np.nan, inplace=True)"
   ]
  },
  {
   "cell_type": "code",
   "execution_count": null,
   "metadata": {},
   "outputs": [],
   "source": [
    "# SIRIUS training data\n",
    "sirius_neg = pd.read_csv('/Users/elli/Library/CloudStorage/OneDrive-Kruvelab/Ellinor - Master thesis/Data/SIRIUS training set/SIRIUS_5_training_compounds_negative.txt', sep='\\t')\n",
    "sirius_neg['ionmode'] = 'negative'\n",
    "sirius_pos = pd.read_csv('/Users/elli/Library/CloudStorage/OneDrive-Kruvelab/Ellinor - Master thesis/Data/SIRIUS training set/SIRIUS_5_training_compounds_positive.txt', sep='\\t')\n",
    "sirius_pos['ionmode'] = 'positive'\n",
    "sirius = pd.concat([sirius_neg, sirius_pos])"
   ]
  },
  {
   "cell_type": "code",
   "execution_count": null,
   "metadata": {},
   "outputs": [],
   "source": [
    "sirius.head()"
   ]
  },
  {
   "cell_type": "code",
   "execution_count": null,
   "metadata": {},
   "outputs": [],
   "source": [
    "#APCI data collected from MassBank, MoNA and GNPS\n",
    "apci = pd.read_csv('/Users/elli/Library/CloudStorage/OneDrive-Kruvelab/Ellinor - Master thesis/Data/Cleaned data/APCI data/241203_APCI_Unique_Chemicals.csv', sep = ';')\n",
    "apci = apci[apci['DataBank'] != 'GNPS'] #removing GNPS data\n",
    "\n",
    "#Iris dataset\n",
    "#iris_apci = pd.read_csv('/Users/elli/Library/CloudStorage/OneDrive-Kruvelab/Ellinor - Master thesis/Data/MS data - databases/APCI/Iris_data_SMILES_used_apci.csv')\n",
    "\n",
    "\n",
    "#KLARA data from Gordian\n",
    "klara = pd.read_csv('/Users/elli/Library/CloudStorage/OneDrive-Kruvelab/Ellinor - Master thesis/Data/KLARA/KLARA_chemicals_2024-06-24_std_smiles_std_inchikeys_logP_molecular_formula_molecular_mass_C_number_N_number.csv', sep=',')\n",
    "\n",
    "#Isabelles data\n",
    "isabelle = pd.read_csv('/Users/elli/Library/CloudStorage/OneDrive-Kruvelab/Ellinor - Master thesis/Data/Cleaned data/Isabelles_chemicals.csv', sep=';')"
   ]
  },
  {
   "cell_type": "markdown",
   "metadata": {},
   "source": [
    "### Cleaning of data (Code adapted from Ida Rahu; https://github.com/kruvelab/NTS_LC_HRMS/blob/main/NTS_review.ipynb)"
   ]
  },
  {
   "cell_type": "code",
   "execution_count": null,
   "metadata": {},
   "outputs": [],
   "source": [
    "#Identifying disconnected structures, eliminating inorganic ions and solvent molecules, and \n",
    "# neutralizing remaining ions, while also removing information about stereochemistry\n",
    "\n",
    "def standardize_mol(data):\n",
    "  # Gets mol objects from SMILES\n",
    "  PandasTools.AddMoleculeColumnToFrame(data, 'SMILES', 'ROMol') # Assuming that SMILES notations are given in column SMILES\n",
    "  #data['ROMol'] = data.InChI.apply(lambda x: Chem.MolFromInchi(x))\n",
    "  \n",
    "  def remove_ions(mol, ions):\n",
    "    remover = SaltRemover.SaltRemover(defnData=ions)\n",
    "    return remover.StripMol(mol)\n",
    "\n",
    "  parts2remove = ['[F,Cl,Br,I]', '[Na,Mg,K,Ca,Li,Ba]', 'CC(=O)O', '[O,N]', 'CS(=O)(=O)O', 'O=S(=O)(O)O', 'O=[N+]([O-])O', 'O=S(=O)(O)CCO',\n",
    "                  'F[P-](F)(F)(F)(F)F' 'O=S(=O)([O-])C(F)(F)F', 'F[B-](F)(F)F',\n",
    "                  '[Co,Pd,Ni,Al,Sn,Zn,Cu,Hg]'] # additional ions to remove\n",
    "\n",
    "  for part in parts2remove:\n",
    "    data['ROMol'] = data.ROMol.apply(lambda x: remove_ions(x, part))\n",
    "\n",
    "  uncharger = rdMolStandardize.Uncharger()  # neutralize the molecule (if possible)\n",
    "  data['ROMol'] = data.ROMol.apply(lambda x: uncharger.uncharge(x))\n",
    "\n",
    "  def neutralize_atoms(mol):\n",
    "      try:\n",
    "          pattern = Chem.MolFromSmarts(\"[+1!h0!$([*]~[-1,-2,-3,-4]),-1!$([*]~[+1,+2,+3,+4])]\")\n",
    "          at_matches = mol.GetSubstructMatches(pattern)\n",
    "          at_matches_list = [y[0] for y in at_matches]\n",
    "          if len(at_matches_list) > 0:\n",
    "              for at_idx in at_matches_list:\n",
    "                  atom = mol.GetAtomWithIdx(at_idx)\n",
    "                  chg = atom.GetFormalCharge()\n",
    "                  hcount = atom.GetTotalNumHs()\n",
    "                  atom.SetFormalCharge(0)\n",
    "                  atom.SetNumExplicitHs(hcount - chg)\n",
    "                  atom.UpdatePropertyCache()\n",
    "          return mol\n",
    "      except:\n",
    "          return mol\n",
    "\n",
    "  data['ROMol'] = data.ROMol.apply(lambda x: neutralize_atoms(x))\n",
    "  data.ROMol.apply(lambda x: Chem.RemoveStereochemistry(x)) \n",
    "  data['SMILES'] = data.ROMol.apply(lambda x: Chem.MolToSmiles(x))\n",
    "  data['InChIKey'] = data.ROMol.apply(lambda x: inchi.MolToInchiKey(x))\n",
    "  data['InChIKey14'] = data.InChIKey.apply(lambda x: x.split('-')[0])\n",
    "  return data\n"
   ]
  },
  {
   "cell_type": "code",
   "execution_count": null,
   "metadata": {},
   "outputs": [],
   "source": [
    "def inchi_to_smiles(inchi):\n",
    "  try:\n",
    "    mol = Chem.MolFromInchi(inchi)\n",
    "    return Chem.MolToSmiles(mol)\n",
    "  except:\n",
    "    return None"
   ]
  },
  {
   "cell_type": "code",
   "execution_count": null,
   "metadata": {},
   "outputs": [],
   "source": [
    "sirius['ROMol'] = sirius.InChI.apply(lambda x: Chem.MolFromInchi(x))"
   ]
  },
  {
   "cell_type": "code",
   "execution_count": null,
   "metadata": {},
   "outputs": [],
   "source": [
    "sirius_std = standardize_mol(sirius)"
   ]
  },
  {
   "cell_type": "code",
   "execution_count": null,
   "metadata": {},
   "outputs": [],
   "source": [
    "#Standardize and deduplicate compounds in tox21 dataset\n",
    "tox21_std = standardize_mol(tox21)"
   ]
  },
  {
   "cell_type": "code",
   "execution_count": null,
   "metadata": {},
   "outputs": [],
   "source": [
    "#Standardize and deduplicate compounds in APCI data from MassBank and MoNA\n",
    "apci['SMILES'] = apci['InChI'].apply(inchi_to_smiles)\n",
    "apci_std = standardize_mol(apci)\n"
   ]
  },
  {
   "cell_type": "code",
   "execution_count": null,
   "metadata": {},
   "outputs": [],
   "source": [
    "#Standardize and deduplicate compounds from Iris dataset\n",
    "iris_std = standardize_mol(iris_apci)"
   ]
  },
  {
   "cell_type": "code",
   "execution_count": null,
   "metadata": {},
   "outputs": [],
   "source": [
    "# Standardize and deduplicate compounds from Isabelles dataset\n",
    "#Make sure to run in \n",
    "isabelle_std = standardize_mol(isabelle)"
   ]
  },
  {
   "cell_type": "code",
   "execution_count": null,
   "metadata": {},
   "outputs": [],
   "source": [
    "def filter_smiles(smiles):\n",
    "    split_smiles = str(smiles).split('.')\n",
    "\n",
    "\n",
    "    def all_equal(smiles_list):             # Check if all SMILES in split list are equal\n",
    "        smiles_list = iter(smiles_list)\n",
    "        try:\n",
    "            first = next(smiles_list)\n",
    "        except StopIteration:               #If list empty, return True\n",
    "            return True\n",
    "        return all(first == rest for rest in smiles_list)\n",
    "\n",
    "\n",
    "    if all_equal(split_smiles) == True:     # If all SMILES are equal, return the first SMILES element\n",
    "        return split_smiles[0]\n",
    "    else:                                   # If not, return None\n",
    "        return None"
   ]
  },
  {
   "cell_type": "code",
   "execution_count": null,
   "metadata": {},
   "outputs": [],
   "source": [
    "#KLARA data cleaned\n",
    "klara = klara.rename(columns = {'Smiles': 'SMILES'}) #rename column from Smiles to SMILES\n",
    "klara = klara.dropna(subset = ['SMILES']) #drop rows with missing SMILES\n",
    "klara = klara.drop_duplicates(subset = 'SMILES') #drop duplicates based on SMILES\n",
    "\n",
    "PandasTools.AddMoleculeColumnToFrame(klara, 'SMILES', 'ROMol')  #add ROMol column to klara dataframe based on SMILES column\n",
    "\n",
    "def contains_carbon(mol):\n",
    "    try:\n",
    "        atomic_no = [atom.GetAtomicNum() for atom in mol.GetAtoms()]\n",
    "        return bool(6 in atomic_no)\n",
    "    except:\n",
    "        return np.nan\n",
    "\n",
    "klara['contains_carbon'] = klara.ROMol.apply(lambda x: contains_carbon(x)) #Boolean column based on whether the compound contains carbon or not\n",
    "klara = klara[klara.contains_carbon == True].reset_index(drop=True) #Remove compounds that do not contain carbon\n",
    "\n",
    "klara_std = standardize_mol(klara) #Standardize and deduplicate compounds in KLARA dataset\n",
    "klara_std.drop(columns = 'contains_carbon', inplace = True) #Drop column contains_carbon from klara dataframe\n",
    "klara_std = klara_std.drop(klara[klara['InChIKey']==''].index) #Drop rows with missing InChIKey\n",
    "\n",
    "klara_std['SMILES'] = klara_std['SMILES'].apply(lambda x: filter_smiles(x)) #Filter out salts from SMILES column\n",
    "\n",
    "klara_std.drop(columns = ['split_SMILES', 'filter', 'std_smiles','std_inchikey', 'logP', 'C_number', 'N_number', 'Streckkod', 'Molekylvikt', 'Kommentar'], inplace = True) #drop unnecessary columns\n"
   ]
  },
  {
   "cell_type": "code",
   "execution_count": null,
   "metadata": {},
   "outputs": [],
   "source": [
    "#Save all standardizations into csv files\n",
    "#tox21_std.to_csv('/Users/elli/Library/CloudStorage/OneDrive-Kruvelab/Ellinor - Master thesis/Data/Cleaned data/Tox21_chemicals_STD.csv', index = False, sep = '\\t')\n",
    "#apci_std.to_csv('/Users/elli/Library/CloudStorage/OneDrive-Kruvelab/Ellinor - Master thesis/Data/Cleaned data/APCI_chemicals_STD.csv', index = False, sep = '\\t')\n",
    "#iris_std.to_csv('/Users/elli/Library/CloudStorage/OneDrive-Kruvelab/Ellinor - Master thesis/Data/Cleaned data/Iris_chemicals_STD.csv', index = False, sep = '\\t')\n",
    "isabelle_std.to_csv('/Users/elli/Library/CloudStorage/OneDrive-Kruvelab/Ellinor - Master thesis/Data/Cleaned data/Isabelles_chemicals_STD.csv', index = False, sep = '\\t')\n",
    "#klara_std.to_csv('/Users/elli/Library/CloudStorage/OneDrive-Kruvelab/Ellinor - Master thesis/Data/Cleaned data/KLARA_chemicals_STD.csv', index = False, sep = '\\t')\n"
   ]
  },
  {
   "cell_type": "markdown",
   "metadata": {},
   "source": [
    "# EI data from MassBank, MoNA and GNPS"
   ]
  },
  {
   "cell_type": "code",
   "execution_count": null,
   "metadata": {},
   "outputs": [],
   "source": [
    "# Import files\n",
    "MassBank = pd.read_csv('/Users/elli/Library/CloudStorage/OneDrive-Kruvelab/Ellinor - Master thesis/Data/MS data - databases/EI/MassBank/2024-12-20_All_EI_Compounds_MassBank.csv', sep = '\\t')\n",
    "MoNA = pd.read_csv('/Users/elli/Library/CloudStorage/OneDrive-Kruvelab/Ellinor - Master thesis/Data/MS data - databases/MoNA/2024-12-18_MoNA_EI_data.csv', sep = ';')\n",
    "GNPS = pd.read_csv('/Users/elli/Library/CloudStorage/OneDrive-Kruvelab/Ellinor - Master thesis/Data/MS data - databases/GNPS/2024-12-18_GNPS_EI_data.csv', sep = ';')"
   ]
  },
  {
   "cell_type": "code",
   "execution_count": null,
   "metadata": {},
   "outputs": [],
   "source": [
    "#Rename columns in MoNA dataset\n",
    "MoNA.rename(columns = {'molecular_formula' : 'smiles', 'SMILES' : 'cas', 'cas' : 'molecular_formula'}, inplace = True)\n",
    "GNPS = GNPS.rename(columns = {'Smiles' : 'SMILES'})"
   ]
  },
  {
   "cell_type": "code",
   "execution_count": null,
   "metadata": {},
   "outputs": [],
   "source": [
    "# Add DataBank label to each dataset\n",
    "MassBank['DataBank'] = 'MassBank'\n",
    "MoNA['DataBank'] = 'MoNA'\n",
    "GNPS['DataBank'] = 'GNPS' # <----- Only one datapoint in GNPS data"
   ]
  },
  {
   "cell_type": "code",
   "execution_count": null,
   "metadata": {},
   "outputs": [],
   "source": [
    "# Remove NA values from InChI columns\n",
    "MassBank_filter = MassBank.dropna(subset = ['InChI'], inplace = True)\n",
    "\n",
    "MoNA_filter = MoNA.dropna(subset = ['InChI'], inplace = True)"
   ]
  },
  {
   "cell_type": "code",
   "execution_count": null,
   "metadata": {},
   "outputs": [],
   "source": [
    "# Drop duplicates based on InChI\n",
    "MassBank_filter = MassBank.drop_duplicates(subset = 'InChI')\n",
    "\n",
    "MoNA_filter = MoNA.drop_duplicates(subset = 'InChI')"
   ]
  },
  {
   "cell_type": "code",
   "execution_count": null,
   "metadata": {},
   "outputs": [],
   "source": [
    "# Add SMILES column to MassBank and MoNA datasets\n",
    "MassBank_filter['SMILES'] = MassBank_filter['InChI'].apply(lambda x :inchi_to_smiles(x))\n",
    "\n",
    "MoNA_filter['SMILES'] = MoNA_filter['InChI'].apply(lambda x : inchi_to_smiles(x))"
   ]
  },
  {
   "cell_type": "code",
   "execution_count": null,
   "metadata": {},
   "outputs": [],
   "source": [
    "# Standardize and deduplicate compounds in MassBank, MoNA and GNPS datasets\n",
    "MassBank_std = standardize_mol(MassBank_filter)\n",
    "MoNA_std = standardize_mol(MoNA_filter)\n",
    "GNPS_std = standardize_mol(GNPS)"
   ]
  },
  {
   "cell_type": "code",
   "execution_count": null,
   "metadata": {},
   "outputs": [],
   "source": [
    "pd.options.display.max_colwidth = 1000\n",
    "MassBank_std[MassBank_std['SMILES'].str.contains('\\.')]['SMILES']"
   ]
  },
  {
   "cell_type": "code",
   "execution_count": null,
   "metadata": {},
   "outputs": [],
   "source": [
    "MassBank_std['SMILES'] = MassBank_std['SMILES'].apply(filter_smiles)\n",
    "MassBank_std = MassBank_std.dropna(subset = 'SMILES')\n",
    "# MassBank_std = MassBank_std.drop_duplicates(subset = 'SMILES')"
   ]
  },
  {
   "cell_type": "code",
   "execution_count": null,
   "metadata": {},
   "outputs": [],
   "source": [
    "MassBank_std['InChIKey14'] = MassBank_std.InChIKey.apply(lambda x: x.split('-')[0])"
   ]
  },
  {
   "cell_type": "code",
   "execution_count": null,
   "metadata": {},
   "outputs": [],
   "source": [
    "# Save all standardizations into csv files\n",
    "MassBank_std.to_csv('/Users/elli/Library/CloudStorage/OneDrive-Kruvelab/Ellinor - Master thesis/Data/Cleaned data/2024-12-20_MassBank_EI_chemicals_STD.csv', index = False, sep = '\\t')\n",
    "MoNA_std.to_csv('/Users/elli/Library/CloudStorage/OneDrive-Kruvelab/Ellinor - Master thesis/Data/Cleaned data/2024-12-20_MoNA_EI_chemicals_STD.csv', index = False, sep = '\\t')\n",
    "GNPS_std.to_csv('/Users/elli/Library/CloudStorage/OneDrive-Kruvelab/Ellinor - Master thesis/Data/Cleaned data/2024-12-20_GNPS_EI_chemicals_STD.csv', index = False, sep = '\\t')"
   ]
  },
  {
   "cell_type": "markdown",
   "metadata": {},
   "source": [
    "### Clean SusDat data from NORMAN"
   ]
  },
  {
   "cell_type": "code",
   "execution_count": null,
   "metadata": {},
   "outputs": [],
   "source": [
    "#NORMAN SusDat dataset\n",
    "susdat_full_df = pd.read_csv('/Users/elli/Library/CloudStorage/OneDrive-Kruvelab/Ellinor - Master thesis/Data/susdat_2025-01-30-135733.csv')"
   ]
  },
  {
   "cell_type": "markdown",
   "metadata": {},
   "source": [
    "GC-probability is based on a 0-1 scale, where >0.5 means that it's most likely GC-amenable, while <0.5 means it's most likely RPLC amenable. The RPLC-affinity is equal to 1-(gc-affinity probability)."
   ]
  },
  {
   "cell_type": "code",
   "execution_count": null,
   "metadata": {},
   "outputs": [],
   "source": [
    "susdat = susdat_full_df[['Name', 'Validation_Level', 'SMILES', 'StdInChI', 'Prob. of GC','alogp_ChemSpider', 'xlogp_ChemSpider']]\n",
    "\n",
    "susdat = susdat.rename(columns = {'Name':'name', \n",
    "                                  'Validation_Level':'validation_level', \n",
    "                                  'StdInChI':'InChI', \n",
    "                                  'Prob. of GC':'gc_probability', \n",
    "                                  'alogp_ChemSpider':'alogp',\n",
    "                                  'xlogp_ChemSpider':'xlogp',\n",
    "                                  'SMILES':'SMILES_orginal'})"
   ]
  },
  {
   "cell_type": "code",
   "execution_count": null,
   "metadata": {},
   "outputs": [],
   "source": [
    "susdat.dtypes"
   ]
  },
  {
   "cell_type": "code",
   "execution_count": null,
   "metadata": {},
   "outputs": [],
   "source": [
    "susdat_nona = susdat.dropna(subset = ['SMILES_orginal', 'gc_probability'])"
   ]
  },
  {
   "cell_type": "markdown",
   "metadata": {},
   "source": [
    "Tested to determine if any InChI were available where SMILES were not for compounds with GC-amenability probabilty, but none were so this step was removed. "
   ]
  },
  {
   "cell_type": "code",
   "execution_count": null,
   "metadata": {},
   "outputs": [],
   "source": [
    "susdat_nona = susdat_nona.copy() #Makes a copy of the dataframe to not change the original dataframe\n",
    "PandasTools.AddMoleculeColumnToFrame(susdat_nona, 'SMILES_orginal', 'ROMol') #Adds a ROMol column to the dataframe based on the SMILES column\n",
    "\n",
    "susdat_nona = susdat_nona.dropna(subset = ['ROMol'])\n",
    "susdat_nona['SMILES'] = susdat_nona.SMILES_orginal\n",
    "\n",
    "susdat_nona.head()"
   ]
  },
  {
   "cell_type": "code",
   "execution_count": null,
   "metadata": {},
   "outputs": [],
   "source": [
    "salts = susdat_nona.SMILES.str.contains('\\.') #Creates a boolean series with True for salts and False for non-salts\n",
    "\n",
    "susdat_salts = susdat_nona[salts].copy() #Creates a new dataframe with salts\n",
    "susdat_nona_nosalt = susdat_nona[~salts].copy() #Creates a new dataframe without salts\n",
    "\n",
    "susdat_salts"
   ]
  },
  {
   "cell_type": "code",
   "execution_count": null,
   "metadata": {},
   "outputs": [],
   "source": [
    "#Remove salts from SMILES\n",
    "def remove_ions(mol, ions):\n",
    "    remover = SaltRemover.SaltRemover(defnData=ions)\n",
    "    return remover.StripMol(mol)\n",
    "\n",
    "parts2remove = ['[F,Cl,Br,I]', '[Na,Mg,K,Ca,Li,Ba]', '[O,N]', 'O=S(=O)(O)O', 'O=[N+]([O-])O',\n",
    "                'F[P-](F)(F)(F)(F)F' 'O=S(=O)([O-])C(F)(F)F', 'F[B-](F)(F)F', \n",
    "\n",
    "                '[H+]', '[H-]',\n",
    "\n",
    "                '[Co,Pd,Ni,Al,Sn,Zn,Cu,Hg,Ag,Mn,Fe,B,Cs,Mo,Ti,Rh,Ir,Pt,Ru,Au,Hf,Ta,Zr,Rb,Sb,Bi,Pb,Nb,V,Sr,In,Eu,Yb,W,Gd,Ce,Cd,Pr,Nd,Cr,La,Er,Ho,Dy,Y,Ge,Sm,Ga,Se]',\n",
    "                \n",
    "                'F[P-](F)(F)(F)(F)F', 'FB(F)F', 'F[As-](F)(F)(F)(F)F',\n",
    "\n",
    "                'Cl[Zn-2](Cl)(Cl)Cl', 'Cl[Zn-](Cl)Cl',\n",
    "                '[O-][Cl+3]([O-])([O-])[O-]', '[O-][Cl+3]([O-])([O-])O', \n",
    "\n",
    "                'OO', 'O=[V]','O[Al+2]', 'O[Al+]O','O=[Si]([O-])[O-]','O=[As](O)(O)O', 'O[As](O)O', 'O=[Se](=O)(O)O', 'O=[Mo-2](=O)(=O)=O', 'OB(O)O',\n",
    "                'O=P(O)(O)O', 'O=PO', 'O=P(O)(O)OP(=O)(O)O',\n",
    "                'O=S=O', 'NS(=O)(=O)[O-]', 'O=S([O-])[O-]', 'O=S(=O)=O',\n",
    "\n",
    "                'NO', 'O=N[O-]',\n",
    "                'NN'\n",
    "                ] # additional ions to remove\n",
    "\n",
    "parts2remove_2 = [ '[O-][I+3]([O-])([O-])[O-]',\n",
    "                \n",
    "                'C', 'CCCC',\n",
    "                'CN', '[C-]#N', 'N#CS', 'N#C[S-]', 'C=N', 'C[NH3+]', 'CN(C)C', 'NCCN', 'CNC','NC(=S)S',\n",
    "                'CO', 'O=CO', 'C=O', 'C[O-]', '[C-]#[O+]','O=C(O)O', 'O=C(O)C(=O)O', 'CCO', 'CC(=O)O',\n",
    "                'NC(=O)O', 'N#C[O-]', 'CC(C)(N)CO', 'C1COCCN1', \n",
    "                'CI',\n",
    "\n",
    "                'O=P([O-])([O-])OCO',\n",
    "                'OC(O)C(Cl)(Cl)Cl',\n",
    "                'O=C([O-])C(F)(F)F'\n",
    "]\n",
    "parts2remove_3 = ['OCCNCCO',\n",
    "                  'CCNCC']\n",
    "\n",
    "parts2remove_4 = ['NC(N)=O', 'CC(O)CN', 'CNCCO',\n",
    "                  'C1CNCCN1', 'CCN', 'N=C(N)N',\n",
    "                  'C=COC=C', 'CC(O)C(=O)O', 'O=C[O-]',\n",
    "                  'COS(=O)(=O)[O-]', 'CS(=O)(=O)O', 'CCOS(=O)(=O)[O-]', 'Cc1ccc(S(=O)(=O)[O-])cc1',\n",
    "\n",
    "                  'O=S(=O)([O-])C(F)(F)C(F)(F)C(F)(F)C(F)(F)F'\n",
    "                  ]\n",
    "parts2remove_5 = ['NCCO',\n",
    "                  'C1CCC(NC2CCCCC2)CC1', 'C1CCNCC1',\n",
    "                  'O=C(O)C=CC(=O)O'\n",
    "                  ]\n",
    "parts2remove_6 = ['O=C1CC[C@@H](C(=O)O)N1',\n",
    "                  'O=C(O)c1ccccc1', 'O=C(O)CC(O)(CC(=O)O)C(=O)O',\n",
    "                  'Cc1ccc(S(=O)(=O)O)cc1'\n",
    "                  ]\n",
    "parts2remove_7 = ['OCCN(CCO)CCO', 'O=C(O)C(O)C(O)C(=O)O', 'CN(C)CCO'\n",
    "                  'NC1CCCCC1' ,'CC[NH+](CC)CC', 'NCCCCCCN', 'CCN(CC)CC'\n",
    "                  ]\n",
    "parts2remove_8 = ['CN(C)CCO', '[NH3+]C1CCCCC1',\n",
    "                  'NC1CCCCC1','Nc1nc(N)nc(N)n1', 'c1ccncc1',\n",
    "                  'O=C(O)c1ccccc1O', 'Oc1ccccc1', 'O=C(O)CCC(=O)O',\n",
    "                  'O=S(=O)([O-])C(F)(F)F'\n",
    "                  ]\n",
    "parts2remove_9 = ['NCCCC[C@H](N)C(=O)O',\n",
    "                  'CCCCCCCCC=CCCCCCCCC(=O)O',\n",
    "                  'CCCN','Nc1ccccc1'\n",
    "                  ]\n",
    "\n",
    "list_of_ion_lists = [parts2remove, parts2remove_2, parts2remove_3, parts2remove_4, parts2remove_5, parts2remove_6, parts2remove_7, parts2remove_8, parts2remove_9]\n",
    "\n",
    "def filter_smiles(smiles):\n",
    "    '''\n",
    "    Function to remove any duplicate components in the SMILES string.\n",
    "    '''\n",
    "    split_smiles = str(smiles).split('.')\n",
    "\n",
    "    def all_equal(smiles_list):             # Check if all SMILES in split list are equal\n",
    "        smiles_list = iter(smiles_list)\n",
    "        try:\n",
    "            first = next(smiles_list)\n",
    "        except StopIteration:               #If list empty, return True\n",
    "            return True\n",
    "        return all(first == rest for rest in smiles_list)\n",
    "\n",
    "\n",
    "    if all_equal(split_smiles) == True:     # If all SMILES are equal, return the first SMILES element\n",
    "        return split_smiles[0]\n",
    "    else:                                   # If not, return original SMILES\n",
    "        return smiles\n",
    "\n",
    "\n",
    "susdat_salts_cleaned = pd.DataFrame() #Create an empty dataframe to store the removed salts\n",
    "\n",
    "for ion_list in list_of_ion_lists:\n",
    "    for ion in ion_list:\n",
    "        susdat_salts['ROMol'] = susdat_salts.ROMol.apply(lambda x: remove_ions(x, ion))\n",
    "    \n",
    "    susdat_salts['SMILES'] = susdat_salts.ROMol.apply(lambda x: Chem.MolToSmiles(x)) #Update SMILES column with new SMILES\n",
    "    susdat_salts['SMILES'] = susdat_salts.SMILES.apply(lambda x: filter_smiles(x)) #Filter out salts with only same compounents from SMILES column\n",
    "    # PandasTools.AddMoleculeColumnToFrame(susdat_salts, 'SMILES', 'ROMol')\n",
    "\n",
    "    # uncharger = rdMolStandardize.Uncharger()  # neutralize the molecule (if possible)\n",
    "    # susdat_salts['ROMol'] = susdat_salts.ROMol.apply(lambda x: uncharger.uncharge(x))\n",
    "    # susdat_salts.ROMol.apply(lambda x: Chem.RemoveStereochemistry(x)) \n",
    "    # susdat_salts['SMILES'] = susdat_salts.ROMol.apply(lambda x: Chem.MolToSmiles(x))\n",
    "\n",
    "    susdat_salts_removed = susdat_salts[~susdat_salts['SMILES'].str.contains('\\.')].copy() #Create a new dataframe without salts\n",
    "    susdat_salts = susdat_salts[susdat_salts['SMILES'].str.contains('\\.')].copy()\n",
    "\n",
    "    susdat_salts_cleaned = pd.concat([susdat_salts_cleaned, susdat_salts_removed], ignore_index=True)\n",
    "\n",
    "susdat_nona_nosalt = pd.concat([susdat_nona_nosalt, susdat_salts_cleaned], ignore_index=True) #Concatenate the two dataframes"
   ]
  },
  {
   "cell_type": "code",
   "execution_count": null,
   "metadata": {},
   "outputs": [],
   "source": [
    "# parts2remove_2 = [ '[O-][I+3]([O-])([O-])[O-]', 'O=S(=O)=O',\n",
    "                  \n",
    "#                   'C', 'CCCC',\n",
    "#                   'CN', '[C-]#N', 'N#CS', 'N#C[S-]', 'C=N', 'C[NH3+]', 'CN(C)C', 'CCNCC', 'NCCN', 'CNC','NC(=S)S',\n",
    "#                   'CO', 'O=CO', 'C=O', 'C[O-]', '[C-]#[O+]','O=C(O)O', 'O=C(O)C(=O)O', 'CCO', 'O=C[O-]',\n",
    "#                   'NC(=O)O', 'N#C[O-]', 'NCCO', 'NC(N)=O',\n",
    "\n",
    "#                   'O=P([O-])([O-])OCO',\n",
    "#                   'OC(O)C(Cl)(Cl)Cl',\n",
    "#                   'O=C([O-])C(F)(F)F',\n",
    "#                   'O=S(=O)([O-])C(F)(F)C(F)(F)C(F)(F)C(F)(F)F'\n",
    "# ]\n",
    "\n",
    "# for part in parts2remove:\n",
    "#     susdat_salts['ROMol'] = susdat_salts.ROMol.apply(lambda x: remove_ions(x, part))\n",
    "\n",
    "# susdat_salts['SMILES'] = susdat_salts.ROMol.apply(lambda x: Chem.MolToSmiles(x)) #Update SMILES column with new SMILES"
   ]
  },
  {
   "cell_type": "code",
   "execution_count": null,
   "metadata": {},
   "outputs": [],
   "source": [
    "susdat_nona_nosalt[susdat_nona_nosalt.SMILES=='']"
   ]
  },
  {
   "cell_type": "code",
   "execution_count": null,
   "metadata": {},
   "outputs": [],
   "source": [
    "susdat_salts[susdat_salts.SMILES=='']"
   ]
  },
  {
   "cell_type": "code",
   "execution_count": null,
   "metadata": {},
   "outputs": [],
   "source": [
    "susdat_salts"
   ]
  },
  {
   "cell_type": "code",
   "execution_count": null,
   "metadata": {},
   "outputs": [],
   "source": [
    "from itertools import zip_longest\n",
    "\n",
    "salts = susdat_salts.copy() #Create a copy of the salts dataframe\n",
    "\n",
    "salts['list_of_components'] = salts['SMILES'].apply(lambda x: x.split('.'))\n",
    "salts_components = pd.DataFrame(zip_longest(*salts['list_of_components'])).T\n",
    "salts_components['name'] = salts['name'].reset_index(drop=True)\n",
    "salts_components['gc_probability'] = salts['gc_probability'].reset_index(drop=True)\n",
    "\n",
    "duplicates_first_component = salts_components[salts_components.duplicated(subset=0, keep=False)]\n",
    "duplicates_second_component = salts_components[salts_components.duplicated(subset=1, keep=False)]\n",
    "duplicates_third_component = salts_components[salts_components.duplicated(subset=2, keep=False)]\n",
    "\n",
    "duplicates_first_component.sort_values(by = 0, inplace = True)\n",
    "duplicates_second_component.sort_values(by = 1, inplace = True)\n",
    "duplicates_third_component.sort_values(by = 2, inplace = True)"
   ]
  },
  {
   "cell_type": "code",
   "execution_count": null,
   "metadata": {},
   "outputs": [],
   "source": [
    "duplicates_first_component"
   ]
  },
  {
   "cell_type": "code",
   "execution_count": null,
   "metadata": {},
   "outputs": [],
   "source": [
    "with open('salts_first_component.pkl', 'wb') as f:\n",
    "    pickle.dump(duplicates_first_component, f)"
   ]
  },
  {
   "cell_type": "code",
   "execution_count": null,
   "metadata": {},
   "outputs": [],
   "source": [
    "duplicates_second_component"
   ]
  },
  {
   "cell_type": "code",
   "execution_count": null,
   "metadata": {},
   "outputs": [],
   "source": [
    "duplicates_third_component"
   ]
  },
  {
   "cell_type": "code",
   "execution_count": null,
   "metadata": {},
   "outputs": [],
   "source": [
    "# repl = susdat_nona[susdat_nona['ROMol'].isna()==True].SMILES.str.replace('BH', 'B-')\n",
    "\n",
    "# susdat_nona.loc[susdat_nona['ROMol'].isna()==True, 'SMILES'] = repl"
   ]
  },
  {
   "cell_type": "code",
   "execution_count": null,
   "metadata": {},
   "outputs": [],
   "source": [
    "PandasTools.AddMoleculeColumnToFrame(susdat_salts, 'SMILES', 'ROMol')\n",
    "\n",
    "uncharger = rdMolStandardize.Uncharger()  # neutralize the molecule (if possible)\n",
    "susdat_salts['ROMol'] = susdat_salts.ROMol.apply(lambda x: uncharger.uncharge(x))\n",
    "\n",
    "def neutralize_atoms(mol):\n",
    "    try:\n",
    "        pattern = Chem.MolFromSmarts(\"[+1!h0!$([*]~[-1,-2,-3,-4]),-1!$([*]~[+1,+2,+3,+4])]\")\n",
    "        at_matches = mol.GetSubstructMatches(pattern)\n",
    "        at_matches_list = [y[0] for y in at_matches]\n",
    "        if len(at_matches_list) > 0:\n",
    "            for at_idx in at_matches_list:\n",
    "                atom = mol.GetAtomWithIdx(at_idx)\n",
    "                chg = atom.GetFormalCharge()\n",
    "                hcount = atom.GetTotalNumHs()\n",
    "                atom.SetFormalCharge(0)\n",
    "                atom.SetNumExplicitHs(hcount - chg)\n",
    "                atom.UpdatePropertyCache()\n",
    "        return mol\n",
    "    except:\n",
    "        return mol\n",
    "\n",
    "#susdat_nona['ROMol'] = susdat_nona.ROMol.apply(lambda x: neutralize_atoms(x))\n",
    "susdat_salts.ROMol.apply(lambda x: Chem.RemoveStereochemistry(x)) \n",
    "susdat_salts['SMILES'] = susdat_salts.ROMol.apply(lambda x: Chem.MolToSmiles(x))"
   ]
  },
  {
   "cell_type": "code",
   "execution_count": null,
   "metadata": {},
   "outputs": [],
   "source": [
    "susdat_salts[susdat_salts.SMILES=='']"
   ]
  },
  {
   "cell_type": "code",
   "execution_count": null,
   "metadata": {},
   "outputs": [],
   "source": [
    "# #Split SMILES with multiple salts of interest and keep both salts in duplicated rows\n",
    "# def keep_salts(df, list_of_compound_name):\n",
    "    \n",
    "#     df['split_SMILES'] = False #Create a column to check if the SMILES has been split\n",
    "#     new_df = df #Create a new dataframe to store the updated dataframe\n",
    "\n",
    "#     for compound_name in list_of_compound_name:\n",
    "#         compound = df[df['name'] == compound_name].reset_index(drop=True) #Get the compound with the name\n",
    "#         compound['split_SMILES'] = True #Update the split_SMILES column to True\n",
    "    \n",
    "#         split_smiles = compound['SMILES'][0].split('.')   #Split the salts in the SMILES column\n",
    "\n",
    "#         compound = pd.DataFrame(np.repeat(compound.values, len(split_smiles), axis=0), columns=compound.columns) #Repeat the compound row for each salt\n",
    "#         compound['SMILES'] = split_smiles #Update the SMILES column with the split SMILES\n",
    "\n",
    "#         new_df = new_df[new_df['name'] != compound_name] #Create a new dataframe without the compound name\n",
    "#         new_df = pd.concat([new_df, compound], ignore_index = True).reset_index(drop=True) #Concatenate the new dataframe with the compound dataframe\n",
    "\n",
    "#     return new_df\n",
    "\n",
    "# salts_to_keep = susdat_nona[susdat_nona.name.str.contains('(1:1)|(2:1)|(1:2)|(1/1)|(1:4)|copolymer')]['name']\n",
    "# susdat_no_salt = keep_salts(susdat_nona, salts_to_keep)"
   ]
  },
  {
   "cell_type": "code",
   "execution_count": null,
   "metadata": {},
   "outputs": [],
   "source": [
    "# PandasTools.AddMoleculeColumnToFrame(susdat_no_salt, 'SMILES', 'ROMol')\n",
    "\n",
    "# uncharger = rdMolStandardize.Uncharger()  # neutralize the molecule (if possible)\n",
    "# susdat_no_salt['ROMol'] = susdat_no_salt.ROMol.apply(lambda x: uncharger.uncharge(x))\n",
    "\n",
    "# def neutralize_atoms(mol):\n",
    "#     try:\n",
    "#         pattern = Chem.MolFromSmarts(\"[+1!h0!$([*]~[-1,-2,-3,-4]),-1!$([*]~[+1,+2,+3,+4])]\")\n",
    "#         at_matches = mol.GetSubstructMatches(pattern)\n",
    "#         at_matches_list = [y[0] for y in at_matches]\n",
    "#         if len(at_matches_list) > 0:\n",
    "#             for at_idx in at_matches_list:\n",
    "#                 atom = mol.GetAtomWithIdx(at_idx)\n",
    "#                 chg = atom.GetFormalCharge()\n",
    "#                 hcount = atom.GetTotalNumHs()\n",
    "#                 atom.SetFormalCharge(0)\n",
    "#                 atom.SetNumExplicitHs(hcount - chg)\n",
    "#                 atom.UpdatePropertyCache()\n",
    "#         return mol\n",
    "#     except:\n",
    "#         return mol\n",
    "\n",
    "# susdat_no_salt['ROMol'] = susdat_no_salt.ROMol.apply(lambda x: neutralize_atoms(x))\n",
    "# susdat_no_salt.ROMol.apply(lambda x: Chem.RemoveStereochemistry(x)) \n",
    "# susdat_no_salt['SMILES'] = susdat_no_salt.ROMol.apply(lambda x: Chem.MolToSmiles(x))"
   ]
  },
  {
   "cell_type": "code",
   "execution_count": null,
   "metadata": {},
   "outputs": [],
   "source": [
    "salts = susdat_no_salt[susdat_no_salt['SMILES'].str.contains(r'\\.')]\n",
    "salts"
   ]
  },
  {
   "cell_type": "code",
   "execution_count": null,
   "metadata": {},
   "outputs": [],
   "source": [
    "salts_components"
   ]
  },
  {
   "cell_type": "code",
   "execution_count": null,
   "metadata": {},
   "outputs": [],
   "source": [
    "uncharger = rdMolStandardize.Uncharger()  # neutralize the molecule (if possible)\n",
    "susdat_no_salt['ROMol'] = susdat_no_salt.ROMol.apply(lambda x: uncharger.uncharge(x))\n",
    "\n",
    "def neutralize_atoms(mol):\n",
    "    try:\n",
    "        pattern = Chem.MolFromSmarts(\"[+1!h0!$([*]~[-1,-2,-3,-4]),-1!$([*]~[+1,+2,+3,+4])]\")\n",
    "        at_matches = mol.GetSubstructMatches(pattern)\n",
    "        at_matches_list = [y[0] for y in at_matches]\n",
    "        if len(at_matches_list) > 0:\n",
    "            for at_idx in at_matches_list:\n",
    "                atom = mol.GetAtomWithIdx(at_idx)\n",
    "                chg = atom.GetFormalCharge()\n",
    "                hcount = atom.GetTotalNumHs()\n",
    "                atom.SetFormalCharge(0)\n",
    "                atom.SetNumExplicitHs(hcount - chg)\n",
    "                atom.UpdatePropertyCache()\n",
    "        return mol\n",
    "    except:\n",
    "        return mol\n",
    "\n",
    "susdat_no_salt['ROMol'] = susdat_no_salt.ROMol.apply(lambda x: neutralize_atoms(x))\n",
    "susdat_no_salt.ROMol.apply(lambda x: Chem.RemoveStereochemistry(x)) \n",
    "susdat_no_salt['SMILES'] = susdat_no_salt.ROMol.apply(lambda x: Chem.MolToSmiles(x))\n",
    "susdat_no_salt['InChIKey'] = susdat_no_salt.ROMol.apply(lambda x: inchi.MolToInchiKey(x))\n",
    "susdat_no_salt['InChIKey14'] = susdat_no_salt.InChIKey.apply(lambda x: x.split('-')[0])"
   ]
  },
  {
   "cell_type": "code",
   "execution_count": null,
   "metadata": {},
   "outputs": [],
   "source": [
    "susdat_no_salt = susdat_no_salt[susdat_no_salt['SMILES']!=''].reset_index(drop=True)\n",
    "susdat_no_salt['duplicate_InChIKey'] = susdat_no_salt.duplicated(subset=['InChIKey'], keep=False)"
   ]
  },
  {
   "cell_type": "code",
   "execution_count": null,
   "metadata": {},
   "outputs": [],
   "source": [
    "susdat_no_salt[susdat_no_salt['SMILES'].str.contains(r'\\.')]"
   ]
  },
  {
   "cell_type": "code",
   "execution_count": null,
   "metadata": {},
   "outputs": [],
   "source": [
    "with open('2025-02-12_susdat_std.pkl', 'wb') as f:\n",
    "    pickle.dump(susdat_no_salt, f)"
   ]
  },
  {
   "cell_type": "markdown",
   "metadata": {},
   "source": [
    "### Cleaning new KLARA ACES SMILES (resolved using CIRpy)"
   ]
  },
  {
   "cell_type": "code",
   "execution_count": null,
   "metadata": {},
   "outputs": [],
   "source": [
    "with open('klara_kemikum_smiles.pkl', 'rb') as f:\n",
    "    aces = pickle.load(f)"
   ]
  },
  {
   "cell_type": "code",
   "execution_count": null,
   "metadata": {},
   "outputs": [],
   "source": [
    "aces.head()"
   ]
  },
  {
   "cell_type": "code",
   "execution_count": null,
   "metadata": {},
   "outputs": [],
   "source": [
    "aces_nona = aces.dropna(subset = ['SMILES']).reset_index(drop=True)"
   ]
  },
  {
   "cell_type": "code",
   "execution_count": null,
   "metadata": {},
   "outputs": [],
   "source": [
    "#Split SMILES with multiple salts of interest and keep both salts in duplicated rows\n",
    "def keep_salts(df, list_of_compound_name:list):\n",
    "    \n",
    "    df['split_SMILES'] = False #Create a column to check if the SMILES has been split\n",
    "    new_df = df #Create a new dataframe to store the updated dataframe\n",
    "\n",
    "    for compound_name in list_of_compound_name:\n",
    "        compound = df[df['name'] == compound_name].reset_index(drop=True) #Get the compound with the name\n",
    "        compound['split_SMILES'] = True #Update the split_SMILES column to True\n",
    "    \n",
    "        split_smiles = compound['SMILES'].str.split('.')   #Split the salts in the SMILES column\n",
    "\n",
    "        compound = pd.DataFrame(np.repeat(compound.values, len(split_smiles), axis=0), columns=compound.columns) #Repeat the compound row for each salt\n",
    "        compound['SMILES'] = split_smiles #Update the SMILES column with the split SMILES\n",
    "\n",
    "        new_df = new_df[new_df['name'] != compound_name] #Create a new dataframe without the compound name\n",
    "        new_df = pd.concat([new_df, compound], ignore_index = True).reset_index(drop=True) #Concatenate the new dataframe with the compound dataframe\n",
    "\n",
    "    return new_df\n",
    "\n",
    "#names where to keep both salts\n",
    "list_of_salts_to_keep= ['Ivermectin', 'Fungamin', 'Bufencarb', '2,4-D and 2,4,5-T octylesters' ,'2,4-D n-Butyl ester mixed with 2,4,5-T n-', 'CMIT/MIT', 'sn-Glycerol 3-fosfat bis(cyklohexylammonium)']\n",
    "aces_no_salt = keep_salts(aces_nona, list_of_salts_to_keep)"
   ]
  },
  {
   "cell_type": "code",
   "execution_count": null,
   "metadata": {},
   "outputs": [],
   "source": [
    "PandasTools.AddMoleculeColumnToFrame(aces_no_salt, 'SMILES', 'ROMol')\n",
    "aces_no_salt = aces_no_salt.dropna(subset = ['ROMol']) #lost 18 compounds in conversion from SMILES to ROMol"
   ]
  },
  {
   "cell_type": "code",
   "execution_count": null,
   "metadata": {},
   "outputs": [],
   "source": [
    "def contains_carbon(mol):\n",
    "    try:\n",
    "        atomic_no = [atom.GetAtomicNum() for atom in mol.GetAtoms()]\n",
    "        return bool(6 in atomic_no)\n",
    "    except:\n",
    "        return np.nan\n",
    "\n",
    "aces_no_salt['contains_carbon'] = aces_no_salt.ROMol.apply(lambda x: contains_carbon(x))\n",
    "aces_no_salt = aces_no_salt[aces_no_salt.contains_carbon == True].reset_index(drop=True)"
   ]
  },
  {
   "cell_type": "code",
   "execution_count": null,
   "metadata": {},
   "outputs": [],
   "source": [
    "#Remove salts from SMILES\n",
    "\n",
    "def remove_ions(mol, ions):\n",
    "    remover = SaltRemover.SaltRemover(defnData=ions)\n",
    "    return remover.StripMol(mol)\n",
    "\n",
    "parts2remove = ['[F,Cl,Br,I]', '[Na,Mg,K,Ca,Li,Ba]', 'CC(=O)O', '[O,N]', 'CS(=O)(=O)O', 'O=S(=O)(O)O', 'O=[N+]([O-])O', 'O=S(=O)(O)CCO',\n",
    "                'F[P-](F)(F)(F)(F)F' 'O=S(=O)([O-])C(F)(F)F', 'F[B-](F)(F)F', \n",
    "                '[H+]',\n",
    "                '[H-]',\n",
    "                '[Co,Pd,Ni,Al,Sn,Zn,Cu,Hg,Ag,Mn,Fe,B,Cs,Mo,Ti,Rh,Ir,Pt,Ru,Au,Hf,Ta,Zr,Rb,Sb,Bi,Pb,Nb,V,Sr,In,Eu,Yb]',\n",
    "                'OO',\n",
    "                'O=C([O-])C(=O)O',\n",
    "                'O=C(O)[C@H](O)[C@@H](O)C(=O)O',\n",
    "                'O=C(O)/C=C\\C(=O)O',\n",
    "                'O=P(O)(O)O',\n",
    "                '[C-]#[O+]',\n",
    "                'O=C(O)O',\n",
    "                'O=C(O)C(=O)O',\n",
    "                'C',\n",
    "                'NCC(O)CC[C@H](N)C(=O)O',\n",
    "                'Cc1ccc(S(=O)(=O)[O-])cc1',\n",
    "                'CN(C)C',\n",
    "                'Cc1ccc(S(=O)(=O)O)cc1',\n",
    "                'c1ccccc1',\n",
    "                'CCCC[N+](CCCC)(CCCC)CCCC',\n",
    "                'Cc1ccc(S(=O)(=O)O)cc1',\n",
    "                'C[O-]',\n",
    "                'O=S(=O)=O',\n",
    "                'F[P-](F)(F)(F)(F)F',\n",
    "                'O=[V]',\n",
    "                'CC(C)[O-]',\n",
    "                'FB(F)F',\n",
    "                'O=C(O)CC(O)(CC(=O)O)C(=O)O',\n",
    "                'CCNCC',\n",
    "                'CNC',\n",
    "                'COS(=O)(=O)[O-]'] # additional ions to remove\n",
    "\n",
    "\n",
    "\n",
    "for part in parts2remove:\n",
    "    aces_no_salt['ROMol'] = aces_no_salt.ROMol.apply(lambda x: remove_ions(x, part))\n",
    "\n",
    "aces_no_salt['SMILES'] = aces_no_salt.ROMol.apply(lambda x: Chem.MolToSmiles(x)) #Update SMILES column with new SMILES\n",
    "\n",
    "#Remove rows with compounds that are not analysable\n",
    "aces_no_salt = aces_no_salt[(aces_no_salt['name']!= 'Dowex 50 W X 8, 200-400 mesh, H(+)-form.')]\n"
   ]
  },
  {
   "cell_type": "code",
   "execution_count": null,
   "metadata": {},
   "outputs": [],
   "source": [
    "def filter_smiles(smiles):\n",
    "    split_smiles = str(smiles).split('.')\n",
    "\n",
    "\n",
    "    def all_equal(smiles_list):             # Check if all SMILES in split list are equal\n",
    "        smiles_list = iter(smiles_list)\n",
    "        try:\n",
    "            first = next(smiles_list)\n",
    "        except StopIteration:               #If list empty, return True\n",
    "            return True\n",
    "        return all(first == rest for rest in smiles_list)\n",
    "\n",
    "\n",
    "    if all_equal(split_smiles) == True:     # If all SMILES are equal, return the first SMILES element\n",
    "        return split_smiles[0]\n",
    "    else:                                   # If not, return original SMILES\n",
    "        return smiles\n",
    "    \n",
    "aces_no_salt['SMILES'] = aces_no_salt['SMILES'].apply(lambda x: filter_smiles(x)) #Filter out salts with same compounents from SMILES column\n",
    "PandasTools.AddMoleculeColumnToFrame(aces_no_salt, 'SMILES', 'ROMol')"
   ]
  },
  {
   "cell_type": "code",
   "execution_count": null,
   "metadata": {},
   "outputs": [],
   "source": [
    "salts = aces_no_salt[aces_no_salt['SMILES'].str.contains(r'\\.')]\n",
    "salts"
   ]
  },
  {
   "cell_type": "code",
   "execution_count": null,
   "metadata": {},
   "outputs": [],
   "source": [
    "uncharger = rdMolStandardize.Uncharger()  # neutralize the molecule (if possible)\n",
    "aces_no_salt['ROMol'] = aces_no_salt.ROMol.apply(lambda x: uncharger.uncharge(x))\n",
    "\n",
    "def neutralize_atoms(mol):\n",
    "    try:\n",
    "        pattern = Chem.MolFromSmarts(\"[+1!h0!$([*]~[-1,-2,-3,-4]),-1!$([*]~[+1,+2,+3,+4])]\")\n",
    "        at_matches = mol.GetSubstructMatches(pattern)\n",
    "        at_matches_list = [y[0] for y in at_matches]\n",
    "        if len(at_matches_list) > 0:\n",
    "            for at_idx in at_matches_list:\n",
    "                atom = mol.GetAtomWithIdx(at_idx)\n",
    "                chg = atom.GetFormalCharge()\n",
    "                hcount = atom.GetTotalNumHs()\n",
    "                atom.SetFormalCharge(0)\n",
    "                atom.SetNumExplicitHs(hcount - chg)\n",
    "                atom.UpdatePropertyCache()\n",
    "        return mol\n",
    "    except:\n",
    "        return mol\n",
    "\n",
    "aces_no_salt['ROMol'] = aces_no_salt.ROMol.apply(lambda x: neutralize_atoms(x))\n",
    "aces_no_salt.ROMol.apply(lambda x: Chem.RemoveStereochemistry(x)) \n",
    "aces_no_salt['SMILES'] = aces_no_salt.ROMol.apply(lambda x: Chem.MolToSmiles(x))\n",
    "aces_no_salt['InChIKey'] = aces_no_salt.ROMol.apply(lambda x: inchi.MolToInchiKey(x))\n",
    "aces_no_salt['InChIKey14'] = aces_no_salt.InChIKey.apply(lambda x: x.split('-')[0])"
   ]
  },
  {
   "cell_type": "code",
   "execution_count": null,
   "metadata": {},
   "outputs": [],
   "source": [
    "aces_no_salt = aces_no_salt[aces_no_salt['SMILES']!=''].reset_index(drop=True)\n",
    "aces_no_salt['duplicate_InChIKey'] = aces_no_salt.duplicated(subset=['InChIKey'], keep=False)"
   ]
  },
  {
   "cell_type": "code",
   "execution_count": null,
   "metadata": {},
   "outputs": [],
   "source": [
    "with open('2025-02-11_klara_aces_std.pkl', 'wb') as f:\n",
    "    pickle.dump(aces_no_salt, f)"
   ]
  },
  {
   "cell_type": "markdown",
   "metadata": {},
   "source": [
    "### Cleaning KLARA Kemikum smiles (resolved using CIRpy)"
   ]
  },
  {
   "cell_type": "code",
   "execution_count": null,
   "metadata": {},
   "outputs": [],
   "source": [
    "with open('2025-03-05_kemikum_resolved_cas.pkl', 'rb') as f:\n",
    "    kemikum = pickle.load(f)\n",
    "\n",
    "kemikum.head()"
   ]
  },
  {
   "cell_type": "code",
   "execution_count": null,
   "metadata": {},
   "outputs": [],
   "source": [
    "kemikum_nona = kemikum.dropna(subset='SMILES').reset_index(drop=True)"
   ]
  },
  {
   "cell_type": "code",
   "execution_count": null,
   "metadata": {},
   "outputs": [],
   "source": [
    "PandasTools.AddMoleculeColumnToFrame(kemikum_nona, 'SMILES', 'ROMol')\n",
    "kemikum_nona_nona_ROMol = kemikum_nona.dropna(subset = ['ROMol'])"
   ]
  },
  {
   "cell_type": "code",
   "execution_count": null,
   "metadata": {},
   "outputs": [],
   "source": [
    "kemikum_nona_nona_ROMol.ROMol.apply(lambda x: Chem.RemoveStereochemistry(x)) \n",
    "kemikum_nona_nona_ROMol['SMILES'] = kemikum_nona_nona_ROMol.ROMol.apply(lambda x: Chem.MolToSmiles(x))"
   ]
  },
  {
   "cell_type": "code",
   "execution_count": null,
   "metadata": {},
   "outputs": [],
   "source": [
    "#Remove any compounds which do not contain carbon\n",
    "\n",
    "def contains_carbon(mol):\n",
    "    try:\n",
    "        atomic_no = [atom.GetAtomicNum() for atom in mol.GetAtoms()]\n",
    "        return bool(6 in atomic_no)\n",
    "    except:\n",
    "        return np.nan\n",
    "\n",
    "kemikum_nona_nona_ROMol['contains_carbon'] = kemikum_nona_nona_ROMol.ROMol.apply(lambda x: contains_carbon(x))\n",
    "kemikum_nona_nona_ROMol = kemikum_nona_nona_ROMol[kemikum_nona_nona_ROMol.contains_carbon == True].reset_index(drop=True)"
   ]
  },
  {
   "cell_type": "code",
   "execution_count": null,
   "metadata": {},
   "outputs": [],
   "source": [
    "#Remove salts from SMILES\n",
    "\n",
    "def remove_ions(mol, ions):\n",
    "    remover = SaltRemover.SaltRemover(defnData=ions)\n",
    "    return remover.StripMol(mol)\n",
    "\n",
    "parts2remove = ['[F,Cl,Br,I]', '[Na,Mg,K,Ca,Li,Ba]', 'CC(=O)O', '[O,N]', 'CS(=O)(=O)O', 'O=S(=O)(O)O', 'O=[N+]([O-])O', 'O=S(=O)(O)CCO',\n",
    "                'F[P-](F)(F)(F)(F)F' 'O=S(=O)([O-])C(F)(F)F', 'F[B-](F)(F)F', \n",
    "                '[H+]',\n",
    "                '[H-]',\n",
    "                '[Co,Pd,Ni,Al,Sn,Zn,Cu,Hg,Ag,Mn,Fe,B,Cs,Mo,Ti,Rh,Ir,Pt,Ru,Au,Hf,Ta,Zr,Rb,Sb,Bi,Pb,Nb,V,Sr,In,Eu,Yb,La]',\n",
    "                'OO',\n",
    "                'O=C([O-])C(=O)O',\n",
    "                'O=C(O)[C@H](O)[C@@H](O)C(=O)O',\n",
    "                'O=C(O)/C=C\\C(=O)O',\n",
    "                'O=P(O)(O)O',\n",
    "                '[C-]#[O+]',\n",
    "                'O=C(O)O',\n",
    "                'O=C(O)C(=O)O',\n",
    "                'C',\n",
    "                'NCC(O)CC[C@H](N)C(=O)O',\n",
    "                'Cc1ccc(S(=O)(=O)[O-])cc1',\n",
    "                'CN(C)C',\n",
    "                'Cc1ccc(S(=O)(=O)O)cc1',\n",
    "                'c1ccccc1',\n",
    "                'CCCC[N+](CCCC)(CCCC)CCCC',\n",
    "                'Cc1ccc(S(=O)(=O)O)cc1',\n",
    "                'C[O-]',\n",
    "                'O=S(=O)=O',\n",
    "                'F[P-](F)(F)(F)(F)F',\n",
    "                'O=[V]',\n",
    "                'CC(C)[O-]',\n",
    "                'FB(F)F',\n",
    "                'C=Cc1ccccc1C=C',\n",
    "                'O=C([O-])c1ccccc1',\n",
    "                'NCCN',\n",
    "                'C=C',\n",
    "                'N=C(N)N',\n",
    "                'O=C(O)CCC(=O)O'] # additional ions to remove\n",
    "\n",
    "\n",
    "for part in parts2remove:\n",
    "    kemikum_nona_nona_ROMol['ROMol'] = kemikum_nona_nona_ROMol.ROMol.apply(lambda x: remove_ions(x, part))\n",
    "\n",
    "kemikum_nona_nona_ROMol['SMILES'] = kemikum_nona_nona_ROMol.ROMol.apply(lambda x: Chem.MolToSmiles(x)) #Update SMILES column with new SMILES"
   ]
  },
  {
   "cell_type": "code",
   "execution_count": null,
   "metadata": {},
   "outputs": [],
   "source": [
    "compounds_to_remove = ['Boron trifluoride methanol complex solution (13-', \n",
    "                       'Nafion perfluorinated membrane', \n",
    "                       'Bis(cyclopentadienyl)cobalt(III) hexafluorophosphate', \n",
    "                       'Poly(vinylalkohol-co-etylen)', \n",
    "                       \"Merrifield's peptide resin (Sigma-Aldrich\", \n",
    "                       'Poly(etylen-co-akrylsyra) 15 wt. % akrylsyra', \n",
    "                       'Poly(4-vinylpyridine), cross-linked, Reillex 425 ion-', \n",
    "                       'Amberlite IRA743 free base', \n",
    "                       'Poly(ethylene glycol)-block-poly(propylene glycol)-', \n",
    "                       'Araldite 506 epoxy resin (Sigma-Aldrich', \n",
    "                       'Dowex Monosphere 77 free base', \n",
    "                       'Poly(ethylene-alt-maleic anhydride) (Sigma-', \n",
    "                       'Amberlite IR120 Na+ form', \n",
    "                       \"Merrifield's peptide resin (Sigma-Aldrich \", \n",
    "                       'Dowex 1X4 chloride form', \n",
    "                       'Poly(maleic anhydride-alt-1-octadecene)', \n",
    "                       'Araldite 506 epoxy resin (Sigma-Aldrich ',\n",
    "                       'Araldite 506 epoxy resin (Sigma-Aldrich <br>A3183)'\n",
    "                       ]\n",
    "\n",
    "kemikum_nona_nona_ROMol = kemikum_nona_nona_ROMol[~kemikum_nona_nona_ROMol['name'].isin(compounds_to_remove)].reset_index(drop=True)"
   ]
  },
  {
   "cell_type": "code",
   "execution_count": null,
   "metadata": {},
   "outputs": [],
   "source": [
    "def filter_salts(df, list_of_compounds_to_split):\n",
    "\n",
    "    def remove_duplicate_smiles_in_salt(smiles):\n",
    "        \n",
    "        '''\n",
    "        Determine if salts consists of multiple equal components and then remove any duplicate smiles \n",
    "        '''\n",
    "        \n",
    "        split_smiles = str(smiles).split('.')\n",
    "\n",
    "        def all_equal(smiles_list):             # Check if all SMILES in split list are equal\n",
    "            '''\n",
    "            Determine if all SMILES in split list are equal\n",
    "            '''\n",
    "            smiles_list = iter(smiles_list)\n",
    "            try:\n",
    "                first = next(smiles_list)\n",
    "            except StopIteration:               #If list empty, return True\n",
    "                return True\n",
    "            return all(first == rest for rest in smiles_list)\n",
    "        \n",
    "        if all_equal(split_smiles) == True:     # If all SMILES are equal, return the first SMILES element\n",
    "            return split_smiles[0]\n",
    "        else:                                   # If not, return original SMILES\n",
    "            return smiles\n",
    "\n",
    "    def split_salts(df, list_of_compound_name:list): \n",
    "\n",
    "        '''\n",
    "        Divide salts from specified list into its components and keep both salts in duplicated rows\n",
    "        '''\n",
    "        \n",
    "        df['split_SMILES'] = False #Create a column to check if the SMILES has been split\n",
    "        new_df = df #Create a new dataframe to store the updated dataframe\n",
    "\n",
    "        for compound_name in list_of_compound_name:\n",
    "            if compound_name in df['name'].values:\n",
    "                compound = df[df['name'] == compound_name].reset_index(drop=True) #Get the compound with the name\n",
    "                compound['split_SMILES'] = True #Update the split_SMILES column to True\n",
    "            \n",
    "                split_smiles = compound['SMILES'][0].split('.')   #Split the salts in the SMILES column\n",
    "\n",
    "                compound = pd.DataFrame(np.repeat(compound.values, len(split_smiles), axis=0), columns=compound.columns) #Repeat the compound row for each salt\n",
    "                compound['SMILES'] = split_smiles #Update the SMILES column with the split SMILES\n",
    "\n",
    "                new_df = new_df[new_df['name'] != compound_name] #Create a new dataframe without the compound name\n",
    "                new_df = pd.concat([new_df, compound], ignore_index = True).reset_index(drop=True) #Concatenate the new dataframe with the compound dataframe\n",
    "            else:\n",
    "                pass\n",
    "\n",
    "        return new_df\n",
    "    \n",
    "    df['SMILES'] = df['SMILES'].apply(lambda x: remove_duplicate_smiles_in_salt(x)) #Filter out salts with same compounents from SMILES column\n",
    "    df_no_salt = split_salts(df, list_of_compounds_to_split) #Split salts into components and keep both salts in duplicated rows\n",
    "\n",
    "    return df_no_salt\n",
    "\n",
    "#names where to keep both salts\n",
    "list_of_salts_to_keep= ['Abamectin', \n",
    "                        'Ivermectin',\n",
    "                        'Emamectin-bensoat', \n",
    "                        'Amberlyst 15 hydrogen form', \n",
    "                        'Dowex M-31 hydrogen form', \n",
    "                        'Gentamicin sulfate salt',\n",
    "                        'Polyethylenimine, branched', \n",
    "                        'Guanidintiocyanat', \n",
    "                        'Hexadimetrinbromid ',\n",
    "                        'Amberlite IRA-67 free base', \n",
    "                        'Serotonin creatinine sulfate monohydrate', \n",
    "                        'Kinhydron',\n",
    "                        'N-metylanilintrifluoracetat',\n",
    "                        'N-Methylaniline trifluoroacetate',\n",
    "                        'Poly(ethylene glycol)-block-poly(propylene glycol)-<br>block-poly(ethylene glycol)',\n",
    "                        'Quinhydrone',\n",
    "                        'Hexadimethrine bromide'\n",
    "                        ]\n",
    "\n",
    "kemikum_no_salt = filter_salts(kemikum_nona_nona_ROMol, list_of_salts_to_keep)\n",
    "PandasTools.AddMoleculeColumnToFrame(kemikum_no_salt, 'SMILES', 'ROMol')"
   ]
  },
  {
   "cell_type": "code",
   "execution_count": null,
   "metadata": {},
   "outputs": [],
   "source": [
    "uncharger = rdMolStandardize.Uncharger()  # neutralize the molecule (if possible)\n",
    "kemikum_no_salt['ROMol'] = kemikum_no_salt.ROMol.apply(lambda x: uncharger.uncharge(x))\n",
    "\n",
    "def neutralize_atoms(mol):\n",
    "    try:\n",
    "        pattern = Chem.MolFromSmarts(\"[+1!h0!$([*]~[-1,-2,-3,-4]),-1!$([*]~[+1,+2,+3,+4])]\")\n",
    "        at_matches = mol.GetSubstructMatches(pattern)\n",
    "        at_matches_list = [y[0] for y in at_matches]\n",
    "        if len(at_matches_list) > 0:\n",
    "            for at_idx in at_matches_list:\n",
    "                atom = mol.GetAtomWithIdx(at_idx)\n",
    "                chg = atom.GetFormalCharge()\n",
    "                hcount = atom.GetTotalNumHs()\n",
    "                atom.SetFormalCharge(0)\n",
    "                atom.SetNumExplicitHs(hcount - chg)\n",
    "                atom.UpdatePropertyCache()\n",
    "        return mol\n",
    "    except:\n",
    "        return mol\n",
    "\n",
    "kemikum_no_salt['ROMol'] = kemikum_no_salt.ROMol.apply(lambda x: neutralize_atoms(x))\n",
    "kemikum_no_salt.ROMol.apply(lambda x: Chem.RemoveStereochemistry(x)) \n",
    "kemikum_no_salt['SMILES'] = kemikum_no_salt.ROMol.apply(lambda x: Chem.MolToSmiles(x))\n",
    "kemikum_no_salt['InChIKey'] = kemikum_no_salt.ROMol.apply(lambda x: inchi.MolToInchiKey(x))\n",
    "kemikum_no_salt['InChIKey14'] = kemikum_no_salt.InChIKey.apply(lambda x: x.split('-')[0])"
   ]
  },
  {
   "cell_type": "code",
   "execution_count": null,
   "metadata": {},
   "outputs": [],
   "source": [
    "kemikum_no_salt[kemikum_no_salt['SMILES'].str.contains(r'\\.')] #Should not have any entries"
   ]
  },
  {
   "cell_type": "code",
   "execution_count": null,
   "metadata": {},
   "outputs": [],
   "source": [
    "kemikum_no_salt = kemikum_no_salt[kemikum_no_salt['SMILES']!=''].reset_index(drop=True)\n",
    "kemikum_no_salt['duplicate_InChIKey'] = kemikum_no_salt.duplicated(subset=['InChIKey'], keep=False)"
   ]
  },
  {
   "cell_type": "code",
   "execution_count": null,
   "metadata": {},
   "outputs": [],
   "source": [
    "with open('2025-03-06_KLARA_Kemikum_UPDATED_std.pkl', 'wb') as f:\n",
    "    pickle.dump(kemikum_no_salt, f)"
   ]
  },
  {
   "cell_type": "markdown",
   "metadata": {},
   "source": [
    "### Update Isabels list to include two new compounds from KLARA Kemikum"
   ]
  },
  {
   "cell_type": "code",
   "execution_count": null,
   "metadata": {},
   "outputs": [],
   "source": [
    "with open('2025-02-12_KLARA_Kemikum_std.pkl', 'rb') as f:\n",
    "    kemikum_no_salt = pickle.load(f)"
   ]
  },
  {
   "cell_type": "code",
   "execution_count": null,
   "metadata": {},
   "outputs": [],
   "source": [
    "isabelle_std"
   ]
  },
  {
   "cell_type": "code",
   "execution_count": null,
   "metadata": {},
   "outputs": [],
   "source": [
    "rows_to_append_to_isabel_data = kemikum_no_salt[kemikum_no_salt.name == '2,4-Dinitroaniline']\n",
    "rows_to_append_to_isabel_data = rows_to_append_to_isabel_data.rename(columns={'name':'Compound',\n",
    "                                                                              'cas':'CAS'})\n",
    "print(rows_to_append_to_isabel_data)"
   ]
  },
  {
   "cell_type": "code",
   "execution_count": null,
   "metadata": {},
   "outputs": [],
   "source": [
    "isabelle_std_updated = pd.concat([isabelle_std, rows_to_append_to_isabel_data], ignore_index = True)\n",
    "isabelle_std_updated"
   ]
  },
  {
   "cell_type": "code",
   "execution_count": null,
   "metadata": {},
   "outputs": [],
   "source": [
    "isabelle_std_updated.to_csv('/Users/elli/Library/CloudStorage/OneDrive-Kruvelab/Ellinor - Master thesis/Data/Cleaned data/Isabelles_chemicals_STD_updated.csv', index = False, sep = '\\t')"
   ]
  },
  {
   "cell_type": "markdown",
   "metadata": {},
   "source": []
  }
 ],
 "metadata": {
  "kernelspec": {
   "display_name": "Python 3",
   "language": "python",
   "name": "python3"
  },
  "language_info": {
   "codemirror_mode": {
    "name": "ipython",
    "version": 3
   },
   "file_extension": ".py",
   "mimetype": "text/x-python",
   "name": "python",
   "nbconvert_exporter": "python",
   "pygments_lexer": "ipython3",
   "version": "3.9.6"
  }
 },
 "nbformat": 4,
 "nbformat_minor": 2
}
