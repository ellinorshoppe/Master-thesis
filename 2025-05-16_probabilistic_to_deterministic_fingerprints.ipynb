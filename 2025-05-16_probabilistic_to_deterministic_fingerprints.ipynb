{
 "cells": [
  {
   "cell_type": "markdown",
   "id": "714ce094",
   "metadata": {},
   "source": [
    "# Comparison of probabilistic and deterministic fingerprints"
   ]
  },
  {
   "cell_type": "code",
   "execution_count": null,
   "id": "75f332cf",
   "metadata": {},
   "outputs": [],
   "source": [
    "import pandas as pd\n",
    "import numpy as np\n",
    "import pickle\n",
    "\n",
    "import glob\n",
    "import os"
   ]
  },
  {
   "cell_type": "code",
   "execution_count": null,
   "id": "3e0879ce",
   "metadata": {},
   "outputs": [],
   "source": [
    "with open(f'/Users/elli/Library/CloudStorage/OneDrive-Kruvelab/Master_thesis/Data/MSMS/SIRIUS_output/output_mass_correction_2025-05-13/2025-05-16_formula_predictions_to_true_formula.pkl', 'rb') as f:\n",
    "    formula_predictions = pickle.load(f)"
   ]
  },
  {
   "cell_type": "code",
   "execution_count": null,
   "id": "5d0d63ac",
   "metadata": {},
   "outputs": [],
   "source": [
    "correct_formula = formula_predictions[formula_predictions['id']==formula_predictions['compound_name_sirius_output']]"
   ]
  },
  {
   "cell_type": "code",
   "execution_count": null,
   "id": "ce2f45a9",
   "metadata": {},
   "outputs": [],
   "source": [
    "correct_formula"
   ]
  },
  {
   "cell_type": "code",
   "execution_count": null,
   "id": "b0f344db",
   "metadata": {},
   "outputs": [],
   "source": [
    "correct_formula['adduct'] = correct_formula['adduct'].apply(\n",
    "    lambda x: x.replace(' ', '') if pd.notnull(x) is not None else x\n",
    ")"
   ]
  },
  {
   "cell_type": "code",
   "execution_count": null,
   "id": "aea5332d",
   "metadata": {},
   "outputs": [],
   "source": [
    "correct_formula"
   ]
  },
  {
   "cell_type": "markdown",
   "id": "5921a4ab",
   "metadata": {},
   "source": [
    "## Get deterministic fingerprints for all compounds"
   ]
  },
  {
   "cell_type": "markdown",
   "id": "bc5b39f4",
   "metadata": {},
   "source": [
    "### Standardize SMILES for deterministic fingerprint conversion"
   ]
  },
  {
   "cell_type": "code",
   "execution_count": null,
   "id": "f7d2395c",
   "metadata": {},
   "outputs": [],
   "source": [
    "from rdkit import Chem\n",
    "from rdkit.Chem import PandasTools, SaltRemover, MolStandardize, inchi\n",
    "from rdkit.Chem.MolStandardize import rdMolStandardize"
   ]
  },
  {
   "cell_type": "code",
   "execution_count": null,
   "id": "02a33511",
   "metadata": {},
   "outputs": [],
   "source": [
    "def standardize_mol(data):\n",
    "  # Gets mol objects from SMILES\n",
    "  PandasTools.AddMoleculeColumnToFrame(data, 'SMILES', 'ROMol') # Assuming that SMILES notations are given in column SMILES\n",
    "  #data['ROMol'] = data.InChI.apply(lambda x: Chem.MolFromInchi(x))\n",
    "  \n",
    "  def remove_ions(mol, ions):\n",
    "    remover = SaltRemover.SaltRemover(defnData=ions)\n",
    "    return remover.StripMol(mol)\n",
    "\n",
    "  parts2remove = ['[F,Cl,Br,I]', '[Na,Mg,K,Ca,Li,Ba]', 'CC(=O)O', '[O,N]', 'CS(=O)(=O)O', 'O=S(=O)(O)O', 'O=[N+]([O-])O', 'O=S(=O)(O)CCO',\n",
    "                  'F[P-](F)(F)(F)(F)F' 'O=S(=O)([O-])C(F)(F)F', 'F[B-](F)(F)F',\n",
    "                  '[Co,Pd,Ni,Al,Sn,Zn,Cu,Hg]'] # additional ions to remove\n",
    "\n",
    "  for part in parts2remove:\n",
    "    data['ROMol'] = data.ROMol.apply(lambda x: remove_ions(x, part))\n",
    "\n",
    "  uncharger = rdMolStandardize.Uncharger()  # neutralize the molecule (if possible)\n",
    "  data['ROMol'] = data.ROMol.apply(lambda x: uncharger.uncharge(x))\n",
    "\n",
    "  data.ROMol.apply(lambda x: Chem.RemoveStereochemistry(x)) \n",
    "  data['SMILES'] = data.ROMol.apply(lambda x: Chem.MolToSmiles(x))\n",
    "  data['InChIKey'] = data.ROMol.apply(lambda x: inchi.MolToInchiKey(x))\n",
    "  data['InChIKey14'] = data.InChIKey.apply(lambda x: x.split('-')[0])\n",
    "  return data\n",
    "\n",
    "correct_formula_std = standardize_mol(correct_formula)"
   ]
  },
  {
   "cell_type": "code",
   "execution_count": null,
   "id": "56d85d3c",
   "metadata": {},
   "outputs": [],
   "source": [
    "correct_formula_std[correct_formula_std.SMILES.str.contains(r'\\.')]"
   ]
  },
  {
   "cell_type": "code",
   "execution_count": null,
   "id": "238de3f4",
   "metadata": {},
   "outputs": [],
   "source": [
    "%pip install -e 'git+https://github.com/boecker-lab/standardizeUtils/#egg=standardizeUtils'"
   ]
  },
  {
   "cell_type": "code",
   "execution_count": null,
   "id": "2dbce440",
   "metadata": {},
   "outputs": [],
   "source": [
    "from standardizeUtils.standardizeUtils import standardize_structure_with_pubchem\n",
    "from standardizeUtils.standardizeUtils import standardize_structure_list_with_pubchem\n",
    "\n",
    "import time\n",
    "import requests  \n",
    "\n",
    "\n",
    "\n",
    "def standardize_in_batches(smiles_list, initial_batch_size=1000):\n",
    "    \"\"\"\n",
    "    Standardizes SMILES in batches, reducing batch size on failure.\n",
    "    Input: SMILES list\n",
    "    Output: Standardized SMILES list\n",
    "    \"\"\"\n",
    "    total_smiles = len(smiles_list)\n",
    "    processed_smiles = []\n",
    "    idx = 0\n",
    "    batch_size = initial_batch_size # Starting with 1000\n",
    "\n",
    "    while idx < total_smiles:\n",
    "        attempt_success = False\n",
    "        current_batch_size = batch_size\n",
    "\n",
    "        while current_batch_size >= 100:\n",
    "            try:\n",
    "                print(f\"Processing batch {idx}:{idx + current_batch_size} (size={current_batch_size})\")\n",
    "                batch = smiles_list[idx : idx + current_batch_size]\n",
    "                standardized_batch = standardize_structure_list_with_pubchem(batch, 'smiles')\n",
    "                processed_smiles.extend(standardized_batch)\n",
    "                idx += current_batch_size\n",
    "                attempt_success = True\n",
    "                break  \n",
    "\n",
    "            except requests.exceptions.RequestException as e:\n",
    "                print(f\"Error occurred: {e}, reducing batch size...\")\n",
    "                current_batch_size //= 2  # Reduce batch size by half on failure > can be changed\n",
    "                time.sleep(2)  \n",
    "\n",
    "        if not attempt_success:\n",
    "            print(f\"Skipping batch {idx}:{idx + current_batch_size} due to repeated failures.\")\n",
    "            idx += current_batch_size  \n",
    "\n",
    "    return processed_smiles\n",
    "\n",
    "correct_formula_std['std_SMILES'] = standardize_in_batches(correct_formula_std.SMILES.to_list())"
   ]
  },
  {
   "cell_type": "code",
   "execution_count": null,
   "id": "346784b1",
   "metadata": {},
   "outputs": [],
   "source": [
    "correct_formula_std['std_SMILES'].to_csv('2025-05-17_std_SMILES_experimental.tsv', sep='\\t', index=False)"
   ]
  },
  {
   "cell_type": "code",
   "execution_count": null,
   "id": "10ae924a",
   "metadata": {},
   "outputs": [],
   "source": [
    "# with open('2025-05-17_correct_formula_w_std_SMILES.pkl', 'wb') as f:\n",
    "#     pickle.dump(correct_formula_std, f)"
   ]
  },
  {
   "cell_type": "markdown",
   "id": "171e6522",
   "metadata": {},
   "source": [
    "### Connect to SIRIUS through command-line and get deterministic fingerprints"
   ]
  },
  {
   "cell_type": "code",
   "execution_count": null,
   "id": "8ed0b4e1",
   "metadata": {},
   "outputs": [],
   "source": [
    "import subprocess\n",
    "\n",
    "import pandas as pd\n",
    "import numpy as np\n",
    "\n",
    "import requests\n",
    "\n",
    "email = 'ellinor.samuelsson-hoppe@su.se'\n",
    "password = 'ndgvSC3SUnZ?!?_new'\n",
    "\n",
    "process = subprocess.Popen(['/Applications/sirius.app/Contents/MacOS/sirius', 'login', '-u', email, '-p'], \n",
    "                           stdout=subprocess.PIPE, \n",
    "                           stderr=subprocess.PIPE,\n",
    "                           stdin=subprocess.PIPE,\n",
    "                           text=True)\n",
    "\n",
    "process.communicate(input=password + '\\n')\n",
    "\n",
    "stdout, stderr = process.communicate()\n",
    "print('STDOUT:\\n', stdout)\n",
    "print('STDERR:\\n', stderr)\n",
    "\n",
    "smiles_file = '/Users/elli/Library/CloudStorage/OneDrive-Kruvelab/Master_thesis/Data/MSMS/SIRIUS_output/output_mass_correction_2025-05-13/2025-05-17_std_SMILES_experimental.tsv'\n",
    "output_file = '/Users/elli/Library/CloudStorage/OneDrive-Kruvelab/Master_thesis/Data/MSMS/SIRIUS_output/output_mass_correction_2025-05-13/2025-05-17_std_SMILES_SIRIUS5_FP_experimental.tsv'\n",
    "fp_version_file = '/Users/elli/Library/CloudStorage/OneDrive-Kruvelab/Master_thesis/Data/MSMS/SIRIUS_output/output_mass_correction_2025-05-13/2025-05-17_SIRIUS5_fp_version.tsv'\n",
    "charge = 1 # 1 for ESI+/ -1 for ESI-\n",
    "command = ['/Applications/sirius.app/Contents/MacOS/sirius', '-i', smiles_file, 'fingerprinter', '--charge', str(charge), '-o', output_file, '-v', fp_version_file]\n",
    "\n",
    "result = subprocess.run(command, capture_output=True, text=True)\n",
    "\n",
    "print('STDOUT:\\n', result.stdout)\n",
    "print('STDERR:\\n', result.stderr)"
   ]
  },
  {
   "cell_type": "markdown",
   "id": "58b0e7fe",
   "metadata": {},
   "source": [
    "#### Update fingerprints to get binary matrix"
   ]
  },
  {
   "cell_type": "code",
   "execution_count": null,
   "id": "7446e2f8",
   "metadata": {},
   "outputs": [],
   "source": [
    "correct_formula_fp = pd.read_csv('/Users/elli/Library/CloudStorage/OneDrive-Kruvelab/Master_thesis/Data/MSMS/SIRIUS_output/output_mass_correction_2025-05-13/2025-05-17_std_SMILES_SIRIUS5_FP_experimental.tsv', sep='\\t')\n",
    "\n",
    "correct_formula_fp.columns = ['std_SMILES', 'FP']\n",
    "\n",
    "correct_formula_fp.head()"
   ]
  },
  {
   "cell_type": "code",
   "execution_count": null,
   "id": "ca63224b",
   "metadata": {},
   "outputs": [],
   "source": [
    "# Split the strings in column 1 into lists of numbers\n",
    "correct_formula_fp_matrix = correct_formula_fp.FP.str.split(',', expand=True)\n",
    "\n",
    "# Convert the resulting DataFrame to numeric values\n",
    "correct_formula_fp_matrix = correct_formula_fp_matrix.apply(pd.to_numeric, errors='coerce')\n",
    "\n",
    "# Display the resulting matrix\n",
    "correct_formula_fp_matrix.head()"
   ]
  },
  {
   "cell_type": "code",
   "execution_count": null,
   "id": "a2b41a26",
   "metadata": {},
   "outputs": [],
   "source": [
    "# get fp descriptors\n",
    "fp_desc = pd.read_csv('/Users/elli/Library/CloudStorage/OneDrive-Kruvelab/Master_thesis/Data/MSMS/SIRIUS_output/output_mass_correction_2025-05-13/2025-05-17_SIRIUS5_fp_version.tsv', sep = '\\t')\n",
    "\n",
    "fp_desc.head()"
   ]
  },
  {
   "cell_type": "code",
   "execution_count": null,
   "id": "8c9b4203",
   "metadata": {},
   "outputs": [],
   "source": [
    "# Create a new DataFrame with the same shape as tox21_fp_matrix, filled with zeros\n",
    "correct_formula_fp_binary_matrix = pd.DataFrame(0, index=correct_formula_fp_matrix.index, columns=fp_desc.absoluteIndex)\n",
    "\n",
    "# Iterate over each row in tox21_fp_matrix\n",
    "for idx, row in correct_formula_fp_matrix.iterrows():\n",
    "    # Drop NaN values and convert to integers\n",
    "    indices = row.dropna().astype(int)\n",
    "    # Set the corresponding positions in the binary matrix to 1\n",
    "    correct_formula_fp_binary_matrix.loc[idx, indices] = 1\n",
    "\n",
    "correct_formula_fp_binary_matrix_smiles = pd.concat([correct_formula_fp.std_SMILES, correct_formula_fp_binary_matrix], axis=1)\n",
    "\n",
    "correct_formula_fp_binary_matrix_smiles.head()"
   ]
  },
  {
   "cell_type": "code",
   "execution_count": null,
   "id": "60766189",
   "metadata": {},
   "outputs": [],
   "source": [
    "# Compress the fingerprints into a single list in a column\n",
    "correct_formula_fp_binary_matrix_smiles['sirius5_fp'] = correct_formula_fp_binary_matrix_smiles.apply(lambda row: row[1:].tolist(), axis=1)\n",
    "\n",
    "# Display the resulting DataFrame\n",
    "correct_formula_fp_compressed = correct_formula_fp_binary_matrix_smiles[['std_SMILES', 'sirius5_fp']]\n",
    "\n",
    "correct_formula_fp_compressed.head()"
   ]
  },
  {
   "cell_type": "markdown",
   "id": "c75919e1",
   "metadata": {},
   "source": [
    "#### Concatenate to existing dataframe"
   ]
  },
  {
   "cell_type": "code",
   "execution_count": null,
   "id": "ba186874",
   "metadata": {},
   "outputs": [],
   "source": [
    "correct_formula_fp_compressed"
   ]
  },
  {
   "cell_type": "code",
   "execution_count": null,
   "id": "5179ff5b",
   "metadata": {},
   "outputs": [],
   "source": [
    "correct_formula_std_fp = pd.merge(correct_formula_std, correct_formula_fp_compressed, on='std_SMILES', how='left')\n",
    "\n",
    "correct_formula_std_fp = correct_formula_std_fp.drop_duplicates(subset=correct_formula_std_fp.columns[0:-1], keep='first')"
   ]
  },
  {
   "cell_type": "code",
   "execution_count": null,
   "id": "4a170a70",
   "metadata": {},
   "outputs": [],
   "source": [
    "correct_formula_std_fp"
   ]
  },
  {
   "cell_type": "markdown",
   "id": "d84ae3c0",
   "metadata": {},
   "source": [
    "## Get probabilistic fingerprints from correct formula"
   ]
  },
  {
   "cell_type": "code",
   "execution_count": null,
   "id": "9624f226",
   "metadata": {},
   "outputs": [],
   "source": [
    "with open('2025-05-17_correct_formula_w_std_SMILES.pkl', 'rb') as f:\n",
    "    correct_formula_std = pickle.load(f)"
   ]
  },
  {
   "cell_type": "code",
   "execution_count": null,
   "id": "2cdca9c4",
   "metadata": {},
   "outputs": [],
   "source": [
    "# Get the folder path for the SIRIUS output files\n",
    "exp_output_folder = '/Users/elli/Library/CloudStorage/OneDrive-Kruvelab/Master_thesis/Data/MSMS/SIRIUS_output/output_mass_correction_2025-05-13/ellinor_data'\n",
    "iris_dry_output_folder = '/Users/elli/Library/CloudStorage/OneDrive-Kruvelab/Master_thesis/Data/MSMS/SIRIUS_output/output_mass_correction_2025-05-13/iris_data_dry'\n",
    "isabell_output_folder = '/Users/elli/Library/CloudStorage/OneDrive-Kruvelab/Master_thesis/Data/MSMS/SIRIUS_output/output_mass_correction_2025-05-13/isabell_data'\n",
    "library_data = '/Users/elli/Library/CloudStorage/OneDrive-Kruvelab/Master_thesis/Data/MSMS/SIRIUS_output/output_mass_correction_2025-05-13/library_data'"
   ]
  },
  {
   "cell_type": "code",
   "execution_count": null,
   "id": "107c6baf",
   "metadata": {},
   "outputs": [],
   "source": [
    "fp_info = pd.read_csv(f'{exp_output_folder}/csi_fingerid.tsv', sep='\\t')\n",
    "\n",
    "# Generating the dataframe for SIRIUS+CSI:FingerID results\n",
    "columns = np.concatenate([['id', 'clean_id',  'adduct', 'formula'], [str(idx) for idx in fp_info.absoluteIndex.values]], axis=0)\n",
    "fp_data = pd.DataFrame(columns=columns)"
   ]
  },
  {
   "cell_type": "code",
   "execution_count": null,
   "id": "ff32d86b",
   "metadata": {},
   "outputs": [],
   "source": [
    "without_fp = [] # Array for MS features without predicted fingerprints\n",
    "\n",
    "for directory in [exp_output_folder, iris_dry_output_folder, isabell_output_folder, library_data]:\n",
    "    for filename in glob.glob(f'{directory}/*'):\n",
    "        id = filename.split('/')[-1].split('_')[-1].lower() #get matching ID as in correct_formula df\n",
    "        id_split = id.split('-')\n",
    "        id_clean = ['-'.join(id_split[0:-1]) if id_split[-1] == 'e' or id_split[-1] == 'h' or id_split[-1].isnumeric()\n",
    "                    else '-'.join(id_split)][0] #clean id from e, h or numbers at the end of the id\n",
    "        if id_clean in correct_formula_std['id'].values: #check if id is in correct_formula df\n",
    "            formula = correct_formula_std[correct_formula_std['id'] == id_clean]['molecular_formula'].values[0]\n",
    "            adduct = correct_formula_std[correct_formula_std['id'] == id_clean]['adduct'].values\n",
    "            if os.path.exists(f'{filename}/fingerprints/{formula}_{adduct[0]}.fpt'):\n",
    "                fp = pd.read_csv(f'{filename}/fingerprints/{formula}_{adduct[0]}.fpt', header=None).T.values.flatten()\n",
    "                data_ready = np.concatenate([[id, id_clean, adduct[0], formula], fp], axis=0)\n",
    "                fp_data.loc[len(fp_data)] = data_ready\n",
    "            elif len(adduct) > 1:\n",
    "                try:\n",
    "                    fp = pd.read_csv(f'{filename}/fingerprints/{formula}_{adduct[1]}.fpt', header=None).T.values.flatten()\n",
    "                    data_ready = np.concatenate([[id, id_clean, adduct[1], formula], fp], axis=0)\n",
    "                    fp_data.loc[len(fp_data)] = data_ready\n",
    "                except:\n",
    "                    without_fp.append(id_clean)\n",
    "            else:\n",
    "                without_fp.append(id_clean)\n",
    "\n",
    "fp_data = fp_data.apply(pd.to_numeric, errors='ignore')"
   ]
  },
  {
   "cell_type": "code",
   "execution_count": null,
   "id": "939b471e",
   "metadata": {},
   "outputs": [],
   "source": [
    "fp_data.sort_values(by='id', inplace=True)"
   ]
  },
  {
   "cell_type": "code",
   "execution_count": null,
   "id": "23fa444b",
   "metadata": {},
   "outputs": [],
   "source": [
    "fp_data"
   ]
  },
  {
   "cell_type": "markdown",
   "id": "84170245",
   "metadata": {},
   "source": [
    "### Save predicted fingerprints to correct_formula df"
   ]
  },
  {
   "cell_type": "code",
   "execution_count": null,
   "id": "a3c4691a",
   "metadata": {},
   "outputs": [],
   "source": [
    "fp_data_compressed = fp_data.copy()\n",
    "# Compress the fingerprints into a single list in a column\n",
    "fp_data_compressed['sirius5_predicted_fp'] = fp_data_compressed.apply(lambda row: row[4:].tolist(), axis=1)\n",
    "\n",
    "# Display the resulting DataFrame\n",
    "fp_data_compressed = fp_data_compressed[['id', 'clean_id', 'adduct', 'formula', 'sirius5_predicted_fp']]\n",
    "\n",
    "fp_data_compressed = fp_data_compressed.rename(columns={'formula': 'molecular_formula',\n",
    "                                                        'id': 'sirius_output_name',\n",
    "                                                        'clean_id': 'id'})\n",
    "\n",
    "fp_data_compressed"
   ]
  },
  {
   "cell_type": "code",
   "execution_count": null,
   "id": "4b2248da",
   "metadata": {},
   "outputs": [],
   "source": [
    "fp_data_compressed"
   ]
  },
  {
   "cell_type": "code",
   "execution_count": null,
   "id": "b1b255ee",
   "metadata": {},
   "outputs": [],
   "source": [
    "# add compressed fingerprints to correct_formula_std_fp\n",
    "correct_formula_std_fp_pred = pd.merge(correct_formula_std_fp, fp_data_compressed, on=['id', 'adduct', 'molecular_formula'], how='left')\n",
    "\n",
    "correct_formula_std_fp_pred = correct_formula_std_fp_pred[['id', 'sirius_output_name', 'molecular_formula', 'adduct',\n",
    "                                                           'formulaRank',  'sirius5_fp','sirius5_predicted_fp', 'SiriusScore', 'numExplainedPeaks', 'massErrorPrecursor(ppm)', 'InChIKey14', 'SMILES',  'std_SMILES', 'source', 'ROMol', 'InChIKey']]\n",
    "\n",
    "correct_formula_std_fp_pred"
   ]
  },
  {
   "cell_type": "code",
   "execution_count": null,
   "id": "2461eacf",
   "metadata": {},
   "outputs": [],
   "source": [
    "# with open('2025-05-17_experimental_pred_fp_true_fp_correct_formula.pkl', 'wb') as f:\n",
    "#     pickle.dump(correct_formula_std_fp_pred, f)"
   ]
  },
  {
   "cell_type": "code",
   "execution_count": null,
   "id": "a72e5b72",
   "metadata": {},
   "outputs": [],
   "source": [
    "correct_formula[correct_formula.sirius_output_name.isna()]"
   ]
  },
  {
   "cell_type": "markdown",
   "id": "1365859e",
   "metadata": {},
   "source": [
    "## Determine accuracy in prediction using Binary Cross-Entropy Loss"
   ]
  },
  {
   "cell_type": "code",
   "execution_count": null,
   "id": "faa2fe7e",
   "metadata": {},
   "outputs": [],
   "source": [
    "import pandas as pd\n",
    "import numpy as np\n",
    "import pickle\n",
    "\n",
    "import glob\n",
    "import os"
   ]
  },
  {
   "cell_type": "code",
   "execution_count": null,
   "id": "f1f20b5d",
   "metadata": {},
   "outputs": [],
   "source": [
    "with open('2025-05-17_experimental_pred_fp_true_fp_correct_formula.pkl', 'rb') as f:\n",
    "    correct_formula = pickle.load(f)"
   ]
  },
  {
   "cell_type": "code",
   "execution_count": null,
   "id": "a630d38c",
   "metadata": {},
   "outputs": [],
   "source": [
    "correct_formula.sort_values(by='id', inplace=True)"
   ]
  },
  {
   "cell_type": "code",
   "execution_count": null,
   "id": "ef75ea55",
   "metadata": {},
   "outputs": [],
   "source": [
    "correct_formula"
   ]
  },
  {
   "cell_type": "code",
   "execution_count": null,
   "id": "9747d5ae",
   "metadata": {},
   "outputs": [],
   "source": [
    "fp = correct_formula[correct_formula['sirius5_predicted_fp'].notnull() & correct_formula['sirius5_fp'].notnull()]"
   ]
  },
  {
   "cell_type": "code",
   "execution_count": null,
   "id": "1ac83677",
   "metadata": {},
   "outputs": [],
   "source": [
    "fp.reset_index(drop=True, inplace=True)\n",
    "\n",
    "fp"
   ]
  },
  {
   "cell_type": "code",
   "execution_count": null,
   "id": "cf944ca3",
   "metadata": {},
   "outputs": [],
   "source": [
    "type(fp)"
   ]
  },
  {
   "cell_type": "code",
   "execution_count": null,
   "id": "08bb652f",
   "metadata": {},
   "outputs": [],
   "source": [
    "fp_no_dupl = fp.drop_duplicates(subset=['id', 'molecular_formula'], keep='first')"
   ]
  },
  {
   "cell_type": "code",
   "execution_count": null,
   "id": "ff3ac6e8",
   "metadata": {},
   "outputs": [],
   "source": [
    "fp_no_dupl"
   ]
  },
  {
   "cell_type": "code",
   "execution_count": null,
   "id": "19c9e468",
   "metadata": {},
   "outputs": [],
   "source": [
    "fp_duplicate = fp[fp.duplicated(subset=['id', 'molecular_formula'], keep=False)]"
   ]
  },
  {
   "cell_type": "code",
   "execution_count": null,
   "id": "2260c370",
   "metadata": {},
   "outputs": [],
   "source": [
    "fp_duplicate\n"
   ]
  },
  {
   "cell_type": "code",
   "execution_count": null,
   "id": "4f1e0dc0",
   "metadata": {},
   "outputs": [],
   "source": [
    "fp_m = fp[fp['adduct']=='[M]+']\n",
    "\n",
    "fp_mh = fp[fp['adduct']=='[M+H]+']"
   ]
  },
  {
   "cell_type": "code",
   "execution_count": null,
   "id": "f2ea6d14",
   "metadata": {},
   "outputs": [],
   "source": [
    "fp_m = fp_no_dupl[fp_no_dupl['adduct']=='[M]+']\n",
    "\n",
    "fp_mh = fp_no_dupl[fp_no_dupl['adduct']=='[M+H]+']"
   ]
  },
  {
   "cell_type": "code",
   "execution_count": null,
   "id": "aa7bf43b",
   "metadata": {},
   "outputs": [],
   "source": [
    "fp_m.shape, fp_mh.shape"
   ]
  },
  {
   "cell_type": "markdown",
   "id": "723e8ea0",
   "metadata": {},
   "source": [
    "### Computing the binary cross entropy loss for each prediction"
   ]
  },
  {
   "cell_type": "code",
   "execution_count": null,
   "id": "2d65c572",
   "metadata": {},
   "outputs": [],
   "source": [
    "def get_pred_prob(df):\n",
    "    pred_fp = df['sirius5_predicted_fp'].apply(pd.Series)\n",
    "    true_fp = df['sirius5_fp'].apply(pd.Series)\n",
    "\n",
    "    pred_prob = true_fp * (pred_fp) + (1 - true_fp) * (1 - pred_fp)\n",
    "\n",
    "    mean_pred_prob_mf = pred_prob.mean(axis=1)\n",
    "    mean_pred_prob_feat = pred_prob.mean(axis=0)\n",
    "\n",
    "    return pred_prob, mean_pred_prob_mf, mean_pred_prob_feat\n",
    "\n",
    "pred_prob_m, mean_pred_prob_mf_m, mean_pred_prob_feat_m = get_pred_prob(fp_m)\n",
    "pred_prob_mh, mean_pred_prob_mf_mh, mean_pred_prob_feat_mh = get_pred_prob(fp_mh)"
   ]
  },
  {
   "cell_type": "code",
   "execution_count": null,
   "id": "adb3047c",
   "metadata": {},
   "outputs": [],
   "source": [
    "mean_pred_prob_feat_m.mean(), mean_pred_prob_feat_mh.mean()"
   ]
  },
  {
   "cell_type": "code",
   "execution_count": null,
   "id": "504c108e",
   "metadata": {},
   "outputs": [],
   "source": [
    "from scipy import stats\n",
    "\n",
    "# calculate confidence interval of mean predicted probabilities\n",
    "def calc_ci(data, confidence=0.95):\n",
    "    \"\"\"\n",
    "    Calculate the confidence interval of the mean for a given dataset.\n",
    "    \"\"\"\n",
    "    n = len(data)\n",
    "    mean = np.mean(data)\n",
    "    sem = stats.sem(data)  # Standard error of the mean\n",
    "\n",
    "    # CI bounds\n",
    "    h = sem * stats.t.ppf((1 + confidence) / 2, n - 1)  # two-tailed t-distribution\n",
    "\n",
    "    ci_lower = mean - h\n",
    "    ci_upper = mean + h\n",
    "\n",
    "    return ci_lower, ci_upper, h\n",
    "\n",
    "ci_lower_m, ci_upper_m, ci_m = calc_ci(mean_pred_prob_mf_m)\n",
    "ci_lower_mh, ci_upper_mh, ci_mh = calc_ci(mean_pred_prob_mf_mh)\n",
    "\n",
    "ci_m, ci_mh"
   ]
  },
  {
   "cell_type": "code",
   "execution_count": null,
   "id": "7241b5fa",
   "metadata": {},
   "outputs": [],
   "source": []
  },
  {
   "cell_type": "code",
   "execution_count": null,
   "id": "b67328f2",
   "metadata": {},
   "outputs": [],
   "source": [
    "# import numpy as np\n",
    "\n",
    "# # true_fp_expanded contains the binary labels (0 or 1)\n",
    "# # pred_fp_expanded contains the predicted probabilities (between 0 and 1) of a compound being in class 1\n",
    "# # Assume both are DataFrames with same shape and matching indices/columns\n",
    "\n",
    "# # Small constant to avoid log(0)\n",
    "# epsilon = 1e-20\n",
    "\n",
    "# # Clip predicted values to avoid log(0) issues\n",
    "# df_pred_clipped = pred_fp_expanded.clip(epsilon, 1 - epsilon)\n",
    "\n",
    "# # Calculate BCE for each element\n",
    "# average_prob = true_fp_expanded * (df_pred_clipped) + (1 - true_fp_expanded) * (1 - df_pred_clipped)\n",
    "\n",
    "# # Optionally: compute mean BCE across all elements\n",
    "# mean_average_prob = average_prob.mean().mean()  # mean over all columns and rows\n",
    "\n",
    "# print(\"Mean Binary Cross Entropy:\", mean_average_prob)"
   ]
  },
  {
   "cell_type": "code",
   "execution_count": null,
   "id": "d254c02f",
   "metadata": {},
   "outputs": [],
   "source": [
    "import matplotlib.pyplot as plt\n",
    "\n",
    "# Set the figure parameters\n",
    "plt.rcParams.update({'figure.figsize':[9.8,9.8],\n",
    "                'font.size': 16, \n",
    "                'font.weight': 'normal',\n",
    "                'axes.titlesize': 12,\n",
    "                'axes.labelsize': 12,\n",
    "                'xtick.labelsize': 12,\n",
    "                'ytick.labelsize': 12,\n",
    "                'legend.fontsize': 12,\n",
    "                'legend.title_fontsize': 12,\n",
    "                'axes.titleweight': 'bold',\n",
    "                'font.family': 'serif',\n",
    "                'font.serif': ['Times New Roman'],\n",
    "                'figure.dpi':300,\n",
    "                \n",
    "                })"
   ]
  },
  {
   "cell_type": "code",
   "execution_count": null,
   "id": "97174b8e",
   "metadata": {},
   "outputs": [],
   "source": [
    "import matplotlib.pyplot as plt\n",
    "\n",
    "# Set the figure parameters\n",
    "plt.rcParams.update({'figure.figsize':[9.8,9.8],\n",
    "                'font.size': 16, \n",
    "                'font.weight': 'normal',\n",
    "                'axes.titlesize': 12,\n",
    "                'axes.labelsize': 12,\n",
    "                'xtick.labelsize': 12,\n",
    "                'ytick.labelsize': 12,\n",
    "                'legend.fontsize': 12,\n",
    "                'legend.title_fontsize': 12,\n",
    "                'axes.titleweight': 'bold',\n",
    "                'font.family': 'serif',\n",
    "                'font.serif': ['Times New Roman'],\n",
    "                'figure.dpi':300,\n",
    "                \n",
    "                })\n",
    "\n",
    "plt.figure(figsize=(8,4))\n",
    "\n",
    "hist_mp = plt.hist(pred_prob_mh.values.flatten(), bins=100, density=True, log=True,\n",
    "                   color='#FD9E02', alpha=1, label='[M+H]+')\n",
    "hist_m = plt.hist(pred_prob_m.values.flatten(), bins=100, density=True, log=True,\n",
    "                  color='#228CBD', alpha=1, label='[M]+')\n",
    "\n",
    "plt.xlabel('Correct class likelihood, %')\n",
    "plt.ylabel('Density, %')\n",
    "\n",
    "plt.legend()\n",
    "\n",
    "plt.title('Correct class likelihood of fingerprint-bits for compounds with\\ncorrect molecular formula prediction')\n",
    "\n",
    "#plt.savefig('/Users/elli/Library/CloudStorage/OneDrive-Kruvelab/Master_thesis/Visualizations/2025-05-18_correct_class_lieklihood_fp.pdf', dpi=300, bbox_inches='tight')"
   ]
  },
  {
   "cell_type": "code",
   "execution_count": null,
   "id": "f844a594",
   "metadata": {},
   "outputs": [],
   "source": [
    "min(mean_pred_prob_mf_m)"
   ]
  },
  {
   "cell_type": "code",
   "execution_count": null,
   "id": "d651ccd0",
   "metadata": {},
   "outputs": [],
   "source": []
  },
  {
   "cell_type": "code",
   "execution_count": null,
   "id": "738f0a00",
   "metadata": {},
   "outputs": [],
   "source": [
    "import matplotlib.pyplot as plt\n",
    "\n",
    "from matplotlib.lines import Line2D\n",
    "from matplotlib.patches import Rectangle\n",
    "\n",
    "plt.figure(figsize=(8,4))\n",
    "\n",
    "hist_mh = plt.hist(mean_pred_prob_mf_mh.values.flatten(), bins=18, density=True, log=False,\n",
    "                   color='#FD9E02', alpha=1, label=r'[M+H]$^+$')\n",
    "# plt.axvline(mean_pred_prob_mf_mh.mean(), color='#FD9E02', linestyle='--')\n",
    "# plt.axvspan(xmin=ci_lower_mh, xmax=ci_upper_mh, facecolor='#FD9E02', edgecolor='none', alpha=0.3)\n",
    "\n",
    "hist_m = plt.hist(mean_pred_prob_mf_m.values.flatten(), bins=20, density=True, log=False,\n",
    "                  color='#228CBD', alpha=0.8, label=r'[M]$^{\\cdot +}$')\n",
    "# plt.axvline(mean_pred_prob_mf_m.mean(), color='#228CBD', linestyle='--')\n",
    "\n",
    "# plt.axvspan(xmin=ci_lower_mh, xmax=ci_upper_mh, facecolor='#FD9E02', edgecolor='none', alpha=0.05)\n",
    "# plt.axvspan(xmin=ci_lower_m, xmax=ci_upper_m, facecolor='#228CBD',edgecolor='none', alpha=0.2)\n",
    "\n",
    "plt.xlabel('Mean MF likelihood')\n",
    "plt.ylabel('')\n",
    "\n",
    "ax = plt.gca()\n",
    "ax.set_yticks([])             # Removes tick locations\n",
    "ax.set_yticklabels([])        # Removes tick labels\n",
    "\n",
    "plt.legend()\n",
    "\n",
    "plt.savefig('/Users/elli/Library/CloudStorage/OneDrive-Kruvelab/Master_thesis/Visualizations/2025-05-24_correct_class_lieklihood_mean_spectra_wo_mean_and_ci.pdf', dpi=300, bbox_inches='tight')"
   ]
  },
  {
   "cell_type": "code",
   "execution_count": null,
   "id": "85192b3f",
   "metadata": {},
   "outputs": [],
   "source": [
    "import pickle\n",
    "# save datframe\n",
    "with open('/Users/elli/Library/CloudStorage/OneDrive-Kruvelab/Master_thesis/Code/Model_training/evaluation_set_uncorrected_mass.pkl', 'rb') as f:\n",
    "    fp_data_uncorr = pickle.load(f)"
   ]
  },
  {
   "cell_type": "code",
   "execution_count": null,
   "id": "26613216",
   "metadata": {},
   "outputs": [],
   "source": [
    "with open('/Users/elli/Library/CloudStorage/OneDrive-Kruvelab/Master_thesis/Code/Model_training/evaluation_set_corrected_mass.pkl', 'rb') as f:\n",
    "    fp_data_corr = pickle.load(f)"
   ]
  },
  {
   "cell_type": "code",
   "execution_count": null,
   "id": "5fd4f4d2",
   "metadata": {},
   "outputs": [],
   "source": [
    "fp_data_uncorr"
   ]
  },
  {
   "cell_type": "code",
   "execution_count": null,
   "id": "bce362db",
   "metadata": {},
   "outputs": [],
   "source": [
    "fp.value_counts(subset='adduct')"
   ]
  },
  {
   "cell_type": "markdown",
   "id": "d6378d7e",
   "metadata": {},
   "source": [
    "### Accuracy of feature prediction for models"
   ]
  },
  {
   "cell_type": "code",
   "execution_count": null,
   "id": "3a18dea7",
   "metadata": {},
   "outputs": [],
   "source": [
    "with open('/Users/elli/Library/CloudStorage/OneDrive-Kruvelab/Master_thesis/Code/Model_training/AHR/ahr_features.pkl', 'rb') as f:\n",
    "    ahr_features = pickle.load(f)\n",
    "\n",
    "with open('/Users/elli/Library/CloudStorage/OneDrive-Kruvelab/Master_thesis/Code/Model_training/MMP/mmp_features.pkl', 'rb') as f:\n",
    "    mmp_features = pickle.load(f)"
   ]
  },
  {
   "cell_type": "code",
   "execution_count": null,
   "id": "84a30854",
   "metadata": {},
   "outputs": [],
   "source": [
    "# Difference between the two sets of features\n",
    "diff = list(set(mmp_features) - set(ahr_features))\n",
    "diff"
   ]
  },
  {
   "cell_type": "code",
   "execution_count": null,
   "id": "ff873222",
   "metadata": {},
   "outputs": [],
   "source": [
    "ahr_diff = list(set(ahr_features)-set(mmp_features))"
   ]
  },
  {
   "cell_type": "code",
   "execution_count": null,
   "id": "32401728",
   "metadata": {},
   "outputs": [],
   "source": [
    "for feature in diff:\n",
    "    if feature in ahr_features:\n",
    "        print(f\"{feature} is in ahr set\")\n",
    "    else:\n",
    "        print(f\"{feature} is only in MMP features\")"
   ]
  },
  {
   "cell_type": "code",
   "execution_count": null,
   "id": "2445c28f",
   "metadata": {},
   "outputs": [],
   "source": [
    "fp_desc = pd.read_csv('/Users/elli/Library/CloudStorage/OneDrive-Kruvelab/Master_thesis/Data/Tox21/2025-03-12_fp_description.tsv', sep='\\t')"
   ]
  },
  {
   "cell_type": "code",
   "execution_count": null,
   "id": "8644831b",
   "metadata": {},
   "outputs": [],
   "source": [
    "fp_desc"
   ]
  },
  {
   "cell_type": "code",
   "execution_count": null,
   "id": "26218ee6",
   "metadata": {},
   "outputs": [],
   "source": [
    "fp_desc.iloc[diff, :]"
   ]
  },
  {
   "cell_type": "code",
   "execution_count": null,
   "id": "75ac0785",
   "metadata": {},
   "outputs": [],
   "source": [
    "fp_desc.iloc[ahr_diff, :]"
   ]
  },
  {
   "cell_type": "code",
   "execution_count": null,
   "id": "94a46a93",
   "metadata": {},
   "outputs": [],
   "source": [
    "ahr_features"
   ]
  },
  {
   "cell_type": "code",
   "execution_count": null,
   "id": "af526f64",
   "metadata": {},
   "outputs": [],
   "source": [
    "mmp_features"
   ]
  },
  {
   "cell_type": "code",
   "execution_count": null,
   "id": "9f60483a",
   "metadata": {},
   "outputs": [],
   "source": [
    "ahr_features_accuracy_m = pd.DataFrame(mean_pred_prob_feat_m.iloc[ahr_features])\n",
    "ahr_features_accuracy_mh = pd.DataFrame(mean_pred_prob_feat_mh.iloc[ahr_features])\n",
    "\n",
    "mmp_features_accuracy_m = pd.DataFrame(mean_pred_prob_feat_m.iloc[mmp_features])\n",
    "mmp_features_accuracy_mh = pd.DataFrame(mean_pred_prob_feat_mh.iloc[mmp_features])"
   ]
  },
  {
   "cell_type": "code",
   "execution_count": null,
   "id": "6e6179d5",
   "metadata": {},
   "outputs": [],
   "source": [
    "ahr_features_accuracy_m[0]"
   ]
  },
  {
   "cell_type": "code",
   "execution_count": null,
   "id": "65c4d52a",
   "metadata": {},
   "outputs": [],
   "source": [
    "import matplotlib.pyplot as plt\n",
    "from matplotlib.lines import Line2D\n",
    "from matplotlib.patches import Rectangle\n",
    "\n",
    "import seaborn as sns\n",
    "\n",
    "fig, ax = plt.subplots(1, 2, figsize=(12, 5), sharey=True)\n",
    "\n",
    "\n",
    "sns.histplot(data=ahr_features_accuracy_m, x=0, label=r'[M]$^{\\cdot +}$', color='#219EBC', edgecolor=None, kde=False, stat='density', bins=30, ax=ax[0])\n",
    "sns.histplot(data=ahr_features_accuracy_mh, x=0, label=r'[M+H]$^+$', color='#FB8500', edgecolor=None, kde=False, stat='density', bins=30, ax=ax[0])\n",
    "ax[0].set_title(r'AhR features ($\\it{N}$=363)', fontweight='bold', fontsize=14)\n",
    "\n",
    "ax[0].set_xlabel('')\n",
    "ax[0].set_ylabel('')\n",
    "\n",
    "ax[0].tick_params(axis='y', left=False, labelleft=False)\n",
    "\n",
    "sns.histplot(data=mmp_features_accuracy_m, x=0, label=r'[M]$^{\\cdot +}$', color='#219EBC', edgecolor=None,  kde=False, stat='density', bins=30, ax=ax[1])\n",
    "sns.histplot(data=mmp_features_accuracy_mh, x=0, label=r'[M+H]$^+$', color='#FB8500', edgecolor=None,  kde=False, stat='density', bins=30, ax=ax[1])\n",
    "ax[1].set_title(r'MMP features ($\\it{N}$=364)', fontweight='bold', fontsize=14)\n",
    "\n",
    "ax[1].set_xlabel('')\n",
    "\n",
    "ax[1].tick_params(axis='y', left=False, labelleft=False)\n",
    "\n",
    "# Add legend and labels\n",
    "ax[0].legend()\n",
    "ax[1].legend()\n",
    "plt.tight_layout()\n",
    "\n",
    "fig.supxlabel('Mean feature accuracy, %', y=-0.02, fontsize=16)\n",
    "\n",
    "\n",
    "plt.savefig('/Users/elli/Library/CloudStorage/OneDrive-Kruvelab/Master_thesis/Visualizations/2025-05-24_feature_accuracy_for_selected_features.pdf', dpi=300, bbox_inches='tight')"
   ]
  }
 ],
 "metadata": {
  "kernelspec": {
   "display_name": "pubchem_cleaning",
   "language": "python",
   "name": "python3"
  },
  "language_info": {
   "codemirror_mode": {
    "name": "ipython",
    "version": 3
   },
   "file_extension": ".py",
   "mimetype": "text/x-python",
   "name": "python",
   "nbconvert_exporter": "python",
   "pygments_lexer": "ipython3",
   "version": "3.13.2"
  }
 },
 "nbformat": 4,
 "nbformat_minor": 5
}
