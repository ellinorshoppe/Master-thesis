{
 "cells": [
  {
   "cell_type": "markdown",
   "metadata": {},
   "source": [
    "## Here the mixes and all extra properties of the compounds of interest be found/determined"
   ]
  },
  {
   "cell_type": "code",
   "execution_count": null,
   "metadata": {},
   "outputs": [],
   "source": [
    "import pickle\n",
    "import pandas as pd \n",
    "import numpy as np\n",
    "\n",
    "from rdkit import Chem\n",
    "from rdkit.Chem import PandasTools, Descriptors, rdMolDescriptors, Crippen, Fragments"
   ]
  },
  {
   "cell_type": "code",
   "execution_count": null,
   "metadata": {},
   "outputs": [],
   "source": [
    "with open('2025-04-15_klara_available_actives.pkl', 'rb') as f:\n",
    "    all_available_actives = pickle.load(f)"
   ]
  },
  {
   "cell_type": "code",
   "execution_count": null,
   "metadata": {},
   "outputs": [],
   "source": [
    "all_available_actives"
   ]
  },
  {
   "cell_type": "markdown",
   "metadata": {},
   "source": [
    "## Updating of the available compounds, and addition of properties to help analysis\n",
    "During the making of the standards some thing may have happened leading to some compounds not going all the way to analysis. \n",
    "\n",
    "These will be removed using a filter which consists of all compound which had various issues throughout the standard making process, as well as a comment next to the name as to why. "
   ]
  },
  {
   "cell_type": "code",
   "execution_count": null,
   "metadata": {},
   "outputs": [],
   "source": [
    "#Compounds which couldn't be analysed for various reasons (fond in comments beside the compound name)\n",
    "\n",
    "compounds_to_remove = ['Toluylene diisocyanate (mixutre of isomeres) <br>(mass)', # not appropriate for MS analysis, was also prone to polymerization\n",
    "                       \"N,N'-Dicyklohexylkarbodiimid\", # Reacts with water, determined to not be appropriate to work with\n",
    "                       'Folpet',#Not found\n",
    "                       '1,2,5,6,9,10-Hexabromocyclododecane', #Not found\n",
    "                       '4-Phenoxyphenol', #Not found\n",
    "                       'Lindane', #Not found\n",
    "                       '4-(Methylamino)phenol hemisulfate salt', #Not found\n",
    "                       'p-Toluidin', #Too crystalized in packaging, could not be transferred\n",
    "                       'Aminoguanidine bicarbonate', # Could not be dissolved in anything other that water  \n",
    "                       '1,2,4-Triazole', #Not found\n",
    "                       '1,2,4-Triazole sodium derivative', #Not found\n",
    "                       'beta-Phenylcinnamaldehyde', #Not found\n",
    "                       'Triton X-100 (Sigma-Aldrich Sweden AB)', #Not suitable for GC-analysis\n",
    "                       'Aniline (volume)' #Not found\n",
    "                       ] \n",
    "\n",
    "all_available_actives_updated = all_available_actives[~all_available_actives['name'].isin(compounds_to_remove)].reset_index(drop=True)"
   ]
  },
  {
   "cell_type": "code",
   "execution_count": null,
   "metadata": {},
   "outputs": [],
   "source": [
    "def calc_molecular_formula_and_mol_weight(df):\n",
    "    '''\n",
    "    This function calculates the following chemical characteristics:\n",
    "         molecular formula\n",
    "         monoisotopic molecular weight\n",
    "         LogP\n",
    "         number of amines\n",
    "         number of hydroxyls\n",
    "         number of hydrogen bond acceptors\n",
    "         number of hydrogen bond donors\n",
    "    '''\n",
    "\n",
    "    PandasTools.AddMoleculeColumnToFrame(df, smilesCol='SMILES')\n",
    "    df['monoisotopic_molecular_weight'] = df['ROMol'].apply(Chem.rdMolDescriptors.CalcExactMolWt)\n",
    "    df['molecular_formula'] = df['ROMol'].apply(Chem.rdMolDescriptors.CalcMolFormula)\n",
    "    df['logP'] = df['ROMol'].apply(Chem.Crippen.MolLogP)\n",
    "\n",
    "    prim_amines = df['ROMol'].apply(Chem.Fragments.fr_NH2)\n",
    "    sec_amines = df['ROMol'].apply(Chem.Fragments.fr_NH1)\n",
    "    tert_amines = df['ROMol'].apply(Chem.Fragments.fr_NH0)\n",
    "    arom_amines = df['ROMol'].apply(Chem.Fragments.fr_Ar_NH)\n",
    "    df['amines'] = prim_amines + sec_amines + tert_amines + arom_amines\n",
    "\n",
    "    aliph_hydroxyls = df['ROMol'].apply(Chem.Fragments.fr_Al_OH)\n",
    "    aromatic_hydroxyls = df['ROMol'].apply(Chem.Fragments.fr_Ar_OH)\n",
    "    df['hydroxyls'] = aliph_hydroxyls + aromatic_hydroxyls\n",
    "\n",
    "    df['Chlorines'] = df['ROMol'].apply(lambda x: sum(1 for atom in x.GetAtoms() if atom.GetSymbol() == 'Cl')) #made with the help of ChatGPT\n",
    "    df['Bromines'] = df['ROMol'].apply(lambda x: sum(1 for atom in x.GetAtoms() if atom.GetSymbol() == 'Br')) #made with the help of ChatGPT\n",
    "\n",
    "    df['HBA'] = df['ROMol'].apply(Chem.rdMolDescriptors.CalcNumLipinskiHBA)\n",
    "    df['HBD'] = df['ROMol'].apply(Chem.rdMolDescriptors.CalcNumLipinskiHBD)\n",
    "    return df\n",
    "\n",
    "all_available_actives_updated = calc_molecular_formula_and_mol_weight(all_available_actives_updated)\n",
    "\n",
    "all_available_actives_updated.head()"
   ]
  },
  {
   "cell_type": "code",
   "execution_count": null,
   "metadata": {},
   "outputs": [],
   "source": [
    "available_actives_w_same_mol_formula = all_available_actives_updated[all_available_actives_updated.duplicated(subset='molecular_formula', keep=False)].reset_index(drop=True).sort_values(by='molecular_formula')\n",
    "\n",
    "available_actives_w_same_mol_formula[['name', 'molecular_formula', 'section']]"
   ]
  },
  {
   "cell_type": "code",
   "execution_count": null,
   "metadata": {},
   "outputs": [],
   "source": [
    "import pubchempy as pcp\n",
    "\n",
    "def get_pubchem_cid(df):\n",
    "    '''\n",
    "    This function gets the PubChem cid for the compounds in the dataframe\n",
    "    '''\n",
    "    pubchem_data = []\n",
    "    for index, row in df.iterrows():\n",
    "        try:\n",
    "            compound = pcp.get_compounds(row['InChIKey'], 'inchikey')[0].to_dict(properties=['cid'])['cid']\n",
    "            pubchem_data.append(compound)\n",
    "            print(f'Got data for compound: {row['InChIKey']} \\n cid: {compound}')\n",
    "        except Exception as e:\n",
    "            print(f'Failed to get data for compound: {row['InChIKey']} \\n error: {e}')\n",
    "            pubchem_data.append(None)\n",
    "\n",
    "    df['pubchem_cid'] = pubchem_data\n",
    "    return df\n",
    "\n",
    "all_available_actives_updated = get_pubchem_cid(all_available_actives_updated)"
   ]
  },
  {
   "cell_type": "code",
   "execution_count": null,
   "metadata": {},
   "outputs": [],
   "source": [
    "all_available_actives_updated_pugview_fail = all_available_actives_updated[all_available_actives_updated['pubchem_cid'].isna()]\n",
    "all_available_actives_updated_pugview_success = all_available_actives_updated[~all_available_actives_updated['pubchem_cid'].isna()]\n",
    "\n",
    "all_available_actives_updated_pugview_fail = get_pubchem_cid(all_available_actives_updated_pugview_fail)"
   ]
  },
  {
   "cell_type": "code",
   "execution_count": null,
   "metadata": {},
   "outputs": [],
   "source": [
    "all_available_actives_updated = pd.concat([all_available_actives_updated_pugview_success, all_available_actives_updated_pugview_fail], ignore_index=True)\n"
   ]
  },
  {
   "cell_type": "code",
   "execution_count": null,
   "metadata": {},
   "outputs": [],
   "source": [
    "all_available_actives_updated"
   ]
  },
  {
   "cell_type": "code",
   "execution_count": null,
   "metadata": {},
   "outputs": [],
   "source": [
    "import numpy as np\n",
    "import requests\n",
    "\n",
    "#get spectral and experimental data from PubChem\n",
    "def get_pubchem_data(cid):\n",
    "    '''\n",
    "    Get information on spectral data from PubChem\n",
    "    '''\n",
    "\n",
    "    def get_spectral_data(cid):\n",
    "        '''\n",
    "        Get information on spectral data from PubChem\n",
    "        '''\n",
    "        # Get the PubChem CID for the compound\n",
    "        gcms = False\n",
    "        lcms = False\n",
    "        \n",
    "        for subsection in section:\n",
    "            if subsection.get('TOCHeading') == 'Spectral Information':\n",
    "                spectral_info = subsection.get('Section')\n",
    "                for subsection in spectral_info:\n",
    "                    if subsection.get('TOCHeading') == 'Mass Spectrometry':\n",
    "                        mass_spec = subsection.get('Section')\n",
    "                        for subsection in mass_spec:\n",
    "                            if subsection.get('TOCHeading') == 'GC-MS':\n",
    "                                gcms = True\n",
    "                            elif subsection.get('TOCHeading') == 'LC-MS':\n",
    "                                lcms = True \n",
    "\n",
    "        return gcms, lcms\n",
    "    \n",
    "    def get_experimental_data(cid):\n",
    "        '''\n",
    "        Get experimental data from PubChem\n",
    "        '''\n",
    "        # Get the PubChem CID for the compound\n",
    "        bp_matched = []\n",
    "        bp_unmatched = []\n",
    "        vp = []\n",
    "        sol = []\n",
    "        for subsection in section:\n",
    "            if subsection.get('TOCHeading') == 'Chemical and Physical Properties':\n",
    "                chemical_props = subsection.get('Section')\n",
    "\n",
    "                for subsection in chemical_props:\n",
    "                    if subsection.get('TOCHeading') == 'Experimental Properties':\n",
    "                        experimental_props = subsection.get('Section')\n",
    "                        \n",
    "                        for subsection in experimental_props:\n",
    "                            if subsection.get('TOCHeading') == 'Boiling Point':\n",
    "                                # Extract boiling point\n",
    "                                bp_info = subsection.get('Information')\n",
    "                                for ref in bp_info:\n",
    "                                    if any('ExtendedReference' in k for k in ref):\n",
    "                                        if any('Matched' in k for k in ref.get('ExtendedReference')[0]): # Requires Matching to library to be true\n",
    "                                            if 'Number' in ref.get('Value').keys():\n",
    "                                                value = ref.get('Value').get('Number')[0]\n",
    "                                                if 'Unit' in ref.get('Value').keys():\n",
    "                                                    unit = ref.get('Value').get('Unit')[0]\n",
    "                                                    bp_matched.append(f\"{value} {unit}\")\n",
    "                                                else:\n",
    "                                                    bp_matched.append(str(value))\n",
    "                                            else:\n",
    "                                                bp_matched.append(str(ref.get('Value').get('StringWithMarkup')[0].get('String')))\n",
    "                                    elif 'Number' in ref.get('Value').keys():\n",
    "                                        value = ref.get('Value').get('Number')[0]\n",
    "                                        if 'Unit' in ref.get('Value').keys():\n",
    "                                            unit = ref.get('Value').get('Unit')[0]\n",
    "                                            bp_unmatched.append(f\"{value} {unit}\")\n",
    "                                        else:\n",
    "                                            bp_unmatched.append(str(value))\n",
    "                                    else:\n",
    "                                        bp_unmatched.append(str(ref.get('Value').get('StringWithMarkup')[0].get('String')))\n",
    "                                        \n",
    "                            elif subsection.get('TOCHeading') == 'Vapor Pressure':\n",
    "                                # Extract vapor pressure\n",
    "                                vp_info = subsection.get('Information')\n",
    "                                for ref in vp_info:\n",
    "                                    if any('ExtendedReference' in k for k in ref):\n",
    "                                        if any('Matched' in k for k in ref.get('ExtendedReference')[0]):\n",
    "                                            if 'Number' in ref.get('Value').keys():\n",
    "                                                value = ref.get('Value').get('Number')[0]\n",
    "                                                if 'Unit' in ref.get('Value').keys():\n",
    "                                                    unit = ref.get('Value').get('Unit')[0]\n",
    "                                                    vp.append(f\"{value} {unit}\")\n",
    "                                                else:\n",
    "                                                    vp.append(str(value))\n",
    "                                            else:\n",
    "                                                vp.append(str(ref.get('Value').get('StringWithMarkup')[0].get('String')))\n",
    "\n",
    "                            elif subsection.get('TOCHeading') == 'Solubility':\n",
    "                                # Extract solubility\n",
    "                                sol_info = subsection.get('Information')\n",
    "                                for ref in sol_info:\n",
    "                                    if 'Number' in ref.get('Value').keys():\n",
    "                                        value = ref.get('Value').get('Number')[0]\n",
    "                                        if 'Unit' in ref.get('Value').keys():\n",
    "                                            unit = ref.get('Value').get('Unit')[0]\n",
    "                                            sol.append(f\"{value} {unit}\")\n",
    "                                        else:\n",
    "                                            sol.append(str(value))\n",
    "                                    else:\n",
    "                                        sol.append(str(ref.get('Value').get('StringWithMarkup')[0].get('String')))                    \n",
    "                            \n",
    "        return bp_matched, bp_unmatched, vp, sol\n",
    "        \n",
    "\n",
    "    url = f\"https://pubchem.ncbi.nlm.nih.gov/rest/pug_view/data/compound/{cid}/JSON\"\n",
    "    \n",
    "    try:\n",
    "        response = requests.get(url).json()\n",
    "\n",
    "        section = response.get('Record').get('Section')\n",
    "\n",
    "        # Check if the JSON contains spectral information\n",
    "        gcms, lcms = get_spectral_data(section)\n",
    "        # Check if the JSON contains experimental data\n",
    "        bp_matched, bp_unmatched, vp, sol = get_experimental_data(section)\n",
    "\n",
    "        print(f\"Information fetched for CID {cid}.\")\n",
    "\n",
    "        return gcms, lcms, bp_matched, bp_unmatched, vp, sol\n",
    "    \n",
    "    except Exception as e:\n",
    "        print(f\"Error fetching data for CID {cid}: {e}\")\n",
    "        return np.nan, np.nan, np.nan, np.nan, np.nan\n",
    "\n",
    "# Get the PubChem data for all available actives\n",
    "available_actives_information = pd.DataFrame(columns=all_available_actives_updated.columns.tolist()+['gcms_spectra_available', 'lcms_spectra_available', 'boiling_point_peer_reviewed', 'boiling_point', 'vapor_pressure', 'solubility'])\n",
    "\n",
    "for index in all_available_actives_updated.index:\n",
    "    compound = pd.DataFrame(all_available_actives_updated.loc[index,:].copy()).T\n",
    "    \n",
    "    gcms, lcms, bp_matched, bp_unmatched, vp, sol = get_pubchem_data(int(compound.loc[index, 'pubchem_cid']))\n",
    "    df_pubchem_info = pd.DataFrame([[gcms, lcms, bp_matched, bp_unmatched, vp, sol]], \n",
    "                                    columns=['gcms_spectra_available', 'lcms_spectra_available', 'boiling_point_peer_reviewed', 'boiling_point', 'vapor_pressure', 'solubility'],\n",
    "                                    index=compound.index)\n",
    "    \n",
    "    df_combined_info = pd.concat([compound, df_pubchem_info], axis=1)\n",
    "\n",
    "    available_actives_information = pd.concat([available_actives_information, df_combined_info], axis=0)\n",
    "\n",
    "    print(f'Information fetched for compound {index+1} of {len(all_available_actives_updated)}.')\n",
    "\n",
    "\n",
    "#all_available_actives_updated[['gcms_spectra_available', 'lcms_spectra_available', 'boiling_point_peer_reviewed', 'boiling_point', 'vapor_pressure', 'solubility']] = all_available_actives_updated['pubchem_cid'].apply(get_pubchem_data).apply(pd.Series)"
   ]
  },
  {
   "cell_type": "code",
   "execution_count": null,
   "metadata": {},
   "outputs": [],
   "source": [
    "available_actives_information"
   ]
  },
  {
   "cell_type": "markdown",
   "metadata": {},
   "source": [
    "## Making of the mixes\n",
    "For each mix, a list of the compound names available on klara is made. These are then used to filter out the already used compounds from the 'all_available_actives' df, while making a new df for each mix, for easy acess to the information. "
   ]
  },
  {
   "cell_type": "code",
   "execution_count": null,
   "metadata": {},
   "outputs": [],
   "source": [
    "mix1_list = ['4-Chlorophenyl isocyanate', '2-Chloroacetophenone', 'alpha-Tetralone (volume)', 'cis-Stilbene (mass)', 'Triphenylborane', 'Indene (mass)', 'Ftaldialdehyd ', 'p-Chloranil']\n",
    "\n",
    "mix2_list = ['N-Phenyl-o-phenylenediamine', '3-(Dimethylamino)-phenol', 'N,N-Dimethyl-p-phenylenediamine', '2-Nitrophenylacetonitrile', '1,3-Phenylenediamine', 'Benzhydrazide', '2,4,6-Trichlorophenol', 'N,N-Dimethyl-p-toluidine (mass)',\n",
    "             '2,3-Diaminotoluene', '1-Naphthol', 'Thiourea', 'Myristyltrimethylammonium bromide', 'Hexadecyltrimetylammoniumbromid', 'N,N-Diethyl-1,4-phenylenediammonium sulfate']\n",
    "\n",
    "mix3_list = ['Tetramethylthiuram disulfide', 'Parathion-methyl', '5-Nitroacenaphthene', '2-Nitrofluorene', '6-Nitroquinoline', '1-Nitronaphthalene', 'Quinoline Yellow', \n",
    "             'N-Cyclohexylbenzothiazole-2-sulphenamide', 'N-tert-Butyl-2-benzothiazolesulfenamide', '4-Chloro-m-phenylenediamine']\n",
    "\n",
    "mix4_list = ['9,10-Dihydrobenzo[a]pyrene-7(8H)-one', '8-Nitroquinoline', '1,2:3,4-Dibenzanthracene','3-Aminofluoranthene',  '1-Methylpyrene',\n",
    "             '9-Anthracenemethanol', 'Anthrone', '2-Amino-4-methylphenol']\n",
    "\n",
    "mix5_list = ['2-Methylanthraquinone', 'p-Anisidine (Sigma-Aldrich 800458)', 'N,N-Dimethyl-4-nitrosoaniline', '1-(2-Chlorophenyl)-1-(4-chlorophenyl)-2,2-<br>dichloroethane',\n",
    "             \"4,4'-Dihydroxybiphenyl\" ]\n",
    "\n",
    "mix6_list = ['4-Methyl-1,2-phenylendiamine', '3-Diethylaminophenol','2-Methoxy-5-methylaniline', '2,6-Diaminopyridine','N-Phenylhydroxylamine','3-Pyridinecarbonitrile',\n",
    "             'm-Toluidine (volume) (Sigma-Aldrich 808314)','9-Anthracenecarbonitrile','2,4,5-Trichlorophenol','1-Fluoro-2,4-dinitrobenzene (volume)','2-Nitro-1-phenylpropene',\n",
    "             '2,4-Diamino-6-fenyl-S-triazin', 'Perthan','2-Aminobenzothiazole']\n",
    "\n",
    "mix7_list = ['4-Octylphenol', '(3-Chloropropyl)triethoxysilane', \"2,2':5',2''-Terthiophene\", '2-Acetylfluorene', '2,3,6-Triklorfenol', '2,4-Bis(a,a-dimetylbensyl)fenol', '2,5-Diklorfenol', '4-Butylphenol (massa)',\n",
    "             'Allyl 2,4,6-tribromophenyl ether', 'Bis(4-bromophenyl) ether', 'Tetrasul', 'Cedrol', 'trans-Chlordane']\n",
    "\n",
    "mix8_list = ['1,3,4-Thiadiazole-2,5-dithiol', 'Phenylhydrazine (volume)', 'Diaminomaleonitrile', \"4,4'-DDD\",'2-Ethylanthraquinone','Bromophos-ethyl','Cresyl diphenyl phosphate','Heptaklor','Heptaklorepoxid',\n",
    "             'Metoxiklor','alpha-Chlordane']\n",
    "\n",
    "mix9_list = ['4-Benzylphenol','4-Methyl-2,6-dinitrophenol','4-Nitro-1,2-phynelenediamine','4-Ethoxyaniline (mass)','3,4-Dimethylaniline','2-tert-Butyl-4-ethylphenol (mass)','2,3,5-Trimethylphenol',\n",
    "             '2-tert-Butyl-5-methylphenol (volume)','m-Terphenyl']\n",
    "\n",
    "mix10_list = ['4-Chloro-3-methylphenol','Triphenylethylene','3,5-Dichlorophenol','2,3,4-Trichlorophenol','Iso E Super (massa)','Tris(dimethylphenyl)-phosphate',\"o,p'-DDT\"]\n",
    "\n",
    "mix11_list = ['2,4-Dimethylaniline (mass)','Phenyl isothiocyanate (mass)']\n",
    "\n",
    "mixes_list = [mix1_list, mix2_list, mix3_list, mix4_list, mix5_list, mix6_list, mix7_list, mix8_list, mix9_list, mix10_list, mix11_list]"
   ]
  },
  {
   "cell_type": "code",
   "execution_count": null,
   "metadata": {},
   "outputs": [],
   "source": [
    "def separate_mixes(df, mix_list):\n",
    "\n",
    "    '''\n",
    "    Separate the chemicals into different groups based on the group names provided, \n",
    "    returns a dictionary with group name as key, and the chemical-df as value\n",
    "    '''\n",
    "\n",
    "    new_df = df.copy()\n",
    "    mixes_dict = {}\n",
    "    nr = 1\n",
    "\n",
    "    for mix_nr in mix_list:\n",
    "        mix_df = new_df[new_df['name'].isin(mix_nr)].reset_index(drop=True)\n",
    "        new_df = new_df[~new_df['name'].isin(mix_nr)].reset_index(drop=True)\n",
    "        mix_df['mixnr'] = nr\n",
    "        \n",
    "        mix_df = mix_df.sort_values(by='monoisotopic_molecular_weight', ascending=True)\n",
    "\n",
    "        mixes_dict['mix'+str(nr)] = mix_df\n",
    "        nr += 1\n",
    "\n",
    "\n",
    "    return new_df, mixes_dict\n",
    "\n",
    "all_available_actives_wo_mix, active_mixes_dict = separate_mixes(available_actives_information, mixes_list)\n",
    "active_mixes_dict.keys() #Check that all mixes are included"
   ]
  },
  {
   "cell_type": "code",
   "execution_count": null,
   "metadata": {},
   "outputs": [],
   "source": [
    "all_available_actives_updated.to_csv('2025-03-26_endocrine_tox_active_chemicals.tsv', sep='\\t', index=False)"
   ]
  },
  {
   "cell_type": "markdown",
   "metadata": {},
   "source": [
    "### Making dataframe with all compounds which were added to mixes"
   ]
  },
  {
   "cell_type": "code",
   "execution_count": null,
   "metadata": {},
   "outputs": [],
   "source": [
    "df_actives = pd.DataFrame()\n",
    "for mix in active_mixes_dict.keys():\n",
    "    mix_df = active_mixes_dict[mix]\n",
    "    df_actives = pd.concat([df_actives, mix_df], axis=0)"
   ]
  },
  {
   "cell_type": "code",
   "execution_count": null,
   "metadata": {},
   "outputs": [],
   "source": [
    "df_actives = df_actives.reset_index(drop=True)\n",
    "df_actives"
   ]
  },
  {
   "cell_type": "code",
   "execution_count": null,
   "metadata": {},
   "outputs": [],
   "source": [
    "with open('2025-04-25_experimental_analysis_compounds.pkl', 'wb') as f:\n",
    "    pickle.dump(df_actives, f)"
   ]
  },
  {
   "cell_type": "code",
   "execution_count": null,
   "metadata": {},
   "outputs": [],
   "source": [
    "df_actives_refurnitured = df_actives[['name', 'monoisotopic_molecular_weight', 'mixnr', 'nr.ahr', 'sr.mmp', 'SMILES', 'ROMol', 'logP', 'boiling_point_peer_reviewed', 'boiling_point', 'vapor_pressure']]\n",
    "df_actives_refurnitured.head()"
   ]
  },
  {
   "cell_type": "code",
   "execution_count": null,
   "metadata": {},
   "outputs": [],
   "source": [
    "df_actives_refurnitured[['name', 'monoisotopic_molecular_weight', 'mixnr', 'logP']].to_excel('2025-05-07_Ellinors_mixes.xlsx')"
   ]
  },
  {
   "cell_type": "markdown",
   "metadata": {},
   "source": [
    "# Get the structures for the compounds which ionized and didn't"
   ]
  },
  {
   "cell_type": "code",
   "execution_count": null,
   "metadata": {},
   "outputs": [],
   "source": [
    "import pandas as pd\n",
    "import pickle\n",
    "\n",
    "import rdkit\n",
    "from rdkit import Chem\n",
    "from rdkit.Chem import PandasTools"
   ]
  },
  {
   "cell_type": "code",
   "execution_count": null,
   "metadata": {},
   "outputs": [],
   "source": [
    "results = pd.read_excel('/Users/elli/Library/CloudStorage/OneDrive-Kruvelab/Master_thesis/Experimental/Experimental_work/2025-04-25_active_mixes_ms.xlsx')"
   ]
  },
  {
   "cell_type": "code",
   "execution_count": null,
   "metadata": {},
   "outputs": [],
   "source": [
    "results"
   ]
  },
  {
   "cell_type": "code",
   "execution_count": null,
   "metadata": {},
   "outputs": [],
   "source": [
    "results = results[['name', 'monoisotopic_molecular_weight', 'logP' ,'Found with UNIFI', 'Comment UNIFI', '[M+H]+', '[M]+', 'SMILES', 'nr.ahr', 'sr.mmp']]\n",
    "results_cleaned = results.iloc[0:-2, :]"
   ]
  },
  {
   "cell_type": "code",
   "execution_count": null,
   "metadata": {},
   "outputs": [],
   "source": [
    "results_cleaned.sort_values(by='monoisotopic_molecular_weight', ascending=True, inplace=True)"
   ]
  },
  {
   "cell_type": "code",
   "execution_count": null,
   "metadata": {},
   "outputs": [],
   "source": [
    "results_cleaned.name = results_cleaned.name.str.replace(' (mass)', '', regex=False)\n",
    "results_cleaned.name = results_cleaned.name.str.replace(' (massa)', '', regex=False)\n",
    "results_cleaned.name = results_cleaned.name.str.replace(' (volume)', '', regex=False)\n",
    "results_cleaned.name = results_cleaned.name.str.replace(' (Sigma-Aldrich 800458)', '', regex=False)\n",
    "results_cleaned.name = results_cleaned.name.str.replace(' (Sigma-Aldrich 808314)', '', regex=False)\n",
    "results_cleaned.name = results_cleaned.name.str.replace('<br>', '', regex=False)"
   ]
  },
  {
   "cell_type": "code",
   "execution_count": null,
   "metadata": {},
   "outputs": [],
   "source": [
    "PandasTools.AddMoleculeColumnToFrame(results_cleaned,'SMILES','ROMol')"
   ]
  },
  {
   "cell_type": "code",
   "execution_count": null,
   "metadata": {},
   "outputs": [],
   "source": [
    "results_not_ionized = results_cleaned[results_cleaned['Found with UNIFI'] == 0]"
   ]
  },
  {
   "cell_type": "code",
   "execution_count": null,
   "metadata": {},
   "outputs": [],
   "source": [
    "results_not_ionized"
   ]
  },
  {
   "cell_type": "code",
   "execution_count": null,
   "metadata": {},
   "outputs": [],
   "source": [
    "results_m = results_cleaned[(results_cleaned['[M]+']==1)&(results_cleaned['[M+H]+']==0)]\n",
    "results_mh = results_cleaned[(results_cleaned['[M+H]+']==1)&(results_cleaned['[M]+']==0)]\n",
    "results_both = results_cleaned[(results_cleaned['[M]+']==1)&(results_cleaned['[M+H]+']==1)]"
   ]
  },
  {
   "cell_type": "code",
   "execution_count": null,
   "metadata": {},
   "outputs": [],
   "source": [
    "\n",
    "results_m"
   ]
  },
  {
   "cell_type": "code",
   "execution_count": null,
   "metadata": {},
   "outputs": [],
   "source": [
    "results_mh"
   ]
  },
  {
   "cell_type": "code",
   "execution_count": null,
   "metadata": {},
   "outputs": [],
   "source": [
    "results_both"
   ]
  },
  {
   "cell_type": "code",
   "execution_count": null,
   "metadata": {},
   "outputs": [],
   "source": []
  },
  {
   "cell_type": "code",
   "execution_count": null,
   "metadata": {},
   "outputs": [],
   "source": [
    "from rdkit.Chem import Draw\n",
    "def draw_molecules(df, mol_per_row=3, sub_img_size=(200, 200)):\n",
    "    '''\n",
    "    Draws the molecules in the dataframe\n",
    "    '''\n",
    "    img = Draw.MolsToGridImage(\n",
    "    df.ROMol.tolist(),\n",
    "    molsPerRow=mol_per_row,        # Number of molecules per row\n",
    "    subImgSize=sub_img_size,# Size of each individual image\n",
    "    legends=df.name.tolist(),  # Optional: labels\n",
    "    returnPNG=False\n",
    ")\n",
    "    return img"
   ]
  },
  {
   "cell_type": "code",
   "execution_count": null,
   "metadata": {},
   "outputs": [],
   "source": [
    "%pip install opencv-python"
   ]
  },
  {
   "cell_type": "code",
   "execution_count": null,
   "metadata": {},
   "outputs": [],
   "source": [
    "from PIL import Image"
   ]
  },
  {
   "cell_type": "code",
   "execution_count": null,
   "metadata": {},
   "outputs": [],
   "source": [
    "img_m = draw_molecules(results_m, mol_per_row=4, sub_img_size=(600, 300))\n",
    "\n",
    "img_m.save('/Users/elli/Library/CloudStorage/OneDrive-Kruvelab/Master_thesis/Visualizations/Molecules/2025-05-24_ionized_M.pdf',\n",
    "            quality=95, optimize=True, progressive=True,\n",
    "            transparency=True, dpi=(300, 300))\n",
    "\n",
    "img_m"
   ]
  },
  {
   "cell_type": "code",
   "execution_count": null,
   "metadata": {},
   "outputs": [],
   "source": [
    "img_mh = draw_molecules(results_mh, mol_per_row=4, sub_img_size=(600, 300))\n",
    "\n",
    "img_mh\n",
    "\n",
    "img_mh.save('/Users/elli/Library/CloudStorage/OneDrive-Kruvelab/Master_thesis/Visualizations/Molecules/2025-05-24_ionized_MH.png',\n",
    "            quality=95, optimize=True, progressive=True,\n",
    "            transparency=True, dpi=(300, 300))\n",
    "img_mh"
   ]
  },
  {
   "cell_type": "code",
   "execution_count": null,
   "metadata": {},
   "outputs": [],
   "source": [
    "img_both = draw_molecules(results_both, mol_per_row=4, sub_img_size=(600, 300))\n",
    "\n",
    "img_both.save('/Users/elli/Library/CloudStorage/OneDrive-Kruvelab/Master_thesis/Visualizations/Molecules/2025-05-24_ionized_both.png',\n",
    "            quality=95, optimize=True, progressive=True,\n",
    "            transparency=True, dpi=(300, 300))\n",
    "\n",
    "img_both"
   ]
  },
  {
   "cell_type": "code",
   "execution_count": null,
   "metadata": {},
   "outputs": [],
   "source": [
    "img_no = draw_molecules(results_not_ionized, mol_per_row=4, sub_img_size=(600, 300))\n",
    "\n",
    "img_no.save('/Users/elli/Library/CloudStorage/OneDrive-Kruvelab/Master_thesis/Visualizations/Molecules/2025-05-24_not_ionized.png',\n",
    "            quality=95, optimize=True, progressive=True,\n",
    "            transparency=True, dpi=(300, 300))\n",
    "\n",
    "img_no"
   ]
  },
  {
   "cell_type": "code",
   "execution_count": null,
   "metadata": {},
   "outputs": [],
   "source": [
    "results_not_ionized.monoisotopic_molecular_weight.describe()"
   ]
  },
  {
   "cell_type": "code",
   "execution_count": null,
   "metadata": {},
   "outputs": [],
   "source": [
    "def get_metrics(df):\n",
    "    mw = df.monoisotopic_molecular_weight.describe()\n",
    "    logP = df.logP.describe()\n",
    "\n",
    "    metrics = {\n",
    "        'monoisotopic_molecular_weight': mw,\n",
    "        'logP': logP,\n",
    "    }\n",
    "    return metrics"
   ]
  },
  {
   "cell_type": "code",
   "execution_count": null,
   "metadata": {},
   "outputs": [],
   "source": [
    "get_metrics(results_not_ionized)"
   ]
  },
  {
   "cell_type": "code",
   "execution_count": null,
   "metadata": {},
   "outputs": [],
   "source": [
    "get_metrics(results_m)"
   ]
  },
  {
   "cell_type": "code",
   "execution_count": null,
   "metadata": {},
   "outputs": [],
   "source": [
    "get_metrics(results_mh)"
   ]
  },
  {
   "cell_type": "code",
   "execution_count": null,
   "metadata": {},
   "outputs": [],
   "source": [
    "get_metrics(results_both)"
   ]
  }
 ],
 "metadata": {
  "kernelspec": {
   "display_name": "pubchem_cleaning",
   "language": "python",
   "name": "python3"
  },
  "language_info": {
   "codemirror_mode": {
    "name": "ipython",
    "version": 3
   },
   "file_extension": ".py",
   "mimetype": "text/x-python",
   "name": "python",
   "nbconvert_exporter": "python",
   "pygments_lexer": "ipython3",
   "version": "3.13.2"
  }
 },
 "nbformat": 4,
 "nbformat_minor": 2
}
