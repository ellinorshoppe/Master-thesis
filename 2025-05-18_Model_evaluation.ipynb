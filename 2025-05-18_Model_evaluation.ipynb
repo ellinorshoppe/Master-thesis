{
 "cells": [
  {
   "cell_type": "code",
   "execution_count": null,
   "id": "9c15c969",
   "metadata": {},
   "outputs": [],
   "source": [
    "import pandas as pd\n",
    "import numpy as np\n",
    "import pickle\n",
    "\n",
    "from sklearn.metrics import confusion_matrix, classification_report, roc_auc_score, \\\n",
    "                            precision_recall_curve, roc_curve, balanced_accuracy_score, \\\n",
    "                            precision_score, f1_score, recall_score, ConfusionMatrixDisplay"
   ]
  },
  {
   "cell_type": "code",
   "execution_count": null,
   "id": "c47c193e",
   "metadata": {},
   "outputs": [],
   "source": [
    "with open('2025-05-18_threshold_fpr_at_90_recall_ahr_mmp_models.pkl', 'rb') as f:\n",
    "    model_metrics = pickle.load(f)"
   ]
  },
  {
   "cell_type": "code",
   "execution_count": null,
   "id": "99dcf852",
   "metadata": {},
   "outputs": [],
   "source": [
    "model_metrics"
   ]
  },
  {
   "cell_type": "markdown",
   "id": "87873166",
   "metadata": {},
   "source": [
    "# AHR results"
   ]
  },
  {
   "cell_type": "code",
   "execution_count": null,
   "id": "f5e8a94e",
   "metadata": {},
   "outputs": [],
   "source": [
    "with open('final_predictions_experimental_ahr.pkl', 'rb') as f:\n",
    "    ahr_results = pickle.load(f)"
   ]
  },
  {
   "cell_type": "code",
   "execution_count": null,
   "id": "18a7f6c9",
   "metadata": {},
   "outputs": [],
   "source": [
    "ahr_true = ahr_results['AHR_true_label']"
   ]
  },
  {
   "cell_type": "markdown",
   "id": "501edb42",
   "metadata": {},
   "source": [
    "## XGB"
   ]
  },
  {
   "cell_type": "code",
   "execution_count": null,
   "id": "05ff4133",
   "metadata": {},
   "outputs": [],
   "source": [
    "ahr_results.head()"
   ]
  },
  {
   "cell_type": "code",
   "execution_count": null,
   "id": "e54e4f8f",
   "metadata": {},
   "outputs": [],
   "source": [
    "roc_auc = roc_auc_score(ahr_true, ahr_results.AHR_XGB_proba)\n",
    "fpr, tpr, thresh = roc_curve(ahr_true, ahr_results.AHR_XGB_proba,\n",
    "                                     drop_intermediate=False)\n",
    "\n",
    "threshold_ahr_xgb = model_metrics[(model_metrics['model'] == 'XGB')&(model_metrics['endpoint'] == 'AHR')]['threshold_90_recall'].values[0]\n",
    "\n",
    "cm = confusion_matrix(ahr_true, (ahr_results.AHR_XGB_proba >= threshold_ahr_xgb).astype(int))\n",
    "tn, fp, fn, tp = cm.ravel()\n",
    "\n",
    "fpr_90_recall = fp / (fp + tn)\n",
    "\n",
    "bal_acc = balanced_accuracy_score(ahr_true, ahr_results.AHR_XGB)"
   ]
  },
  {
   "cell_type": "code",
   "execution_count": null,
   "id": "4c2c48a3",
   "metadata": {},
   "outputs": [],
   "source": [
    "metrics_evaluation_df = pd.DataFrame({'endpoint': ['AHR'],\n",
    "                                        'model': ['XGB'],\n",
    "                                        'fpr_90_recall_evaluation': [fpr_90_recall],\n",
    "                                        'roc_auc': [roc_auc],\n",
    "                                        'balanced_accuracy': [bal_acc]})\n",
    "\n",
    "roc_ahr_xgb = pd.DataFrame({'fpr': fpr, 'tpr': tpr, 'thresh': thresh})"
   ]
  },
  {
   "cell_type": "code",
   "execution_count": null,
   "id": "0a2539f5",
   "metadata": {},
   "outputs": [],
   "source": [
    "roc_ahr_xgb"
   ]
  },
  {
   "cell_type": "code",
   "execution_count": null,
   "id": "dabfcfb9",
   "metadata": {},
   "outputs": [],
   "source": [
    "cm_ahr_xgb = ConfusionMatrixDisplay(confusion_matrix=cm, display_labels=['Inactive', 'Active'])\n",
    "cm_ahr_xgb.plot(cmap='Blues')"
   ]
  },
  {
   "cell_type": "markdown",
   "id": "93e71158",
   "metadata": {},
   "source": [
    "## RF"
   ]
  },
  {
   "cell_type": "code",
   "execution_count": null,
   "id": "09d054d5",
   "metadata": {},
   "outputs": [],
   "source": [
    "ahr_results.head()"
   ]
  },
  {
   "cell_type": "code",
   "execution_count": null,
   "id": "b9aa4c39",
   "metadata": {},
   "outputs": [],
   "source": [
    "roc_auc = roc_auc_score(ahr_true, ahr_results.AHR_RF_proba)\n",
    "fpr, tpr, thresh = roc_curve(ahr_true, ahr_results.AHR_RF_proba,\n",
    "                                     drop_intermediate=False)\n",
    "\n",
    "cm = confusion_matrix(ahr_true, ahr_results.AHR_RF)\n",
    "tn, fp, fn, tp = cm.ravel()\n",
    "\n",
    "fpr_90_recall = fp / (fp + tn)\n",
    "\n",
    "bal_acc = balanced_accuracy_score(ahr_true, ahr_results.AHR_RF)"
   ]
  },
  {
   "cell_type": "code",
   "execution_count": null,
   "id": "7c80f53e",
   "metadata": {},
   "outputs": [],
   "source": [
    "metrics_evaluation = pd.DataFrame({'endpoint': ['AHR'],\n",
    "                                        'model': ['RF'],\n",
    "                                        'fpr_90_recall_evaluation': [fpr_90_recall],\n",
    "                                        'roc_auc': [roc_auc],\n",
    "                                        'balanced_accuracy': [bal_acc]})\n",
    "\n",
    "metrics_evaluation_df = pd.concat([metrics_evaluation_df, metrics_evaluation], ignore_index=True)\n",
    "\n",
    "roc_ahr_rf = pd.DataFrame({'fpr': fpr, 'tpr': tpr, 'thresh': thresh})"
   ]
  },
  {
   "cell_type": "code",
   "execution_count": null,
   "id": "548cbe1d",
   "metadata": {},
   "outputs": [],
   "source": [
    "cm_ahr_rf = ConfusionMatrixDisplay(confusion_matrix=cm, display_labels=['Inactive', 'Active'])\n",
    "cm_ahr_rf.plot(cmap='Blues')"
   ]
  },
  {
   "cell_type": "markdown",
   "id": "962cb7a2",
   "metadata": {},
   "source": [
    "# MMP results"
   ]
  },
  {
   "cell_type": "code",
   "execution_count": null,
   "id": "25e2e236",
   "metadata": {},
   "outputs": [],
   "source": [
    "with open('final_predictions_experimental_mmp.pkl', 'rb') as f:\n",
    "    mmp_results = pickle.load(f)"
   ]
  },
  {
   "cell_type": "code",
   "execution_count": null,
   "id": "7e5ae660",
   "metadata": {},
   "outputs": [],
   "source": [
    "mmp_results"
   ]
  },
  {
   "cell_type": "code",
   "execution_count": null,
   "id": "21b325ed",
   "metadata": {},
   "outputs": [],
   "source": [
    "mmp_true = mmp_results['MMP_true_label']"
   ]
  },
  {
   "cell_type": "markdown",
   "id": "f1387a1e",
   "metadata": {},
   "source": [
    "## XGB"
   ]
  },
  {
   "cell_type": "code",
   "execution_count": null,
   "id": "9341cd72",
   "metadata": {},
   "outputs": [],
   "source": [
    "model_metrics[(model_metrics.endpoint == 'MMP')&(model_metrics.model=='XGB') ]['threshold_90_recall']"
   ]
  },
  {
   "cell_type": "code",
   "execution_count": null,
   "id": "a47ad55e",
   "metadata": {},
   "outputs": [],
   "source": [
    "threshold = model_metrics[(model_metrics.endpoint == 'MMP')&(model_metrics.model=='XGB') ]['threshold_90_recall'].values[0]"
   ]
  },
  {
   "cell_type": "code",
   "execution_count": null,
   "id": "9dc6b741",
   "metadata": {},
   "outputs": [],
   "source": [
    "roc_auc = roc_auc_score(mmp_true, mmp_results.MMP_XGB_proba)\n",
    "fpr, tpr, thresh = roc_curve(mmp_true, mmp_results.MMP_XGB_proba,\n",
    "                                     drop_intermediate=False)\n",
    "\n",
    "cm = confusion_matrix(mmp_true, (mmp_results.MMP_XGB_proba >= threshold).astype(int))\n",
    "tn, fp, fn, tp = cm.ravel()\n",
    "\n",
    "fpr_90_recall = fp / (fp + tn)\n",
    "\n",
    "bal_acc = balanced_accuracy_score(mmp_true, mmp_results.MMP_XGB)"
   ]
  },
  {
   "cell_type": "code",
   "execution_count": null,
   "id": "64dc4ae5",
   "metadata": {},
   "outputs": [],
   "source": [
    "metrics_evaluation = pd.DataFrame({'endpoint': ['MMP'],\n",
    "                                        'model': ['XGB'],\n",
    "                                        'fpr_90_recall_evaluation': [fpr_90_recall],\n",
    "                                        'roc_auc': [roc_auc],\n",
    "                                        'balanced_accuracy': [bal_acc]})\n",
    "\n",
    "metrics_evaluation_df = pd.concat([metrics_evaluation_df, metrics_evaluation], ignore_index=True)\n",
    "\n",
    "roc_mmp_xgb = pd.DataFrame({'fpr': fpr, 'tpr': tpr, 'thresh': thresh})"
   ]
  },
  {
   "cell_type": "code",
   "execution_count": null,
   "id": "ad03030b",
   "metadata": {},
   "outputs": [],
   "source": [
    "cm_mmp_xgb = ConfusionMatrixDisplay(confusion_matrix=cm, display_labels=['Inactive', 'Active'])\n",
    "cm_mmp_xgb.plot(cmap='Blues')"
   ]
  },
  {
   "cell_type": "markdown",
   "id": "5626b754",
   "metadata": {},
   "source": [
    "## RF"
   ]
  },
  {
   "cell_type": "code",
   "execution_count": null,
   "id": "edbc07d8",
   "metadata": {},
   "outputs": [],
   "source": [
    "roc_auc = roc_auc_score(mmp_true, mmp_results.MMP_RF_proba)\n",
    "fpr, tpr, thresh = roc_curve(mmp_true, mmp_results.MMP_RF_proba,\n",
    "                                     drop_intermediate=False)\n",
    "\n",
    "cm = confusion_matrix(mmp_true, mmp_results.MMP_RF)\n",
    "tn, fp, fn, tp  = cm.ravel()\n",
    "\n",
    "fpr_90_recall = fp / (fp + tn)\n",
    "\n",
    "bal_acc = balanced_accuracy_score(mmp_true, mmp_results.MMP_RF)"
   ]
  },
  {
   "cell_type": "code",
   "execution_count": null,
   "id": "73e2f696",
   "metadata": {},
   "outputs": [],
   "source": [
    "tn, fp, fn, tp"
   ]
  },
  {
   "cell_type": "code",
   "execution_count": null,
   "id": "0a81adf5",
   "metadata": {},
   "outputs": [],
   "source": [
    "fpr_90_recall"
   ]
  },
  {
   "cell_type": "code",
   "execution_count": null,
   "id": "588790b3",
   "metadata": {},
   "outputs": [],
   "source": [
    "metrics_evaluation = pd.DataFrame({'endpoint': ['MMP'],\n",
    "                                        'model': ['RF'],\n",
    "                                        'fpr_90_recall_evaluation': [fpr_90_recall],\n",
    "                                        'roc_auc': [roc_auc],\n",
    "                                        'balanced_accuracy': [bal_acc]})\n",
    "\n",
    "metrics_evaluation_df = pd.concat([metrics_evaluation_df, metrics_evaluation], ignore_index=True)\n",
    "\n",
    "roc_mmp_rf = pd.DataFrame({'fpr': fpr, 'tpr': tpr, 'thresh': thresh})"
   ]
  },
  {
   "cell_type": "code",
   "execution_count": null,
   "id": "e5926ad2",
   "metadata": {},
   "outputs": [],
   "source": [
    "cm_mmp_rf = ConfusionMatrixDisplay(confusion_matrix=cm, display_labels=['Inactive', 'Active'])\n",
    "cm_mmp_rf.plot(cmap='Blues')"
   ]
  },
  {
   "cell_type": "markdown",
   "id": "3f1c46e1",
   "metadata": {},
   "source": [
    "# Visualization"
   ]
  },
  {
   "cell_type": "code",
   "execution_count": null,
   "id": "811cf523",
   "metadata": {},
   "outputs": [],
   "source": [
    "import matplotlib.pyplot as plt\n",
    "\n",
    "# Set the figure parameters\n",
    "plt.rcParams.update({'figure.figsize':[9.8,9.8],\n",
    "                'font.size': 16, \n",
    "                'font.weight': 'normal',\n",
    "                'axes.titlesize': 12,\n",
    "                'axes.labelsize': 12,\n",
    "                'xtick.labelsize': 12,\n",
    "                'ytick.labelsize': 12,\n",
    "                'legend.fontsize': 12,\n",
    "                'legend.title_fontsize': 12,\n",
    "                'axes.titleweight': 'bold',\n",
    "                'font.family': 'serif',\n",
    "                'font.serif': ['Times New Roman'],\n",
    "                'figure.dpi':300,\n",
    "                \n",
    "                })\n",
    "\n",
    "fig, ax = plt.subplots(2, 2, figsize=(10, 9.5), dpi=300)\n",
    "# AHR\n",
    "cm_ahr_rf.plot(ax=ax[0, 0], cmap='Blues', colorbar=False)\n",
    "cm_ahr_rf.ax_.set_title('AhR RF')\n",
    "\n",
    "cm_ahr_xgb.plot(ax=ax[0, 1], cmap='Blues', colorbar=False)\n",
    "cm_ahr_xgb.ax_.set_title('AhR XGB')\n",
    "\n",
    "# MMP\n",
    "cm_mmp_rf.plot(ax=ax[1, 0], cmap='Oranges', colorbar=False)\n",
    "cm_mmp_rf.ax_.set_title('MMP RF')\n",
    "\n",
    "cm_mmp_xgb.plot(ax=ax[1, 1], cmap='Oranges', colorbar=False)\n",
    "cm_mmp_xgb.ax_.set_title('MMP XGB')\n",
    "\n",
    "plt.tight_layout()\n",
    "\n",
    "#plt.suptitle('Evaluation set\\nConfusion matrices for AhR and MMP models at TPR=90%', fontsize=16, fontweight='bold', y=1.03)\n",
    "\n",
    "\n",
    "\n",
    "plt.savefig('/Users/elli/Library/CloudStorage/OneDrive-Kruvelab/Master_thesis/Visualizations/2025-05-26_confusion_matrix_evaluation.pdf', dpi=300, bbox_inches='tight')\n"
   ]
  },
  {
   "cell_type": "markdown",
   "id": "2a9b1723",
   "metadata": {},
   "source": [
    "## ROC-AUC"
   ]
  },
  {
   "cell_type": "code",
   "execution_count": null,
   "id": "93d853a0",
   "metadata": {},
   "outputs": [],
   "source": [
    "#Concatenate all ROC data\n",
    "roc_data = pd.concat([roc_ahr_rf, roc_ahr_xgb, roc_mmp_rf, roc_mmp_xgb], axis=1)"
   ]
  },
  {
   "cell_type": "code",
   "execution_count": null,
   "id": "ba568c94",
   "metadata": {},
   "outputs": [],
   "source": [
    "#Plot all ROC curves\n",
    "fig, ax = plt.subplots(1, 2, figsize=(8, 5), dpi=300, tight_layout=True, sharex=True, sharey=True)\n",
    "\n",
    "ax[0].plot(roc_ahr_rf['fpr'], roc_ahr_rf['tpr'], label='AhR RF', color='#219EBC')\n",
    "ax[0].plot(roc_ahr_xgb['fpr'], roc_ahr_xgb['tpr'], label='AhR XGB', color='#023047')\n",
    "ax[0].grid(visible=True, which='both', linewidth=0.5, alpha=0.5)\n",
    "ax[0].set_title('AhR models')\n",
    "ax[0].legend(loc='lower right')\n",
    "ax[0].set_aspect('equal')\n",
    "\n",
    "ax[1].plot(roc_mmp_rf['fpr'], roc_mmp_rf['tpr'], label='MMP RF', color='#FFB703')\n",
    "ax[1].plot(roc_mmp_xgb['fpr'], roc_mmp_xgb['tpr'], label='MMP XGB', color='#FB8500')\n",
    "ax[1].grid(visible=True, which='both', linewidth=0.5, alpha=0.5)\n",
    "ax[1].set_title('MMP models')\n",
    "ax[1].legend(loc='lower right')\n",
    "ax[1].set_aspect('equal')\n",
    "\n",
    "\n",
    "#fig.suptitle('Evaluation set\\nROC-AUC for AhR and MMP models', fontweight='bold', fontsize=16, y = 0.93)\n",
    "fig.supxlabel('False Positive Rate', y=0.12, fontsize=12)\n",
    "fig.supylabel('True Positive Rate', x=0.05, fontsize=12)\n",
    "\n",
    "fig.savefig('/Users/elli/Library/CloudStorage/OneDrive-Kruvelab/Master_thesis/Visualizations/2025-05-26_roc_curves_ahr_mmp_evaluation.pdf', dpi=300, bbox_inches='tight',\n",
    "            transparent=True)"
   ]
  },
  {
   "cell_type": "markdown",
   "id": "59f9e777",
   "metadata": {},
   "source": [
    "# Metrics evaluation"
   ]
  },
  {
   "cell_type": "code",
   "execution_count": null,
   "id": "9e651d0b",
   "metadata": {},
   "outputs": [],
   "source": [
    "metrics_evaluation_df"
   ]
  }
 ],
 "metadata": {
  "kernelspec": {
   "display_name": "pubchem_cleaning",
   "language": "python",
   "name": "python3"
  },
  "language_info": {
   "codemirror_mode": {
    "name": "ipython",
    "version": 3
   },
   "file_extension": ".py",
   "mimetype": "text/x-python",
   "name": "python",
   "nbconvert_exporter": "python",
   "pygments_lexer": "ipython3",
   "version": "3.13.2"
  }
 },
 "nbformat": 4,
 "nbformat_minor": 5
}
