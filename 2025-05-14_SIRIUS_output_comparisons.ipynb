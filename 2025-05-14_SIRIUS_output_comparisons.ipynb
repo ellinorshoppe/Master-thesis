{
 "cells": [
  {
   "cell_type": "markdown",
   "id": "a161d7bc",
   "metadata": {},
   "source": [
    "# Comparison of predicted to true chemical formulae"
   ]
  },
  {
   "cell_type": "markdown",
   "id": "21e80cae",
   "metadata": {},
   "source": [
    "## Get the true molecular formula"
   ]
  },
  {
   "cell_type": "code",
   "execution_count": null,
   "id": "0026d50d",
   "metadata": {},
   "outputs": [],
   "source": [
    "import pandas as pd\n",
    "import numpy as np\n",
    "\n",
    "import pickle\n",
    "\n",
    "import rdkit\n",
    "from rdkit import Chem\n",
    "from rdkit.Chem import rdMolDescriptors"
   ]
  },
  {
   "cell_type": "code",
   "execution_count": null,
   "id": "ec061d95",
   "metadata": {},
   "outputs": [],
   "source": [
    "# made in 2025-05-12_SIRIUS_output_comparisons.ipynb in the 'output_no_mass_correction' folder\n",
    "with open('/Users/elli/Library/CloudStorage/OneDrive-Kruvelab/Master_thesis/Data/MSMS/SIRIUS_output/2025-05-13_ground_truth_molecular_formula_no_sirius.pkl', 'rb') as f:\n",
    "     ground_truth = pickle.load(f)"
   ]
  },
  {
   "cell_type": "code",
   "execution_count": null,
   "id": "47c770fd",
   "metadata": {},
   "outputs": [],
   "source": [
    "ground_truth.value_counts(subset='source')"
   ]
  },
  {
   "cell_type": "code",
   "execution_count": null,
   "id": "dc2daaae",
   "metadata": {},
   "outputs": [],
   "source": [
    "ground_truth"
   ]
  },
  {
   "cell_type": "markdown",
   "id": "5a1a3d74",
   "metadata": {},
   "source": [
    "## Get the predicted molecular formula"
   ]
  },
  {
   "cell_type": "code",
   "execution_count": null,
   "id": "58b20f76",
   "metadata": {},
   "outputs": [],
   "source": [
    "import glob\n",
    "import os"
   ]
  },
  {
   "cell_type": "code",
   "execution_count": null,
   "id": "6e34b717",
   "metadata": {},
   "outputs": [],
   "source": [
    "# Get the folder path for the SIRIUS output files\n",
    "exp_output_folder = '/Users/elli/Library/CloudStorage/OneDrive-Kruvelab/Master_thesis/Data/MSMS/SIRIUS_output/output_mass_correction_2025-05-13/ellinor_data'\n",
    "iris_dry_output_folder = '/Users/elli/Library/CloudStorage/OneDrive-Kruvelab/Master_thesis/Data/MSMS/SIRIUS_output/output_mass_correction_2025-05-13/iris_data_dry'\n",
    "iris_wet_output_folder = '/Users/elli/Library/CloudStorage/OneDrive-Kruvelab/Master_thesis/Data/MSMS/SIRIUS_output/output_mass_correction_2025-05-13/iris_data_wet'\n",
    "isabell_output_folder = '/Users/elli/Library/CloudStorage/OneDrive-Kruvelab/Master_thesis/Data/MSMS/SIRIUS_output/output_mass_correction_2025-05-13/isabell_data'\n",
    "library_data = '/Users/elli/Library/CloudStorage/OneDrive-Kruvelab/Master_thesis/Data/MSMS/SIRIUS_output/output_mass_correction_2025-05-13/library_data'"
   ]
  },
  {
   "cell_type": "code",
   "execution_count": null,
   "id": "0768a1f6",
   "metadata": {},
   "outputs": [],
   "source": [
    "def get_formula_predictions(output_folder):\n",
    "    '''\n",
    "    Get the formula predictions from the SIRIUS output files.\n",
    "    '''\n",
    "    formula_predictions = pd.DataFrame()\n",
    "\n",
    "    for filename in glob.glob(f'{output_folder}/*/formula_candidates.tsv'):\n",
    "        df = pd.read_csv(filename, sep='\\t')\n",
    "        df = df[['formulaRank', 'molecularFormula', 'adduct', 'precursorFormula', 'SiriusScore', 'numExplainedPeaks','massErrorPrecursor(ppm)']]\n",
    "        df['compound_name'] = os.path.basename(os.path.dirname(filename))\n",
    "        df = df[['compound_name', 'molecularFormula', 'formulaRank', 'adduct', 'precursorFormula', 'SiriusScore', 'numExplainedPeaks','massErrorPrecursor(ppm)']] #reorder columns\n",
    "\n",
    "        formula_predictions = pd.concat([formula_predictions, df], ignore_index=True)\n",
    "\n",
    "    return formula_predictions"
   ]
  },
  {
   "cell_type": "code",
   "execution_count": null,
   "id": "efd6d465",
   "metadata": {},
   "outputs": [],
   "source": [
    "# Save out formula predictions for each output folder\n",
    "sirius_output_folder_list = [exp_output_folder, iris_dry_output_folder, iris_wet_output_folder, isabell_output_folder, library_data]\n",
    "\n",
    "formula_predictions_df = pd.DataFrame()\n",
    "\n",
    "for output_folder in sirius_output_folder_list:\n",
    "    formula_predictions = get_formula_predictions(output_folder)\n",
    "    #formula_predictions.sort_values(by=['compound_name', 'formulaRank'], ascending=[True, True], inplace=True)\n",
    "    formula_predictions['dataset'] = os.path.basename(output_folder)\n",
    "\n",
    "    formula_predictions_df = pd.concat([formula_predictions_df, formula_predictions], ignore_index=True)"
   ]
  },
  {
   "cell_type": "code",
   "execution_count": null,
   "id": "4af644d8",
   "metadata": {},
   "outputs": [],
   "source": [
    "formula_predictions_df.rename(columns={'molecularFormula': 'molecular_formula',\n",
    "                                       'compound_name':'compound_name_sirius_output'}, inplace=True)"
   ]
  },
  {
   "cell_type": "code",
   "execution_count": null,
   "id": "04197cc4",
   "metadata": {},
   "outputs": [],
   "source": [
    "formula_predictions_df['compound_name_sirius_output'] = formula_predictions_df['compound_name_sirius_output'].apply(lambda x: x.split('_')[1:])\n",
    "\n",
    "formula_predictions_df['compound_name_sirius_output'] = ['_'.join(name[-2:]) if name[-1] == 'e' or name[-1] == 'H' or name[-1].isnumeric() \n",
    "                                                         else name[-1] \n",
    "                                                         for name in formula_predictions_df['compound_name_sirius_output'].tolist()]\n",
    "\n",
    "formula_predictions_df['compound_name_sirius_output'] = formula_predictions_df['compound_name_sirius_output'].apply(lambda x: x.translate(str.maketrans('', '', '()[]{}<>, :\\'\\\"')).split('_')[0])\n",
    "formula_predictions_df['compound_name_sirius_output'] = formula_predictions_df['compound_name_sirius_output'].str.lower()"
   ]
  },
  {
   "cell_type": "code",
   "execution_count": null,
   "id": "1ed0beb4",
   "metadata": {},
   "outputs": [],
   "source": [
    "formula_predictions_df[formula_predictions_df.dataset=='isabell_data'].drop_duplicates(subset='compound_name_sirius_output').sort_values(by='compound_name_sirius_output')"
   ]
  },
  {
   "cell_type": "code",
   "execution_count": null,
   "id": "efcff81b",
   "metadata": {},
   "outputs": [],
   "source": [
    "formula_predictions_df[formula_predictions_df.duplicated(subset=['compound_name_sirius_output', 'adduct'], keep='first')].sort_values(['compound_name_sirius_output', 'adduct'])"
   ]
  },
  {
   "cell_type": "code",
   "execution_count": null,
   "id": "608ca813",
   "metadata": {},
   "outputs": [],
   "source": [
    "formula_predictions_df['compound_name_sirius_output'] = formula_predictions_df['compound_name_sirius_output'].apply(lambda x: x.split('-'))\n",
    "\n",
    "formula_predictions_df['compound_name_sirius_output'] = ['-'.join(x[0:-1]) if x[-1] == 'e' or x[-1] == 'h' or x[-1].isnumeric()\n",
    "                                                         else '-'.join(x)\n",
    "                                                         for x in formula_predictions_df['compound_name_sirius_output']]"
   ]
  },
  {
   "cell_type": "markdown",
   "id": "3d4e47d4",
   "metadata": {},
   "source": [
    "## Combine predicted and true molecular formula"
   ]
  },
  {
   "cell_type": "code",
   "execution_count": null,
   "id": "0976ae19",
   "metadata": {},
   "outputs": [],
   "source": [
    "formula_predict_ground_truth = pd.merge(formula_predictions_df, ground_truth, how='left', on='molecular_formula')"
   ]
  },
  {
   "cell_type": "code",
   "execution_count": null,
   "id": "2b23edda",
   "metadata": {},
   "outputs": [],
   "source": [
    "formula_predict_ground_truth"
   ]
  },
  {
   "cell_type": "code",
   "execution_count": null,
   "id": "caa0dde8",
   "metadata": {},
   "outputs": [],
   "source": [
    "output_directory = '/Users/elli/Library/CloudStorage/OneDrive-Kruvelab/Master_thesis/Data/MSMS/SIRIUS_output/output_mass_correction_2025-05-13'\n",
    "with open(f'{output_directory}/2025-05-16_formula_predictions_to_true_formula.pkl', 'wb') as f:\n",
    "    pickle.dump(formula_predict_ground_truth, f)"
   ]
  },
  {
   "cell_type": "code",
   "execution_count": null,
   "id": "e525d0cd",
   "metadata": {},
   "outputs": [],
   "source": [
    "correct_prediction = formula_predict_ground_truth[formula_predict_ground_truth['id']==formula_predict_ground_truth['compound_name_sirius_output']][['compound_name_sirius_output', 'id', 'molecular_formula', 'formulaRank', 'adduct', 'source']]"
   ]
  },
  {
   "cell_type": "code",
   "execution_count": null,
   "id": "c23b4226",
   "metadata": {},
   "outputs": [],
   "source": [
    "correct_prediction.sort_values(by=['source','compound_name_sirius_output'], ascending=[True, True], inplace=True)\n",
    "\n",
    "ducplicated_correct_prediction = correct_prediction[correct_prediction['id'].duplicated(keep=False)]\n",
    "unique_correct_prediction = correct_prediction[~correct_prediction['id'].duplicated(keep=False)]"
   ]
  },
  {
   "cell_type": "code",
   "execution_count": null,
   "id": "5670cc11",
   "metadata": {},
   "outputs": [],
   "source": [
    "unique_correct_prediction[['source', 'adduct']].value_counts()"
   ]
  },
  {
   "cell_type": "code",
   "execution_count": null,
   "id": "8eb2a649",
   "metadata": {},
   "outputs": [],
   "source": [
    "unique_correct_prediction[unique_correct_prediction['formulaRank']==1][['source', 'adduct']].value_counts()"
   ]
  },
  {
   "cell_type": "code",
   "execution_count": null,
   "id": "d3fe347d",
   "metadata": {},
   "outputs": [],
   "source": [
    "ducplicated_correct_prediction"
   ]
  },
  {
   "cell_type": "code",
   "execution_count": null,
   "id": "a9eed472",
   "metadata": {},
   "outputs": [],
   "source": [
    "ducplicated_correct_prediction.columns"
   ]
  },
  {
   "cell_type": "code",
   "execution_count": null,
   "id": "53c55230",
   "metadata": {},
   "outputs": [],
   "source": [
    "duplicated_unqiue_ionization = ducplicated_correct_prediction[~ducplicated_correct_prediction.duplicated(keep='first')]\n",
    "\n",
    "duplicated_unqiue_ionization[['source', 'adduct']].value_counts()"
   ]
  },
  {
   "cell_type": "code",
   "execution_count": null,
   "id": "8f6043e2",
   "metadata": {},
   "outputs": [],
   "source": [
    "duplicated_unqiue_ionization[duplicated_unqiue_ionization.formulaRank==1][['source', 'adduct']].value_counts()"
   ]
  },
  {
   "cell_type": "code",
   "execution_count": null,
   "id": "47e5237b",
   "metadata": {},
   "outputs": [],
   "source": [
    "duplicated_unqiue_ionization"
   ]
  },
  {
   "cell_type": "code",
   "execution_count": null,
   "id": "ddb5cb97",
   "metadata": {},
   "outputs": [],
   "source": [
    "duplicated_unqiue_ionization[duplicated_unqiue_ionization['formulaRank']==1][['source', 'adduct']].value_counts()"
   ]
  },
  {
   "cell_type": "code",
   "execution_count": null,
   "id": "2150d154",
   "metadata": {},
   "outputs": [],
   "source": [
    "duplicated_unqiue_ionization[(duplicated_unqiue_ionization.source=='ellinor')]"
   ]
  },
  {
   "cell_type": "code",
   "execution_count": null,
   "id": "58f9f593",
   "metadata": {},
   "outputs": [],
   "source": [
    "formula_predictions_df_merged[formula_predictions_df_merged['name'].notna()][['compound_name_prediction', 'name', 'molecular_formula', 'dataset', 'formulaRank', 'adduct', 'precursorFormula', 'SiriusScore', 'numExplainedPeaks','massErrorPrecursor(ppm)']]"
   ]
  },
  {
   "cell_type": "code",
   "execution_count": null,
   "id": "20fed12b",
   "metadata": {},
   "outputs": [],
   "source": [
    "formula_predictions_df_merged[formula_predictions_df_merged['id'].notna()]"
   ]
  },
  {
   "cell_type": "code",
   "execution_count": null,
   "id": "e141b2c4",
   "metadata": {},
   "outputs": [],
   "source": [
    "formula_predictions_df_merged[formula_predictions_df_merged['InChIKey14'].notna()]"
   ]
  },
  {
   "cell_type": "code",
   "execution_count": null,
   "id": "cb67fa0b",
   "metadata": {},
   "outputs": [],
   "source": [
    "for df in list_of_dfs:\n",
    "    # Add the molecular formula to the dataframe\n",
    "    formula_predictions_df = pd.merge(formula_predictions_df, df[['InChIKey14', 'molecular_formula']], on='molecular_formula', how='left')"
   ]
  }
 ],
 "metadata": {
  "kernelspec": {
   "display_name": "pubchem_cleaning",
   "language": "python",
   "name": "python3"
  },
  "language_info": {
   "codemirror_mode": {
    "name": "ipython",
    "version": 3
   },
   "file_extension": ".py",
   "mimetype": "text/x-python",
   "name": "python",
   "nbconvert_exporter": "python",
   "pygments_lexer": "ipython3",
   "version": "3.13.2"
  }
 },
 "nbformat": 4,
 "nbformat_minor": 5
}
